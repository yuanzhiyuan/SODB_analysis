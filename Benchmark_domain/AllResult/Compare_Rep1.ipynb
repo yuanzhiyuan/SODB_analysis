{
 "cells": [
  {
   "cell_type": "code",
   "execution_count": 2,
   "metadata": {},
   "outputs": [],
   "source": [
    "import os\n",
    "import pandas as pd\n",
    "import numpy as np\n",
    "import scanpy as sc\n",
    "import anndata as ad\n",
    "\n",
    "import matplotlib.pyplot as plt\n",
    "import seaborn as sns"
   ]
  },
  {
   "cell_type": "code",
   "execution_count": 62,
   "metadata": {},
   "outputs": [],
   "source": [
    "sc.set_figure_params(vector_friendly=False,format='pdf',\n",
    "                     transparent=True,dpi=50,\n",
    "                    fontsize=50\n",
    "                    )\n",
    "plt.rcParams[\"figure.figsize\"] = (8, 8)\n",
    "\n",
    "sns.set_style('white')"
   ]
  },
  {
   "cell_type": "code",
   "execution_count": 4,
   "metadata": {},
   "outputs": [],
   "source": [
    "Method_list = [\n",
    "    'BayesSpace',\n",
    "    'CCST_leiden',\n",
    "    'CCST_louvain',\n",
    "    'conST',\n",
    "    'SCAN-IT',\n",
    "    'SEDR',\n",
    "    'SpaceFlow',\n",
    "    'SpaGCN',\n",
    "    'STAGATE'\n",
    "]"
   ]
  },
  {
   "cell_type": "code",
   "execution_count": 5,
   "metadata": {},
   "outputs": [],
   "source": [
    "sample_list = ['rep1','rep2']"
   ]
  },
  {
   "cell_type": "markdown",
   "metadata": {},
   "source": [
    "### rep1"
   ]
  },
  {
   "cell_type": "code",
   "execution_count": 79,
   "metadata": {},
   "outputs": [],
   "source": [
    "repstr = 'rep1'"
   ]
  },
  {
   "cell_type": "code",
   "execution_count": 6,
   "metadata": {},
   "outputs": [
    {
     "name": "stderr",
     "output_type": "stream",
     "text": [
      "/home/yzy/anaconda3/envs/SODB/lib/python3.9/site-packages/anndata/_core/anndata.py:1830: UserWarning: Variable names are not unique. To make them unique, call `.var_names_make_unique`.\n",
      "  utils.warn_names_duplicates(\"var\")\n",
      "/home/yzy/anaconda3/envs/SODB/lib/python3.9/site-packages/anndata/_core/anndata.py:1830: UserWarning: Variable names are not unique. To make them unique, call `.var_names_make_unique`.\n",
      "  utils.warn_names_duplicates(\"var\")\n",
      "/home/yzy/anaconda3/envs/SODB/lib/python3.9/site-packages/anndata/_core/anndata.py:1830: UserWarning: Variable names are not unique. To make them unique, call `.var_names_make_unique`.\n",
      "  utils.warn_names_duplicates(\"var\")\n",
      "/home/yzy/anaconda3/envs/SODB/lib/python3.9/site-packages/anndata/_core/anndata.py:1830: UserWarning: Variable names are not unique. To make them unique, call `.var_names_make_unique`.\n",
      "  utils.warn_names_duplicates(\"var\")\n"
     ]
    }
   ],
   "source": [
    "adata_dict = {}\n",
    "for method in Method_list:\n",
    "    adata = sc.read_h5ad(f'{method}_{repstr}.h5ad')\n",
    "    adata_dict[method] = adata.copy()"
   ]
  },
  {
   "cell_type": "code",
   "execution_count": 7,
   "metadata": {
    "collapsed": true,
    "jupyter": {
     "outputs_hidden": true
    }
   },
   "outputs": [
    {
     "data": {
      "text/plain": [
       "{'BayesSpace': AnnData object with n_obs × n_vars = 3355 × 32285\n",
       "     obs: 'in_tissue', 'array_row', 'array_col', 'BayesSpace_1', 'BayesSpace_2', 'BayesSpace_3', 'BayesSpace_4', 'BayesSpace_5', 'BayesSpace_6', 'BayesSpace_7', 'BayesSpace_8', 'BayesSpace_9', 'BayesSpace_10'\n",
       "     var: 'gene_ids', 'feature_types', 'genome'\n",
       "     uns: 'spatial'\n",
       "     obsm: 'spatial',\n",
       " 'CCST_leiden': AnnData object with n_obs × n_vars = 3355 × 256\n",
       "     obs: 'CCST_leiden_1', 'CCST_leiden_2', 'CCST_leiden_3', 'CCST_leiden_4', 'CCST_leiden_5', 'CCST_leiden_6', 'CCST_leiden_7', 'CCST_leiden_8', 'CCST_leiden_9', 'CCST_leiden_10'\n",
       "     uns: 'neighbors', 'pca', 'spatial'\n",
       "     obsm: 'X_pca', 'spatial'\n",
       "     varm: 'PCs'\n",
       "     obsp: 'connectivities', 'distances',\n",
       " 'CCST_louvain': AnnData object with n_obs × n_vars = 3355 × 256\n",
       "     obs: 'CCST_louvain_1', 'CCST_louvain_2', 'CCST_louvain_3', 'CCST_louvain_4', 'CCST_louvain_5', 'CCST_louvain_6', 'CCST_louvain_7', 'CCST_louvain_8', 'CCST_louvain_9', 'CCST_louvain_10'\n",
       "     uns: 'neighbors', 'pca', 'spatial'\n",
       "     obsm: 'X_pca', 'spatial'\n",
       "     varm: 'PCs'\n",
       "     obsp: 'connectivities', 'distances',\n",
       " 'conST': AnnData object with n_obs × n_vars = 3355 × 32285\n",
       "     obs: 'in_tissue', 'array_row', 'array_col', 'conST_1', 'conST_refined_1', 'conST_2', 'conST_refined_2', 'conST_3', 'conST_refined_3', 'conST_4', 'conST_refined_4', 'conST_5', 'conST_refined_5', 'conST_6', 'conST_refined_6', 'conST_7', 'conST_refined_7', 'conST_8', 'conST_refined_8', 'conST_9', 'conST_refined_9', 'conST_10', 'conST_refined_10'\n",
       "     var: 'gene_ids', 'feature_types', 'genome'\n",
       "     uns: 'spatial'\n",
       "     obsm: 'spatial',\n",
       " 'SCAN-IT': AnnData object with n_obs × n_vars = 3355 × 32285\n",
       "     obs: 'in_tissue', 'array_row', 'array_col', 'scanit_leiden_1', 'scanit_leiden_2', 'scanit_leiden_3', 'scanit_leiden_4', 'scanit_leiden_5', 'scanit_leiden_6', 'scanit_leiden_7', 'scanit_leiden_8', 'scanit_leiden_9', 'scanit_leiden_10'\n",
       "     var: 'gene_ids', 'feature_types', 'genome', 'mean', 'std'\n",
       "     uns: 'log1p', 'spatial'\n",
       "     obsm: 'X_scanit', 'spatial'\n",
       "     obsp: 'scanit-graph',\n",
       " 'SEDR': AnnData object with n_obs × n_vars = 3355 × 28\n",
       "     obs: 'SEDR_leiden_1', 'SEDR_leiden_2', 'SEDR_leiden_3', 'SEDR_leiden_4', 'SEDR_leiden_5', 'SEDR_leiden_6', 'SEDR_leiden_7', 'SEDR_leiden_8', 'SEDR_leiden_9', 'SEDR_leiden_10'\n",
       "     uns: 'neighbors', 'spatial'\n",
       "     obsm: 'spatial'\n",
       "     obsp: 'connectivities', 'distances',\n",
       " 'SpaceFlow': AnnData object with n_obs × n_vars = 3355 × 32285\n",
       "     obs: 'in_tissue', 'array_row', 'array_col', 'SpaceFlow_1', 'SpaceFlow_2', 'SpaceFlow_3', 'SpaceFlow_4', 'SpaceFlow_5', 'SpaceFlow_6', 'SpaceFlow_7', 'SpaceFlow_8', 'SpaceFlow_9', 'SpaceFlow_10'\n",
       "     var: 'gene_ids', 'feature_types', 'genome'\n",
       "     uns: 'spatial'\n",
       "     obsm: 'spatial',\n",
       " 'SpaGCN': AnnData object with n_obs × n_vars = 3355 × 19125\n",
       "     obs: 'in_tissue', 'array_row', 'array_col', 'x_pixel', 'y_pixel', 'n_counts', 'pred_1', 'refined_pred_1', 'pred_2', 'refined_pred_2', 'pred_3', 'refined_pred_3', 'pred_4', 'refined_pred_4', 'pred_5', 'refined_pred_5', 'pred_6', 'refined_pred_6', 'pred_7', 'refined_pred_7', 'pred_8', 'refined_pred_8', 'pred_9', 'refined_pred_9', 'pred_10', 'refined_pred_10'\n",
       "     var: 'gene_ids', 'feature_types', 'genome', 'genename'\n",
       "     uns: 'log1p', 'spatial'\n",
       "     obsm: 'spatial',\n",
       " 'STAGATE': AnnData object with n_obs × n_vars = 3355 × 32285\n",
       "     obs: 'in_tissue', 'array_row', 'array_col', 'mclust', 'stagate_mclust_1', 'stagate_mclust_2', 'stagate_mclust_3', 'stagate_mclust_4', 'stagate_mclust_5', 'stagate_mclust_6', 'stagate_mclust_7', 'stagate_mclust_8', 'stagate_mclust_9', 'stagate_mclust_10'\n",
       "     var: 'gene_ids', 'feature_types', 'genome', 'highly_variable', 'highly_variable_rank', 'means', 'variances', 'variances_norm'\n",
       "     uns: 'Spatial_Net', 'hvg', 'log1p', 'spatial'\n",
       "     obsm: 'STAGATE', 'spatial'}"
      ]
     },
     "execution_count": 7,
     "metadata": {},
     "output_type": "execute_result"
    }
   ],
   "source": [
    "adata_dict"
   ]
  },
  {
   "cell_type": "code",
   "execution_count": 105,
   "metadata": {},
   "outputs": [],
   "source": [
    "method_parameter_dict = {\n",
    "    'BayesSpace':'k',\n",
    "    'CCST_leiden':'res',\n",
    "    'CCST_louvain':'res',\n",
    "    'conST':'k',\n",
    "     'SCAN-IT':'res',\n",
    "    'SEDR':'res',\n",
    "    'SpaceFlow':'res',\n",
    "    'SpaGCN':'res',\n",
    "    'STAGATE':'k'\n",
    "    \n",
    "}"
   ]
  },
  {
   "cell_type": "markdown",
   "metadata": {},
   "source": [
    "#### BayesSpace"
   ]
  },
  {
   "cell_type": "code",
   "execution_count": 155,
   "metadata": {},
   "outputs": [],
   "source": [
    "plt.rcParams.update({'font.size': 60,'font.weight':'black'})"
   ]
  },
  {
   "cell_type": "code",
   "execution_count": 156,
   "metadata": {},
   "outputs": [],
   "source": [
    "base_name = 'BayesSpace'\n",
    "\n",
    "obs_list = [f'{base_name}_{i+1}' for i in range(10)]\n",
    "\n",
    "if method_parameter_dict[base_name]=='res':\n",
    "    title_list = [f'res={i}' for i in [0.1,0.5,1,1.5,2,2.5,3,3.5,4,4.5]]\n",
    "elif method_parameter_dict[base_name]=='k':\n",
    "    title_list = [f'k={i+5}' for i in np.arange(10)]\n",
    "    "
   ]
  },
  {
   "cell_type": "code",
   "execution_count": 157,
   "metadata": {},
   "outputs": [],
   "source": [
    "# plt.rcParams[\"figure.figsize\"] = (8, 8)\n",
    "# fig = plt.figure()\n",
    "axes = sc.pl.spatial(adata_dict[base_name],  color=obs_list,title=title_list,\n",
    "                add_outline=False,ncols=5,show=False,\n",
    "                     legend_fontsize =20,\n",
    "                     wspace = 0.1,\n",
    "                     hspace= 0.2,\n",
    "                     legend_loc=None\n",
    "                     \n",
    "               )\n",
    "plt.suptitle(f'{base_name} on {repstr}',x=0.45)\n",
    "plt.savefig(f'{base_name}_{repstr}.png')\n",
    "plt.close()\n",
    "\n",
    "# plt.gca().set_aspect('equal', adjustable='box')"
   ]
  },
  {
   "cell_type": "code",
   "execution_count": 158,
   "metadata": {},
   "outputs": [],
   "source": [
    "sc.pl.spatial(adata_dict[base_name], img_key=\"hires\", color=obs_list,\n",
    "              title=title_list,\n",
    "              ncols=5,show=False,\n",
    "             legend_fontsize =20,\n",
    "             wspace = 0.1,\n",
    "              \n",
    "              crop_coord=[2000, 6000, 6000, 9000], \n",
    "              alpha=0.5,\n",
    "                     legend_loc=None\n",
    "             )\n",
    "\n",
    "plt.suptitle(f'{base_name} on {repstr} (ROI)',x=0.45)\n",
    "plt.savefig(f'{base_name}_{repstr}_ROI.png')\n",
    "plt.close()\n"
   ]
  },
  {
   "cell_type": "markdown",
   "metadata": {},
   "source": [
    "#### CCST_leiden"
   ]
  },
  {
   "cell_type": "code",
   "execution_count": null,
   "metadata": {},
   "outputs": [],
   "source": []
  },
  {
   "cell_type": "code",
   "execution_count": 159,
   "metadata": {},
   "outputs": [],
   "source": [
    "base_name = 'CCST_leiden'\n",
    "obs_list = [f'{base_name}_{i+1}' for i in range(10)]\n",
    "\n",
    "if method_parameter_dict[base_name]=='res':\n",
    "    title_list = [f'res={i}' for i in [0.1,0.5,1,1.5,2,2.5,3,3.5,4,4.5]]\n",
    "elif method_parameter_dict[base_name]=='k':\n",
    "    title_list = [f'k={i+5}' for i in np.arange(10)]"
   ]
  },
  {
   "cell_type": "code",
   "execution_count": 160,
   "metadata": {},
   "outputs": [],
   "source": [
    "# plt.rcParams[\"figure.figsize\"] = (8, 8)\n",
    "# fig = plt.figure()\n",
    "axes = sc.pl.spatial(adata_dict[base_name],  color=obs_list,title=title_list,\n",
    "                add_outline=False,ncols=5,show=False,\n",
    "                     legend_fontsize =20,\n",
    "                     wspace = 0.1,\n",
    "                     hspace= 0.2,\n",
    "                     legend_loc=None\n",
    "               )\n",
    "plt.suptitle(f'{base_name} on {repstr}',x=0.45)\n",
    "plt.savefig(f'{base_name}_{repstr}.png')\n",
    "plt.close()\n",
    "\n",
    "# plt.gca().set_aspect('equal', adjustable='box')"
   ]
  },
  {
   "cell_type": "code",
   "execution_count": 161,
   "metadata": {},
   "outputs": [],
   "source": [
    "sc.pl.spatial(adata_dict[base_name], img_key=\"hires\", color=obs_list,\n",
    "              title=title_list,\n",
    "              ncols=5,show=False,\n",
    "             legend_fontsize =20,\n",
    "             wspace = 0.1,\n",
    "              \n",
    "              crop_coord=[2000, 6000, 6000, 9000], \n",
    "              alpha=0.5,\n",
    "                     legend_loc=None\n",
    "             )\n",
    "\n",
    "plt.suptitle(f'{base_name} on {repstr} (ROI)',x=0.45)\n",
    "plt.savefig(f'{base_name}_{repstr}_ROI.png')\n",
    "plt.close()\n"
   ]
  },
  {
   "cell_type": "code",
   "execution_count": null,
   "metadata": {},
   "outputs": [],
   "source": []
  },
  {
   "cell_type": "markdown",
   "metadata": {},
   "source": [
    "#### CCST_louvain"
   ]
  },
  {
   "cell_type": "code",
   "execution_count": null,
   "metadata": {},
   "outputs": [],
   "source": []
  },
  {
   "cell_type": "code",
   "execution_count": 162,
   "metadata": {},
   "outputs": [],
   "source": [
    "base_name = 'CCST_louvain'\n",
    "obs_list = [f'{base_name}_{i+1}' for i in range(10)]\n",
    "\n",
    "if method_parameter_dict[base_name]=='res':\n",
    "    title_list = [f'res={i}' for i in [0.1,0.5,1,1.5,2,2.5,3,3.5,4,4.5]]\n",
    "elif method_parameter_dict[base_name]=='k':\n",
    "    title_list = [f'k={i+5}' for i in np.arange(10)]"
   ]
  },
  {
   "cell_type": "code",
   "execution_count": 163,
   "metadata": {},
   "outputs": [],
   "source": [
    "# plt.rcParams[\"figure.figsize\"] = (8, 8)\n",
    "# fig = plt.figure()\n",
    "axes = sc.pl.spatial(adata_dict[base_name],  color=obs_list,title=title_list,\n",
    "                add_outline=False,ncols=5,show=False,\n",
    "                     legend_fontsize =20,\n",
    "                     wspace = 0.1,\n",
    "                     hspace= 0.2,\n",
    "                     legend_loc=None\n",
    "               )\n",
    "plt.suptitle(f'{base_name} on {repstr}',x=0.45)\n",
    "plt.savefig(f'{base_name}_{repstr}.png')\n",
    "plt.close()\n",
    "\n",
    "# plt.gca().set_aspect('equal', adjustable='box')"
   ]
  },
  {
   "cell_type": "code",
   "execution_count": 164,
   "metadata": {},
   "outputs": [],
   "source": [
    "sc.pl.spatial(adata_dict[base_name], img_key=\"hires\", color=obs_list,\n",
    "              title=title_list,\n",
    "              ncols=5,show=False,\n",
    "             legend_fontsize =20,\n",
    "             wspace = 0.1,\n",
    "              \n",
    "              crop_coord=[2000, 6000, 6000, 9000], \n",
    "              alpha=0.5,\n",
    "                     legend_loc=None\n",
    "             )\n",
    "\n",
    "plt.suptitle(f'{base_name} on {repstr} (ROI)',x=0.45)\n",
    "plt.savefig(f'{base_name}_{repstr}_ROI.png')\n",
    "plt.close()\n"
   ]
  },
  {
   "cell_type": "code",
   "execution_count": null,
   "metadata": {},
   "outputs": [],
   "source": []
  },
  {
   "cell_type": "markdown",
   "metadata": {},
   "source": [
    "#### conST"
   ]
  },
  {
   "cell_type": "code",
   "execution_count": null,
   "metadata": {},
   "outputs": [],
   "source": []
  },
  {
   "cell_type": "code",
   "execution_count": 121,
   "metadata": {},
   "outputs": [],
   "source": [
    "base_name = 'conST'\n",
    "obs_list = [f'{base_name}_{i+1}' for i in range(10)]\n",
    "\n",
    "if method_parameter_dict[base_name]=='res':\n",
    "    title_list = [f'res={i}' for i in [0.1,0.5,1,1.5,2,2.5,3,3.5,4,4.5]]\n",
    "elif method_parameter_dict[base_name]=='k':\n",
    "    title_list = [f'k={i+5}' for i in np.arange(10)]"
   ]
  },
  {
   "cell_type": "code",
   "execution_count": 122,
   "metadata": {},
   "outputs": [],
   "source": [
    "# plt.rcParams[\"figure.figsize\"] = (8, 8)\n",
    "# fig = plt.figure()\n",
    "axes = sc.pl.spatial(adata_dict[base_name],  color=obs_list,title=title_list,\n",
    "                add_outline=False,ncols=5,show=False,\n",
    "                     legend_fontsize =20,\n",
    "                     wspace = 0.1,\n",
    "                     hspace= 0.2,\n",
    "                     legend_loc=None\n",
    "               )\n",
    "plt.suptitle(f'{base_name} on {repstr}',x=0.45)\n",
    "plt.savefig(f'{base_name}_{repstr}.png')\n",
    "plt.close()\n",
    "\n",
    "# plt.gca().set_aspect('equal', adjustable='box')"
   ]
  },
  {
   "cell_type": "code",
   "execution_count": 123,
   "metadata": {},
   "outputs": [],
   "source": [
    "sc.pl.spatial(adata_dict[base_name], img_key=\"hires\", color=obs_list,\n",
    "              title=title_list,\n",
    "              ncols=5,show=False,\n",
    "             legend_fontsize =20,\n",
    "             wspace = 0.1,\n",
    "              \n",
    "              crop_coord=[2000, 6000, 6000, 9000], \n",
    "              alpha=0.5,\n",
    "                     legend_loc=None\n",
    "             )\n",
    "\n",
    "plt.suptitle(f'{base_name} on {repstr} (ROI)',x=0.45)\n",
    "plt.savefig(f'{base_name}_{repstr}_ROI.png')\n",
    "plt.close()\n"
   ]
  },
  {
   "cell_type": "markdown",
   "metadata": {},
   "source": [
    "#### SCAN-IT"
   ]
  },
  {
   "cell_type": "code",
   "execution_count": 125,
   "metadata": {},
   "outputs": [
    {
     "data": {
      "text/plain": [
       "AnnData object with n_obs × n_vars = 3355 × 32285\n",
       "    obs: 'in_tissue', 'array_row', 'array_col', 'scanit_leiden_1', 'scanit_leiden_2', 'scanit_leiden_3', 'scanit_leiden_4', 'scanit_leiden_5', 'scanit_leiden_6', 'scanit_leiden_7', 'scanit_leiden_8', 'scanit_leiden_9', 'scanit_leiden_10'\n",
       "    var: 'gene_ids', 'feature_types', 'genome', 'mean', 'std'\n",
       "    uns: 'log1p', 'spatial'\n",
       "    obsm: 'X_scanit', 'spatial'\n",
       "    obsp: 'scanit-graph'"
      ]
     },
     "execution_count": 125,
     "metadata": {},
     "output_type": "execute_result"
    }
   ],
   "source": [
    "adata_dict['SCAN-IT']"
   ]
  },
  {
   "cell_type": "code",
   "execution_count": 129,
   "metadata": {},
   "outputs": [],
   "source": [
    "base_name = 'SCAN-IT'\n",
    "obs_base_name = 'scanit_leiden'\n",
    "obs_list = [f'{obs_base_name}_{i+1}' for i in range(10)]\n",
    "\n",
    "if method_parameter_dict[base_name]=='res':\n",
    "    title_list = [f'res={i}' for i in [0.1,0.5,1,1.5,2,2.5,3,3.5,4,4.5]]\n",
    "elif method_parameter_dict[base_name]=='k':\n",
    "    title_list = [f'k={i+5}' for i in np.arange(10)]"
   ]
  },
  {
   "cell_type": "code",
   "execution_count": 130,
   "metadata": {},
   "outputs": [],
   "source": [
    "# plt.rcParams[\"figure.figsize\"] = (8, 8)\n",
    "# fig = plt.figure()\n",
    "axes = sc.pl.spatial(adata_dict[base_name],  color=obs_list,title=title_list,\n",
    "                add_outline=False,ncols=5,show=False,\n",
    "                     legend_fontsize =20,\n",
    "                     wspace = 0.1,\n",
    "                     hspace= 0.2,\n",
    "                     legend_loc=None\n",
    "               )\n",
    "plt.suptitle(f'{base_name} on {repstr}',x=0.45)\n",
    "plt.savefig(f'{base_name}_{repstr}.png')\n",
    "plt.close()\n",
    "\n",
    "# plt.gca().set_aspect('equal', adjustable='box')"
   ]
  },
  {
   "cell_type": "code",
   "execution_count": 131,
   "metadata": {},
   "outputs": [],
   "source": [
    "sc.pl.spatial(adata_dict[base_name], img_key=\"hires\", color=obs_list,\n",
    "              title=title_list,\n",
    "              ncols=5,show=False,\n",
    "             legend_fontsize =20,\n",
    "             wspace = 0.1,\n",
    "              \n",
    "              crop_coord=[2000, 6000, 6000, 9000], \n",
    "              alpha=0.5,\n",
    "                     legend_loc=None\n",
    "             )\n",
    "\n",
    "plt.suptitle(f'{base_name} on {repstr} (ROI)',x=0.45)\n",
    "plt.savefig(f'{base_name}_{repstr}_ROI.png')\n",
    "plt.close()\n"
   ]
  },
  {
   "cell_type": "markdown",
   "metadata": {},
   "source": [
    "#### SEDR"
   ]
  },
  {
   "cell_type": "code",
   "execution_count": null,
   "metadata": {},
   "outputs": [],
   "source": []
  },
  {
   "cell_type": "code",
   "execution_count": 132,
   "metadata": {},
   "outputs": [],
   "source": [
    "base_name = 'SEDR'\n",
    "obs_base_name = 'SEDR_leiden'\n",
    "obs_list = [f'{obs_base_name}_{i+1}' for i in range(10)]\n",
    "\n",
    "if method_parameter_dict[base_name]=='res':\n",
    "    title_list = [f'res={i}' for i in [0.1,0.5,1,1.5,2,2.5,3,3.5,4,4.5]]\n",
    "elif method_parameter_dict[base_name]=='k':\n",
    "    title_list = [f'k={i+5}' for i in np.arange(10)]"
   ]
  },
  {
   "cell_type": "code",
   "execution_count": 133,
   "metadata": {},
   "outputs": [],
   "source": [
    "# plt.rcParams[\"figure.figsize\"] = (8, 8)\n",
    "# fig = plt.figure()\n",
    "axes = sc.pl.spatial(adata_dict[base_name],  color=obs_list,title=title_list,\n",
    "                add_outline=False,ncols=5,show=False,\n",
    "                     legend_fontsize =20,\n",
    "                     wspace = 0.1,\n",
    "                     hspace= 0.2,\n",
    "                     legend_loc=None\n",
    "               )\n",
    "plt.suptitle(f'{base_name} on {repstr}',x=0.45)\n",
    "plt.savefig(f'{base_name}_{repstr}.png')\n",
    "plt.close()\n",
    "\n",
    "# plt.gca().set_aspect('equal', adjustable='box')"
   ]
  },
  {
   "cell_type": "code",
   "execution_count": 134,
   "metadata": {},
   "outputs": [],
   "source": [
    "sc.pl.spatial(adata_dict[base_name], img_key=\"hires\", color=obs_list,\n",
    "              title=title_list,\n",
    "              ncols=5,show=False,\n",
    "             legend_fontsize =20,\n",
    "             wspace = 0.1,\n",
    "              \n",
    "              crop_coord=[2000, 6000, 6000, 9000], \n",
    "              alpha=0.5,\n",
    "                     legend_loc=None\n",
    "             )\n",
    "\n",
    "plt.suptitle(f'{base_name} on {repstr} (ROI)',x=0.45)\n",
    "plt.savefig(f'{base_name}_{repstr}_ROI.png')\n",
    "plt.close()\n"
   ]
  },
  {
   "cell_type": "markdown",
   "metadata": {},
   "source": [
    "### SpaceFlow"
   ]
  },
  {
   "cell_type": "code",
   "execution_count": null,
   "metadata": {},
   "outputs": [],
   "source": []
  },
  {
   "cell_type": "code",
   "execution_count": 147,
   "metadata": {},
   "outputs": [],
   "source": [
    "base_name = 'SpaceFlow'\n",
    "obs_base_name = 'SpaceFlow'\n",
    "obs_list = [f'{obs_base_name}_{i+1}' for i in range(10)]\n",
    "\n",
    "if method_parameter_dict[base_name]=='res':\n",
    "    title_list = [f'res={i}' for i in [0.1,0.5,1,1.5,2,2.5,3,3.5,4,4.5]]\n",
    "elif method_parameter_dict[base_name]=='k':\n",
    "    title_list = [f'k={i+5}' for i in np.arange(10)]"
   ]
  },
  {
   "cell_type": "code",
   "execution_count": 148,
   "metadata": {},
   "outputs": [],
   "source": [
    "for obs in obs_list:\n",
    "    adata_dict[base_name].obs[obs] = adata_dict[base_name].obs[obs].astype('str')\n",
    "    adata_dict[base_name].obs[obs] = adata_dict[base_name].obs[obs].astype('category')"
   ]
  },
  {
   "cell_type": "code",
   "execution_count": 149,
   "metadata": {},
   "outputs": [],
   "source": [
    "# plt.rcParams[\"figure.figsize\"] = (8, 8)\n",
    "# fig = plt.figure()\n",
    "axes = sc.pl.spatial(adata_dict[base_name],  color=obs_list,title=title_list,\n",
    "                add_outline=False,ncols=5,show=False,\n",
    "                     legend_fontsize =20,\n",
    "                     wspace = 0.1,\n",
    "                     hspace= 0.2,\n",
    "                     legend_loc=None\n",
    "               )\n",
    "plt.suptitle(f'{base_name} on {repstr}',x=0.45)\n",
    "plt.savefig(f'{base_name}_{repstr}.png')\n",
    "plt.close()\n",
    "\n",
    "# plt.gca().set_aspect('equal', adjustable='box')"
   ]
  },
  {
   "cell_type": "code",
   "execution_count": 150,
   "metadata": {},
   "outputs": [],
   "source": [
    "sc.pl.spatial(adata_dict[base_name], img_key=\"hires\", color=obs_list,\n",
    "              title=title_list,\n",
    "              ncols=5,show=False,\n",
    "             legend_fontsize =20,\n",
    "             wspace = 0.1,\n",
    "              \n",
    "              crop_coord=[2000, 6000, 6000, 9000], \n",
    "              alpha=0.5,\n",
    "                     legend_loc=None\n",
    "             )\n",
    "\n",
    "plt.suptitle(f'{base_name} on {repstr} (ROI)',x=0.45)\n",
    "plt.savefig(f'{base_name}_{repstr}_ROI.png')\n",
    "plt.close()\n"
   ]
  },
  {
   "cell_type": "markdown",
   "metadata": {},
   "source": [
    "#### SpaGCN"
   ]
  },
  {
   "cell_type": "code",
   "execution_count": null,
   "metadata": {},
   "outputs": [],
   "source": []
  },
  {
   "cell_type": "code",
   "execution_count": 138,
   "metadata": {},
   "outputs": [],
   "source": [
    "base_name = 'SpaGCN'\n",
    "obs_base_name = 'refined_pred'\n",
    "obs_list = [f'{obs_base_name}_{i+1}' for i in range(10)]\n",
    "\n",
    "if method_parameter_dict[base_name]=='res':\n",
    "    title_list = [f'res={i}' for i in [0.1,0.5,1,1.5,2,2.5,3,3.5,4,4.5]]\n",
    "elif method_parameter_dict[base_name]=='k':\n",
    "    title_list = [f'k={i+5}' for i in np.arange(10)]"
   ]
  },
  {
   "cell_type": "code",
   "execution_count": 139,
   "metadata": {},
   "outputs": [],
   "source": [
    "# plt.rcParams[\"figure.figsize\"] = (8, 8)\n",
    "# fig = plt.figure()\n",
    "axes = sc.pl.spatial(adata_dict[base_name],  color=obs_list,title=title_list,\n",
    "                add_outline=False,ncols=5,show=False,\n",
    "                     legend_fontsize =20,\n",
    "                     wspace = 0.1,\n",
    "                     hspace= 0.2,\n",
    "                     legend_loc=None\n",
    "               )\n",
    "plt.suptitle(f'{base_name} on {repstr}',x=0.45)\n",
    "plt.savefig(f'{base_name}_{repstr}.png')\n",
    "plt.close()\n",
    "\n",
    "# plt.gca().set_aspect('equal', adjustable='box')"
   ]
  },
  {
   "cell_type": "code",
   "execution_count": 140,
   "metadata": {},
   "outputs": [],
   "source": [
    "sc.pl.spatial(adata_dict[base_name], img_key=\"hires\", color=obs_list,\n",
    "              title=title_list,\n",
    "              ncols=5,show=False,\n",
    "             legend_fontsize =20,\n",
    "             wspace = 0.1,\n",
    "              \n",
    "              crop_coord=[2000, 6000, 6000, 9000], \n",
    "              alpha=0.5,\n",
    "                     legend_loc=None\n",
    "             )\n",
    "\n",
    "plt.suptitle(f'{base_name} on {repstr} (ROI)',x=0.45)\n",
    "plt.savefig(f'{base_name}_{repstr}_ROI.png')\n",
    "plt.close()\n"
   ]
  },
  {
   "cell_type": "markdown",
   "metadata": {},
   "source": [
    "#### STAGATE"
   ]
  },
  {
   "cell_type": "code",
   "execution_count": null,
   "metadata": {},
   "outputs": [],
   "source": []
  },
  {
   "cell_type": "code",
   "execution_count": 151,
   "metadata": {},
   "outputs": [],
   "source": [
    "base_name = 'STAGATE'\n",
    "obs_base_name = 'stagate_mclust'\n",
    "obs_list = [f'{obs_base_name}_{i+1}' for i in range(10)]\n",
    "\n",
    "if method_parameter_dict[base_name]=='res':\n",
    "    title_list = [f'res={i}' for i in [0.1,0.5,1,1.5,2,2.5,3,3.5,4,4.5]]\n",
    "elif method_parameter_dict[base_name]=='k':\n",
    "    title_list = [f'k={i+5}' for i in np.arange(10)]"
   ]
  },
  {
   "cell_type": "code",
   "execution_count": 152,
   "metadata": {},
   "outputs": [],
   "source": [
    "for obs in obs_list:\n",
    "    adata_dict[base_name].obs[obs] = adata_dict[base_name].obs[obs].astype('str')\n",
    "    adata_dict[base_name].obs[obs] = adata_dict[base_name].obs[obs].astype('category')"
   ]
  },
  {
   "cell_type": "code",
   "execution_count": 153,
   "metadata": {},
   "outputs": [],
   "source": [
    "# plt.rcParams[\"figure.figsize\"] = (8, 8)\n",
    "# fig = plt.figure()\n",
    "axes = sc.pl.spatial(adata_dict[base_name],  color=obs_list,title=title_list,\n",
    "                add_outline=False,ncols=5,show=False,\n",
    "                     legend_fontsize =20,\n",
    "                     wspace = 0.1,\n",
    "                     hspace= 0.2,\n",
    "                     legend_loc=None\n",
    "               )\n",
    "plt.suptitle(f'{base_name} on {repstr}',x=0.45)\n",
    "plt.savefig(f'{base_name}_{repstr}.png')\n",
    "plt.close()\n",
    "\n",
    "# plt.gca().set_aspect('equal', adjustable='box')"
   ]
  },
  {
   "cell_type": "code",
   "execution_count": 154,
   "metadata": {},
   "outputs": [],
   "source": [
    "sc.pl.spatial(adata_dict[base_name], img_key=\"hires\", color=obs_list,\n",
    "              title=title_list,\n",
    "              ncols=5,show=False,\n",
    "             legend_fontsize =20,\n",
    "             wspace = 0.1,\n",
    "              \n",
    "              crop_coord=[2000, 6000, 6000, 9000], \n",
    "              alpha=0.5,\n",
    "                     legend_loc=None\n",
    "             )\n",
    "\n",
    "plt.suptitle(f'{base_name} on {repstr} (ROI)',x=0.45)\n",
    "plt.savefig(f'{base_name}_{repstr}_ROI.png')\n",
    "plt.close()\n"
   ]
  },
  {
   "cell_type": "code",
   "execution_count": null,
   "metadata": {},
   "outputs": [],
   "source": []
  },
  {
   "cell_type": "code",
   "execution_count": null,
   "metadata": {},
   "outputs": [],
   "source": []
  }
 ],
 "metadata": {
  "kernelspec": {
   "display_name": "SODB",
   "language": "python",
   "name": "sodb"
  },
  "language_info": {
   "codemirror_mode": {
    "name": "ipython",
    "version": 3
   },
   "file_extension": ".py",
   "mimetype": "text/x-python",
   "name": "python",
   "nbconvert_exporter": "python",
   "pygments_lexer": "ipython3",
   "version": "3.9.12"
  }
 },
 "nbformat": 4,
 "nbformat_minor": 4
}
