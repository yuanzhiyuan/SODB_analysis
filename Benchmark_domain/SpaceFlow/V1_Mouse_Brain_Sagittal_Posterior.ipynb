{
 "cells": [
  {
   "cell_type": "markdown",
   "id": "6e2c6ffb",
   "metadata": {},
   "source": [
    "### 1. Import SpaceFlow and squidpy package"
   ]
  },
  {
   "cell_type": "code",
   "execution_count": 13,
   "id": "bfb92fc1",
   "metadata": {},
   "outputs": [],
   "source": [
    "import warnings\n",
    "warnings.filterwarnings('ignore')\n",
    "import squidpy as sq\n",
    "import SpaceFlow\n",
    "import scanpy as sc\n",
    "import pandas as pd\n"
   ]
  },
  {
   "cell_type": "code",
   "execution_count": 14,
   "id": "1341815f",
   "metadata": {},
   "outputs": [],
   "source": [
    "from SpaceFlow import SpaceFlow "
   ]
  },
  {
   "cell_type": "markdown",
   "id": "51f08772",
   "metadata": {},
   "source": [
    "### 2. Load  data"
   ]
  },
  {
   "cell_type": "code",
   "execution_count": 15,
   "id": "79495a14",
   "metadata": {},
   "outputs": [
    {
     "data": {
      "text/plain": [
       "AnnData object with n_obs × n_vars = 3355 × 32285\n",
       "    obs: 'in_tissue', 'array_row', 'array_col'\n",
       "    var: 'gene_ids', 'feature_types', 'genome'\n",
       "    uns: 'spatial'\n",
       "    obsm: 'spatial'"
      ]
     },
     "execution_count": 15,
     "metadata": {},
     "output_type": "execute_result"
    }
   ],
   "source": [
    "# section_id = '151671'\n",
    "# input_dir = os.path.join('/home/workspace2/zhaofangyuan/SpaceFlow/SpaceFlow-master/Data', section_id)\n",
    "# adata = sc.read_visium(path=input_dir, count_file=section_id+'_filtered_feature_bc_matrix.h5')\n",
    "adata=sc.read_h5ad('/home/workspace2/zhaofangyuan/data_h5ad/without_groundtruth/Visium_demon/V1_Mouse_Brain_Sagittal_Posterior.h5ad')\n",
    "adata.var_names_make_unique()\n",
    "adata"
   ]
  },
  {
   "cell_type": "markdown",
   "id": "0c555016",
   "metadata": {},
   "source": [
    "### 3. Create SpaceFlow Object\n",
    "\n",
    "We create a SpaceFlow object using the count matrix of gene expression and the corresponding spatial locations of cells (or spots):"
   ]
  },
  {
   "cell_type": "code",
   "execution_count": 16,
   "id": "03d86b43",
   "metadata": {},
   "outputs": [
    {
     "data": {
      "text/plain": [
       "<SpaceFlow.SpaceFlow.SpaceFlow at 0x7fac8957a490>"
      ]
     },
     "execution_count": 16,
     "metadata": {},
     "output_type": "execute_result"
    }
   ],
   "source": [
    "sf = SpaceFlow.SpaceFlow(adata=adata)\n",
    "sf"
   ]
  },
  {
   "cell_type": "markdown",
   "id": "44b702dc",
   "metadata": {},
   "source": [
    "Parameters:\n",
    "- `expr_data`: the count matrix of gene expression, 2D numpy array of size (# of cells, # of genes)\n",
    "- `spatial_locs`: spatial locations of cells (or spots) match to rows of the count matrix, 1D numpy array of size (n_locations,)"
   ]
  },
  {
   "cell_type": "markdown",
   "id": "f94e1a04",
   "metadata": {},
   "source": [
    "### 4. Preprocessing the ST Data\n",
    "Next, we preprocess the ST data by run:"
   ]
  },
  {
   "cell_type": "code",
   "execution_count": 17,
   "id": "c39b6093",
   "metadata": {},
   "outputs": [],
   "source": [
    "sf.preprocessing_data(n_top_genes=3000)"
   ]
  },
  {
   "cell_type": "markdown",
   "id": "aefc6a0c",
   "metadata": {},
   "source": [
    "Parameters:\n",
    "- `n_top_genes`: the number of the top highly variable genes.\n",
    "\n",
    "The preprocessing includes the normalization and log-transformation of the expression count matrix, the selection of highly variable genes, and the construction of spatial proximity graph using spatial coordinates. (Details see the `preprocessing_data` function in `SpaceFlow/SpaceFlow.py`)\n"
   ]
  },
  {
   "cell_type": "markdown",
   "id": "ece4a0d9",
   "metadata": {},
   "source": [
    "### 5. Train the deep graph network model\n",
    "\n",
    "We then train a spatially regularized deep graph network model to learn a low-dimensional embedding that reflecting both expression similarity and the spatial proximity of cells in ST data.  \n"
   ]
  },
  {
   "cell_type": "code",
   "execution_count": 18,
   "id": "57a701a1",
   "metadata": {},
   "outputs": [
    {
     "name": "stdout",
     "output_type": "stream",
     "text": [
      "Epoch 2/1000, Loss: 10.531244277954102\n",
      "Epoch 12/1000, Loss: 1.5191911458969116\n",
      "Epoch 22/1000, Loss: 1.5773530006408691\n",
      "Epoch 32/1000, Loss: 1.478605031967163\n",
      "Epoch 42/1000, Loss: 1.4916328191757202\n",
      "Epoch 52/1000, Loss: 1.4785279035568237\n",
      "Epoch 62/1000, Loss: 1.4595776796340942\n",
      "Epoch 72/1000, Loss: 1.4390500783920288\n",
      "Epoch 82/1000, Loss: 1.4085972309112549\n",
      "Epoch 92/1000, Loss: 1.4495173692703247\n",
      "Epoch 102/1000, Loss: 1.3247249126434326\n",
      "Epoch 112/1000, Loss: 1.1839287281036377\n",
      "Epoch 122/1000, Loss: 1.0184615850448608\n",
      "Epoch 132/1000, Loss: 1.1569331884384155\n",
      "Epoch 142/1000, Loss: 1.1278963088989258\n",
      "Epoch 152/1000, Loss: 0.7133669257164001\n",
      "Epoch 162/1000, Loss: 0.5549595952033997\n",
      "Epoch 172/1000, Loss: 0.4323069155216217\n",
      "Epoch 182/1000, Loss: 0.38233083486557007\n",
      "Epoch 192/1000, Loss: 0.3534121811389923\n",
      "Epoch 202/1000, Loss: 0.2911977171897888\n",
      "Epoch 212/1000, Loss: 0.25484201312065125\n",
      "Epoch 222/1000, Loss: 0.23788391053676605\n",
      "Epoch 232/1000, Loss: 0.20471474528312683\n",
      "Epoch 242/1000, Loss: 0.18776468932628632\n",
      "Epoch 252/1000, Loss: 0.16149413585662842\n",
      "Epoch 262/1000, Loss: 0.15204963088035583\n",
      "Epoch 272/1000, Loss: 0.1388765573501587\n",
      "Epoch 282/1000, Loss: 0.14062196016311646\n",
      "Epoch 292/1000, Loss: 0.12029678374528885\n",
      "Epoch 302/1000, Loss: 0.12690788507461548\n",
      "Epoch 312/1000, Loss: 0.13041634857654572\n",
      "Epoch 322/1000, Loss: 0.10299161076545715\n",
      "Epoch 332/1000, Loss: 0.09923605620861053\n",
      "Epoch 342/1000, Loss: 0.0978696197271347\n",
      "Epoch 352/1000, Loss: 0.09808208048343658\n",
      "Epoch 362/1000, Loss: 0.08357030153274536\n",
      "Epoch 372/1000, Loss: 0.08936858922243118\n",
      "Epoch 382/1000, Loss: 0.08293632417917252\n",
      "Epoch 392/1000, Loss: 0.08031520992517471\n",
      "Epoch 402/1000, Loss: 0.07804146409034729\n",
      "Epoch 412/1000, Loss: 0.07695165276527405\n",
      "Epoch 422/1000, Loss: 0.07551924884319305\n",
      "Epoch 432/1000, Loss: 0.0713847279548645\n",
      "Epoch 442/1000, Loss: 0.07259592413902283\n",
      "Epoch 452/1000, Loss: 0.07823853194713593\n",
      "Epoch 462/1000, Loss: 0.0807715505361557\n",
      "Epoch 472/1000, Loss: 0.06886333972215652\n",
      "Epoch 482/1000, Loss: 3.5873148441314697\n",
      "Epoch 492/1000, Loss: 5.6141886711120605\n",
      "Epoch 502/1000, Loss: 5.124328136444092\n",
      "Training complete!\n",
      "Embedding is saved at ./embedding.tsv\n"
     ]
    },
    {
     "data": {
      "text/plain": [
       "array([[ -1.4690933,  -4.968678 ,  24.578875 , ...,  10.1328745,\n",
       "         -6.662312 ,   1.384343 ],\n",
       "       [ -1.7599701,  -4.7800403,  39.92357  , ...,  13.512619 ,\n",
       "        -11.591892 ,   9.435382 ],\n",
       "       [ -1.9447842,  -4.8705354,  37.380737 , ...,  13.049883 ,\n",
       "         -9.610833 ,   8.610879 ],\n",
       "       ...,\n",
       "       [ -1.9743259,  -5.0803266,  42.98103  , ...,  14.443941 ,\n",
       "        -12.594458 ,  10.349493 ],\n",
       "       [ -1.9314985,  -5.074664 ,  42.21298  , ...,  14.327375 ,\n",
       "        -12.289925 ,  10.132979 ],\n",
       "       [ -1.878352 ,  -5.5857487,  37.157997 , ...,  13.330538 ,\n",
       "        -10.15905  ,   6.477151 ]], dtype=float32)"
      ]
     },
     "execution_count": 18,
     "metadata": {},
     "output_type": "execute_result"
    }
   ],
   "source": [
    "sf.train(spatial_regularization_strength=0.1, \n",
    "         z_dim=50, \n",
    "         lr=1e-3, \n",
    "         epochs=1000, \n",
    "         max_patience=50, \n",
    "         min_stop=100, \n",
    "         random_seed=42, \n",
    "         gpu=1, \n",
    "         regularization_acceleration=True, \n",
    "         edge_subset_sz=1000000)"
   ]
  },
  {
   "cell_type": "markdown",
   "id": "e100a063",
   "metadata": {},
   "source": [
    "Parameters:\n",
    "- `spatial_regularization_strength`: the strength of spatial regularization, the larger the more of the spatial coherence in the identified spatial domains and spatiotemporal patterns. (default: 0.1)\n",
    "- `z_dim`: the target size of the learned embedding. (default: 50)\n",
    "- `lr`: learning rate for optimizing the model. (default: 1e-3)\n",
    "- `epochs`: the max number of the epochs for model training. (default: 1000)\n",
    "- `max_patience`: the max number of the epoch for waiting the loss decreasing. If loss does not decrease for epochs larger than this threshold, the learning will stop, and the model with the parameters that shows the minimal loss are kept as the best model. (default: 50) \n",
    "- `min_stop`: the earliest epoch the learning can stop if no decrease in loss for epochs larger than the `max_patience`. (default: 100) \n",
    "- `random_seed`: the random seed set to the random generators of the `random`, `numpy`, `torch` packages. (default: 42)\n",
    "-  `gpu`: the index of the Nvidia GPU, if no GPU, the model will be trained via CPU, which is slower than the GPU training time. (default: 0) \n",
    "-  `regularization_acceleration`: whether or not accelerate the calculation of regularization loss using edge subsetting strategy (default: True)\n",
    "-  `edge_subset_sz`: the edge subset size for regularization acceleration (default: 1000000)"
   ]
  },
  {
   "cell_type": "markdown",
   "id": "99fefbb0",
   "metadata": {},
   "source": [
    "### 6. Domain segmentation of the ST data\n",
    "\n",
    "After the model training, the learned low-dimensional embedding can be accessed through `sf.embedding`.\n",
    "\n",
    "SpaceFlow will use this learned embedding to identify the spatial domains based on [Leiden](https://www.nature.com/articles/s41598-019-41695-z) algorithm. \n"
   ]
  },
  {
   "cell_type": "code",
   "execution_count": 19,
   "id": "b0cb4cd6",
   "metadata": {},
   "outputs": [
    {
     "name": "stdout",
     "output_type": "stream",
     "text": [
      "Performing domain segmentation\n",
      "Segmentation complete, domain labels of cells or spots saved at ./domains_1.csv !\n",
      "Plotting complete, segmentation figure saved at ./domain_segmentation_1.pdf !\n",
      "Performing domain segmentation\n",
      "Segmentation complete, domain labels of cells or spots saved at ./domains_2.csv !\n",
      "Plotting complete, segmentation figure saved at ./domain_segmentation_2.pdf !\n",
      "Performing domain segmentation\n",
      "Segmentation complete, domain labels of cells or spots saved at ./domains_3.csv !\n",
      "Plotting complete, segmentation figure saved at ./domain_segmentation_3.pdf !\n",
      "Performing domain segmentation\n",
      "Segmentation complete, domain labels of cells or spots saved at ./domains_4.csv !\n",
      "Plotting complete, segmentation figure saved at ./domain_segmentation_4.pdf !\n",
      "Performing domain segmentation\n",
      "Segmentation complete, domain labels of cells or spots saved at ./domains_5.csv !\n",
      "Plotting complete, segmentation figure saved at ./domain_segmentation_5.pdf !\n",
      "Performing domain segmentation\n",
      "Segmentation complete, domain labels of cells or spots saved at ./domains_6.csv !\n",
      "Plotting complete, segmentation figure saved at ./domain_segmentation_6.pdf !\n",
      "Performing domain segmentation\n",
      "Segmentation complete, domain labels of cells or spots saved at ./domains_7.csv !\n",
      "Plotting complete, segmentation figure saved at ./domain_segmentation_7.pdf !\n",
      "Performing domain segmentation\n",
      "Segmentation complete, domain labels of cells or spots saved at ./domains_8.csv !\n",
      "Plotting complete, segmentation figure saved at ./domain_segmentation_8.pdf !\n",
      "Performing domain segmentation\n",
      "Segmentation complete, domain labels of cells or spots saved at ./domains_9.csv !\n",
      "Plotting complete, segmentation figure saved at ./domain_segmentation_9.pdf !\n",
      "Performing domain segmentation\n",
      "Segmentation complete, domain labels of cells or spots saved at ./domains_10.csv !\n",
      "Plotting complete, segmentation figure saved at ./domain_segmentation_10.pdf !\n"
     ]
    }
   ],
   "source": [
    "# import pandas as pd\n",
    "\n",
    "res_list=[0.1,0.5,1,1.5,2,2.5,3,3.5,4,4.5]\n",
    "for i in range(10):\n",
    "    sf_copy=sf\n",
    "    sf_copy.segmentation(domain_label_save_filepath=\"./domains_{}.csv\".format(i+1), \n",
    "                        n_neighbors=50, \n",
    "                        resolution=res_list[i])\n",
    "                        \n",
    "    sf.plot_segmentation(segmentation_figure_save_filepath=\"./domain_segmentation_{}.pdf\".format(i+1), \n",
    "                     colormap=\"tab20\", \n",
    "                     scatter_sz=1., \n",
    "                     rsz=4., \n",
    "                     csz=4., \n",
    "                     wspace=.4, \n",
    "                     hspace=.5, \n",
    "                     left=0.125, \n",
    "                     right=0.9, \n",
    "                     bottom=0.1, \n",
    "                     top=0.9)\n",
    "# pred=pd.read_csv('./domains.csv')\n",
    "# pred"
   ]
  },
  {
   "cell_type": "markdown",
   "id": "361a2f7e",
   "metadata": {},
   "source": [
    "Parameters:\n",
    "\n",
    "- `domain_label_save_filepath`: the file path for saving the identified domain labels. (default: \"./domains.tsv\")\n",
    "- `n_neighbors`: the number of the nearest neighbors for each cell for constructing the graph for Leiden using the embedding as input. (default: 50)\n",
    "- `resolution`: the resolution of the Leiden clustering, the larger the coarser of the domains. (default: 1.0)\n"
   ]
  },
  {
   "cell_type": "code",
   "execution_count": 20,
   "id": "5140e50d",
   "metadata": {},
   "outputs": [
    {
     "data": {
      "text/plain": [
       "<SpaceFlow.SpaceFlow.SpaceFlow at 0x7fac8957a490>"
      ]
     },
     "execution_count": 20,
     "metadata": {},
     "output_type": "execute_result"
    }
   ],
   "source": [
    "sf"
   ]
  },
  {
   "cell_type": "markdown",
   "id": "1998dd75",
   "metadata": {},
   "source": [
    "We can also visualize the expert annotation for comparison by:"
   ]
  },
  {
   "cell_type": "code",
   "execution_count": 21,
   "id": "c20aa423",
   "metadata": {},
   "outputs": [],
   "source": [
    "#无法把sf对象赋给adata，写了新函数，好像传不进去\n",
    "# import scanpy as sc\n",
    "# sc.pl.spatial(adata, \n",
    "#     color=\"celltype_mapped_refined\",\n",
    "#     spot_size=0.03)"
   ]
  },
  {
   "cell_type": "code",
   "execution_count": 42,
   "id": "552480b8",
   "metadata": {},
   "outputs": [
    {
     "data": {
      "text/plain": [
       "AnnData object with n_obs × n_vars = 3355 × 32285\n",
       "    obs: 'in_tissue', 'array_row', 'array_col', 'SpaceFlow_1', 'SpaceFlow_2', 'SpaceFlow_3', 'SpaceFlow_4', 'SpaceFlow_5', 'SpaceFlow_6', 'SpaceFlow_7', 'SpaceFlow_8', 'SpaceFlow_9', 'SpaceFlow_10'\n",
       "    var: 'gene_ids', 'feature_types', 'genome'\n",
       "    uns: 'spatial'\n",
       "    obsm: 'spatial'"
      ]
     },
     "execution_count": 42,
     "metadata": {},
     "output_type": "execute_result"
    }
   ],
   "source": [
    "import numpy as np\n",
    "adata=sc.read_h5ad('/home/workspace2/zhaofangyuan/data_h5ad/without_groundtruth/Visium_demon/V1_Mouse_Brain_Sagittal_Posterior.h5ad')\n",
    "\n",
    "for i in range(10):\n",
    "\n",
    "    pred=pd.read_csv('./domains_{}.csv'.format(i+1),header=None)\n",
    "    pred_list=pred.iloc[:,0].to_list()\n",
    "    \n",
    "    adata.obs['SpaceFlow_{}'.format(i+1)] = np.array(pred_list)\n",
    "\n",
    "adata.write_h5ad('./SpaceFlow_V1_Mouse_Brain_Sagittal_Posterior(resolution).h5ad')\n",
    "adata\n"
   ]
  }
 ],
 "metadata": {
  "kernelspec": {
   "display_name": "Python 3.7.13 ('spaceflow': conda)",
   "language": "python",
   "name": "python3"
  },
  "language_info": {
   "codemirror_mode": {
    "name": "ipython",
    "version": 3
   },
   "file_extension": ".py",
   "mimetype": "text/x-python",
   "name": "python",
   "nbconvert_exporter": "python",
   "pygments_lexer": "ipython3",
   "version": "3.7.13"
  },
  "vscode": {
   "interpreter": {
    "hash": "907946178ce1ca4bf91ea78cdc131b84eb83bc68b25a5a4145a2730f7eda787c"
   }
  }
 },
 "nbformat": 4,
 "nbformat_minor": 5
}
