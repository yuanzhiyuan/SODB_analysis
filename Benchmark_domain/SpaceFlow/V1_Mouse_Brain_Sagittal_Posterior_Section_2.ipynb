{
 "cells": [
  {
   "cell_type": "markdown",
   "id": "6e2c6ffb",
   "metadata": {},
   "source": [
    "### 1. Import SpaceFlow and squidpy package"
   ]
  },
  {
   "cell_type": "code",
   "execution_count": 12,
   "id": "bfb92fc1",
   "metadata": {},
   "outputs": [],
   "source": [
    "import warnings\n",
    "warnings.filterwarnings('ignore')\n",
    "import squidpy as sq\n",
    "import SpaceFlow\n",
    "import scanpy as sc\n",
    "import pandas as pd\n"
   ]
  },
  {
   "cell_type": "code",
   "execution_count": 13,
   "id": "1341815f",
   "metadata": {},
   "outputs": [],
   "source": [
    "from SpaceFlow import SpaceFlow "
   ]
  },
  {
   "cell_type": "markdown",
   "id": "51f08772",
   "metadata": {},
   "source": [
    "### 2. Load  data"
   ]
  },
  {
   "cell_type": "code",
   "execution_count": 14,
   "id": "79495a14",
   "metadata": {},
   "outputs": [
    {
     "data": {
      "text/plain": [
       "AnnData object with n_obs × n_vars = 3289 × 32285\n",
       "    obs: 'in_tissue', 'array_row', 'array_col'\n",
       "    var: 'gene_ids', 'feature_types', 'genome'\n",
       "    uns: 'spatial'\n",
       "    obsm: 'spatial'"
      ]
     },
     "execution_count": 14,
     "metadata": {},
     "output_type": "execute_result"
    }
   ],
   "source": [
    "# section_id = '151671'\n",
    "# input_dir = os.path.join('/home/workspace2/zhaofangyuan/SpaceFlow/SpaceFlow-master/Data', section_id)\n",
    "# adata = sc.read_visium(path=input_dir, count_file=section_id+'_filtered_feature_bc_matrix.h5')\n",
    "adata=sc.read_h5ad('/home/workspace2/zhaofangyuan/data_h5ad/without_groundtruth/Visium_demon/V1_Mouse_Brain_Sagittal_Posterior_Section_2.h5ad')\n",
    "adata.var_names_make_unique()\n",
    "adata"
   ]
  },
  {
   "cell_type": "markdown",
   "id": "0c555016",
   "metadata": {},
   "source": [
    "### 3. Create SpaceFlow Object\n",
    "\n",
    "We create a SpaceFlow object using the count matrix of gene expression and the corresponding spatial locations of cells (or spots):"
   ]
  },
  {
   "cell_type": "code",
   "execution_count": 15,
   "id": "03d86b43",
   "metadata": {},
   "outputs": [
    {
     "data": {
      "text/plain": [
       "<SpaceFlow.SpaceFlow.SpaceFlow at 0x7f2aac11e690>"
      ]
     },
     "execution_count": 15,
     "metadata": {},
     "output_type": "execute_result"
    }
   ],
   "source": [
    "sf = SpaceFlow.SpaceFlow(adata=adata)\n",
    "sf"
   ]
  },
  {
   "cell_type": "markdown",
   "id": "44b702dc",
   "metadata": {},
   "source": [
    "Parameters:\n",
    "- `expr_data`: the count matrix of gene expression, 2D numpy array of size (# of cells, # of genes)\n",
    "- `spatial_locs`: spatial locations of cells (or spots) match to rows of the count matrix, 1D numpy array of size (n_locations,)"
   ]
  },
  {
   "cell_type": "markdown",
   "id": "f94e1a04",
   "metadata": {},
   "source": [
    "### 4. Preprocessing the ST Data\n",
    "Next, we preprocess the ST data by run:"
   ]
  },
  {
   "cell_type": "code",
   "execution_count": 5,
   "id": "c39b6093",
   "metadata": {},
   "outputs": [],
   "source": [
    "sf.preprocessing_data(n_top_genes=3000)"
   ]
  },
  {
   "cell_type": "markdown",
   "id": "aefc6a0c",
   "metadata": {},
   "source": [
    "Parameters:\n",
    "- `n_top_genes`: the number of the top highly variable genes.\n",
    "\n",
    "The preprocessing includes the normalization and log-transformation of the expression count matrix, the selection of highly variable genes, and the construction of spatial proximity graph using spatial coordinates. (Details see the `preprocessing_data` function in `SpaceFlow/SpaceFlow.py`)\n"
   ]
  },
  {
   "cell_type": "markdown",
   "id": "ece4a0d9",
   "metadata": {},
   "source": [
    "### 5. Train the deep graph network model\n",
    "\n",
    "We then train a spatially regularized deep graph network model to learn a low-dimensional embedding that reflecting both expression similarity and the spatial proximity of cells in ST data.  \n"
   ]
  },
  {
   "cell_type": "code",
   "execution_count": 6,
   "id": "57a701a1",
   "metadata": {},
   "outputs": [
    {
     "name": "stdout",
     "output_type": "stream",
     "text": [
      "Epoch 2/1000, Loss: 10.189188957214355\n",
      "Epoch 12/1000, Loss: 1.6195722818374634\n",
      "Epoch 22/1000, Loss: 1.516485571861267\n",
      "Epoch 32/1000, Loss: 1.4355510473251343\n",
      "Epoch 42/1000, Loss: 1.3794041872024536\n",
      "Epoch 52/1000, Loss: 1.2694107294082642\n",
      "Epoch 62/1000, Loss: 1.0864626169204712\n",
      "Epoch 72/1000, Loss: 0.836830198764801\n",
      "Epoch 82/1000, Loss: 0.6618722677230835\n",
      "Epoch 92/1000, Loss: 0.4019826650619507\n",
      "Epoch 102/1000, Loss: 0.3247548043727875\n",
      "Epoch 112/1000, Loss: 0.23060129582881927\n",
      "Epoch 122/1000, Loss: 0.20460256934165955\n",
      "Epoch 132/1000, Loss: 0.19117172062397003\n",
      "Epoch 142/1000, Loss: 0.17767533659934998\n",
      "Epoch 152/1000, Loss: 0.13407307863235474\n",
      "Epoch 162/1000, Loss: 0.13061141967773438\n",
      "Epoch 172/1000, Loss: 0.1133759468793869\n",
      "Epoch 182/1000, Loss: 0.11186105012893677\n",
      "Epoch 192/1000, Loss: 0.10810726135969162\n",
      "Epoch 202/1000, Loss: 0.09334376454353333\n",
      "Epoch 212/1000, Loss: 0.09975259751081467\n",
      "Epoch 222/1000, Loss: 0.08768016844987869\n",
      "Epoch 232/1000, Loss: 0.08581777662038803\n",
      "Epoch 242/1000, Loss: 0.0836261734366417\n",
      "Epoch 252/1000, Loss: 0.07658936083316803\n",
      "Epoch 262/1000, Loss: 0.08456278592348099\n",
      "Epoch 272/1000, Loss: 0.07337619364261627\n",
      "Epoch 282/1000, Loss: 0.07194701582193375\n",
      "Epoch 292/1000, Loss: 0.07672860473394394\n",
      "Epoch 302/1000, Loss: 0.8633148074150085\n",
      "Epoch 312/1000, Loss: 0.4383864402770996\n",
      "Epoch 322/1000, Loss: 0.3802754282951355\n",
      "Epoch 332/1000, Loss: 0.21884533762931824\n",
      "Epoch 342/1000, Loss: 0.1937018632888794\n",
      "Training complete!\n",
      "Embedding is saved at ./embedding.tsv\n"
     ]
    },
    {
     "data": {
      "text/plain": [
       "array([[-5.1645846 ,  5.642975  , 11.575688  , ...,  9.178689  ,\n",
       "        -1.9711637 , 10.761907  ],\n",
       "       [-5.0714226 ,  5.5076046 , 11.209752  , ...,  8.516841  ,\n",
       "        -1.9660617 , 10.218894  ],\n",
       "       [-4.9817624 ,  7.862143  ,  7.3670726 , ...,  6.973419  ,\n",
       "        -2.5149636 ,  6.5497556 ],\n",
       "       ...,\n",
       "       [-5.9093585 , 13.145799  ,  1.49898   , ...,  7.506754  ,\n",
       "        -3.9435444 ,  1.7111741 ],\n",
       "       [-5.8447895 ,  9.390853  ,  8.1574745 , ...,  7.9970994 ,\n",
       "        -3.0489066 ,  7.3244643 ],\n",
       "       [-6.759815  , 16.571222  , -0.97939384, ...,  8.442     ,\n",
       "        -4.851411  , -0.10696509]], dtype=float32)"
      ]
     },
     "execution_count": 6,
     "metadata": {},
     "output_type": "execute_result"
    }
   ],
   "source": [
    "sf.train(spatial_regularization_strength=0.1, \n",
    "         z_dim=50, \n",
    "         lr=1e-3, \n",
    "         epochs=1000, \n",
    "         max_patience=50, \n",
    "         min_stop=100, \n",
    "         random_seed=42, \n",
    "         gpu=1, \n",
    "         regularization_acceleration=True, \n",
    "         edge_subset_sz=1000000)"
   ]
  },
  {
   "cell_type": "markdown",
   "id": "e100a063",
   "metadata": {},
   "source": [
    "Parameters:\n",
    "- `spatial_regularization_strength`: the strength of spatial regularization, the larger the more of the spatial coherence in the identified spatial domains and spatiotemporal patterns. (default: 0.1)\n",
    "- `z_dim`: the target size of the learned embedding. (default: 50)\n",
    "- `lr`: learning rate for optimizing the model. (default: 1e-3)\n",
    "- `epochs`: the max number of the epochs for model training. (default: 1000)\n",
    "- `max_patience`: the max number of the epoch for waiting the loss decreasing. If loss does not decrease for epochs larger than this threshold, the learning will stop, and the model with the parameters that shows the minimal loss are kept as the best model. (default: 50) \n",
    "- `min_stop`: the earliest epoch the learning can stop if no decrease in loss for epochs larger than the `max_patience`. (default: 100) \n",
    "- `random_seed`: the random seed set to the random generators of the `random`, `numpy`, `torch` packages. (default: 42)\n",
    "-  `gpu`: the index of the Nvidia GPU, if no GPU, the model will be trained via CPU, which is slower than the GPU training time. (default: 0) \n",
    "-  `regularization_acceleration`: whether or not accelerate the calculation of regularization loss using edge subsetting strategy (default: True)\n",
    "-  `edge_subset_sz`: the edge subset size for regularization acceleration (default: 1000000)"
   ]
  },
  {
   "cell_type": "markdown",
   "id": "99fefbb0",
   "metadata": {},
   "source": [
    "### 6. Domain segmentation of the ST data\n",
    "\n",
    "After the model training, the learned low-dimensional embedding can be accessed through `sf.embedding`.\n",
    "\n",
    "SpaceFlow will use this learned embedding to identify the spatial domains based on [Leiden](https://www.nature.com/articles/s41598-019-41695-z) algorithm. \n"
   ]
  },
  {
   "cell_type": "code",
   "execution_count": 7,
   "id": "b0cb4cd6",
   "metadata": {},
   "outputs": [
    {
     "name": "stdout",
     "output_type": "stream",
     "text": [
      "Performing domain segmentation\n",
      "Segmentation complete, domain labels of cells or spots saved at ./2_domains_1.csv !\n",
      "Plotting complete, segmentation figure saved at ./2_domain_segmentation_1.pdf !\n",
      "Performing domain segmentation\n",
      "Segmentation complete, domain labels of cells or spots saved at ./2_domains_2.csv !\n",
      "Plotting complete, segmentation figure saved at ./2_domain_segmentation_2.pdf !\n",
      "Performing domain segmentation\n",
      "Segmentation complete, domain labels of cells or spots saved at ./2_domains_3.csv !\n",
      "Plotting complete, segmentation figure saved at ./2_domain_segmentation_3.pdf !\n",
      "Performing domain segmentation\n",
      "Segmentation complete, domain labels of cells or spots saved at ./2_domains_4.csv !\n",
      "Plotting complete, segmentation figure saved at ./2_domain_segmentation_4.pdf !\n",
      "Performing domain segmentation\n",
      "Segmentation complete, domain labels of cells or spots saved at ./2_domains_5.csv !\n",
      "Plotting complete, segmentation figure saved at ./2_domain_segmentation_5.pdf !\n",
      "Performing domain segmentation\n",
      "Segmentation complete, domain labels of cells or spots saved at ./2_domains_6.csv !\n",
      "Plotting complete, segmentation figure saved at ./2_domain_segmentation_6.pdf !\n",
      "Performing domain segmentation\n",
      "Segmentation complete, domain labels of cells or spots saved at ./2_domains_7.csv !\n",
      "Plotting complete, segmentation figure saved at ./2_domain_segmentation_7.pdf !\n",
      "Performing domain segmentation\n",
      "Segmentation complete, domain labels of cells or spots saved at ./2_domains_8.csv !\n",
      "Plotting complete, segmentation figure saved at ./2_domain_segmentation_8.pdf !\n",
      "Performing domain segmentation\n",
      "Segmentation complete, domain labels of cells or spots saved at ./2_domains_9.csv !\n",
      "Plotting complete, segmentation figure saved at ./2_domain_segmentation_9.pdf !\n",
      "Performing domain segmentation\n",
      "Segmentation complete, domain labels of cells or spots saved at ./2_domains_10.csv !\n",
      "Plotting complete, segmentation figure saved at ./2_domain_segmentation_10.pdf !\n"
     ]
    }
   ],
   "source": [
    "# import pandas as pd\n",
    "\n",
    "res_list=[0.1,0.5,1,1.5,2,2.5,3,3.5,4,4.5]\n",
    "for i in range(10):\n",
    "    sf_copy=sf\n",
    "    sf_copy.segmentation(domain_label_save_filepath=\"./2_domains_{}.csv\".format(i+1), \n",
    "                        n_neighbors=50, \n",
    "                        resolution=res_list[i])\n",
    "    sf.plot_segmentation(segmentation_figure_save_filepath=\"./2_domain_segmentation_{}.pdf\".format(i+1), \n",
    "                     colormap=\"tab20\", \n",
    "                     scatter_sz=1., \n",
    "                     rsz=4., \n",
    "                     csz=4., \n",
    "                     wspace=.4, \n",
    "                     hspace=.5, \n",
    "                     left=0.125, \n",
    "                     right=0.9, \n",
    "                     bottom=0.1, \n",
    "                     top=0.9)\n",
    "# pred=pd.read_csv('./domains.csv')\n",
    "# pred"
   ]
  },
  {
   "cell_type": "markdown",
   "id": "361a2f7e",
   "metadata": {},
   "source": [
    "Parameters:\n",
    "\n",
    "- `domain_label_save_filepath`: the file path for saving the identified domain labels. (default: \"./domains.tsv\")\n",
    "- `n_neighbors`: the number of the nearest neighbors for each cell for constructing the graph for Leiden using the embedding as input. (default: 50)\n",
    "- `resolution`: the resolution of the Leiden clustering, the larger the coarser of the domains. (default: 1.0)\n"
   ]
  },
  {
   "cell_type": "markdown",
   "id": "1998dd75",
   "metadata": {},
   "source": [
    "We can also visualize the expert annotation for comparison by:"
   ]
  },
  {
   "cell_type": "code",
   "execution_count": 9,
   "id": "c20aa423",
   "metadata": {},
   "outputs": [],
   "source": [
    "#无法把sf对象赋给adata，写了新函数，好像传不进去\n",
    "# import scanpy as sc\n",
    "# sc.pl.spatial(adata, \n",
    "#     color=\"celltype_mapped_refined\",\n",
    "#     spot_size=0.03)"
   ]
  },
  {
   "cell_type": "code",
   "execution_count": 18,
   "id": "06e5f733",
   "metadata": {},
   "outputs": [
    {
     "data": {
      "text/plain": [
       "AnnData object with n_obs × n_vars = 3289 × 32285\n",
       "    obs: 'in_tissue', 'array_row', 'array_col', 'SpaceFlow_1', 'SpaceFlow_2', 'SpaceFlow_3', 'SpaceFlow_4', 'SpaceFlow_5', 'SpaceFlow_6', 'SpaceFlow_7', 'SpaceFlow_8', 'SpaceFlow_9', 'SpaceFlow_10'\n",
       "    var: 'gene_ids', 'feature_types', 'genome'\n",
       "    uns: 'spatial'\n",
       "    obsm: 'spatial'"
      ]
     },
     "execution_count": 18,
     "metadata": {},
     "output_type": "execute_result"
    }
   ],
   "source": [
    "import numpy as np\n",
    "adata=sc.read_h5ad('/home/workspace2/zhaofangyuan/data_h5ad/without_groundtruth/Visium_demon/V1_Mouse_Brain_Sagittal_Posterior_Section_2.h5ad')\n",
    "\n",
    "for i in range(10):\n",
    "\n",
    "    pred=pd.read_csv('./2_domains_{}.csv'.format(i+1),header=None)\n",
    "    pred_list=pred.iloc[:,0].to_list()\n",
    "    \n",
    "    adata.obs['SpaceFlow_{}'.format(i+1)] = np.array(pred_list)\n",
    "\n",
    "adata.write_h5ad('./SpaceFlow_V1_Mouse_Brain_Sagittal_Posterior_Section_2(resolution).h5ad')\n",
    "adata"
   ]
  }
 ],
 "metadata": {
  "kernelspec": {
   "display_name": "Python 3.7.13 ('spaceflow': conda)",
   "language": "python",
   "name": "python3"
  },
  "language_info": {
   "codemirror_mode": {
    "name": "ipython",
    "version": 3
   },
   "file_extension": ".py",
   "mimetype": "text/x-python",
   "name": "python",
   "nbconvert_exporter": "python",
   "pygments_lexer": "ipython3",
   "version": "3.7.13"
  },
  "vscode": {
   "interpreter": {
    "hash": "907946178ce1ca4bf91ea78cdc131b84eb83bc68b25a5a4145a2730f7eda787c"
   }
  }
 },
 "nbformat": 4,
 "nbformat_minor": 5
}
