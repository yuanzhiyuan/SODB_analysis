{
 "cells": [
  {
   "cell_type": "code",
   "execution_count": 1,
   "metadata": {},
   "outputs": [],
   "source": [
    "import pysodb"
   ]
  },
  {
   "cell_type": "code",
   "execution_count": null,
   "metadata": {},
   "outputs": [],
   "source": [
    "# to access what datasets are privided by SODB, \n",
    "# one can either use the command-line version of sodb like following,\n",
    "# or directly visiting the GUI website: https://gene.ai.tencent.com/SpatialOmics/"
   ]
  },
  {
   "cell_type": "markdown",
   "metadata": {},
   "source": [
    "### load a Visium data using pysodb"
   ]
  },
  {
   "cell_type": "code",
   "execution_count": 2,
   "metadata": {},
   "outputs": [
    {
     "name": "stderr",
     "output_type": "stream",
     "text": [
      "/home/yzy/anaconda3/envs/SODB/lib/python3.9/site-packages/urllib3-1.26.12-py3.9.egg/urllib3/connectionpool.py:1045: InsecureRequestWarning: Unverified HTTPS request is being made to host 'gene.ai.tencent.com'. Adding certificate verification is strongly advised. See: https://urllib3.readthedocs.io/en/1.26.x/advanced-usage.html#ssl-warnings\n",
      "  warnings.warn(\n"
     ]
    }
   ],
   "source": [
    "sodb = pysodb.SODB() # Initialization\n",
    "\n"
   ]
  },
  {
   "cell_type": "code",
   "execution_count": 11,
   "metadata": {},
   "outputs": [
    {
     "data": {
      "text/plain": [
       "['liu2022spatiotemporal',\n",
       " 'Goltsev2028deep',\n",
       " 'MALDI_kidney',\n",
       " 'bergenstrahle2021super',\n",
       " 'chen2021decoding',\n",
       " 'Gouin2021An',\n",
       " 'Dixon2022Spatially',\n",
       " 'Wang2018Three_1k',\n",
       " 'gut2018multiplexed',\n",
       " 'chen2020spatial',\n",
       " 'Kleshchevnikov2022Cell2location',\n",
       " 'liu2020high',\n",
       " 'Tower2021Spatial',\n",
       " 'maynard2021trans',\n",
       " 'lohoff2021integration',\n",
       " 'xia2022the',\n",
       " 'Pascual2021Dietary',\n",
       " 'asp2019a',\n",
       " 'hildebrandt2021spatial',\n",
       " 'Wang2018three',\n",
       " 'xia2019spatial',\n",
       " 'Fang2022Conservation',\n",
       " 'MALDI_seed',\n",
       " 'chen2022spatiotemporal',\n",
       " 'Ratz2022Clonal',\n",
       " 'rodriques2019slide',\n",
       " 'stahl2016visualization',\n",
       " 'chen2022spatiotemporal_compre_20',\n",
       " 'Misra2021Characterizing',\n",
       " 'scispace',\n",
       " 'lin2018highly',\n",
       " 'MALDI_brain',\n",
       " 'Garcia2021Mapping',\n",
       " 'Melo2021Integrating',\n",
       " 'codeluppi2018spatial',\n",
       " 'Barkley2022Cancer',\n",
       " 'guilliams2022spatial',\n",
       " 'Juntaro2022MEK',\n",
       " 'moncada2020integrating',\n",
       " 'moffitt2018molecular',\n",
       " 'Joglekar2021A',\n",
       " 'berglund2018spatial',\n",
       " 'stickels2020highly',\n",
       " 'wang2021easi',\n",
       " 'yuan2021seam',\n",
       " 'zhang2021spatially',\n",
       " 'gracia2021genome',\n",
       " 'chen2021dissecting',\n",
       " 'hunter2021spatially',\n",
       " 'risom2022transition',\n",
       " 'zhao2022spatial',\n",
       " 'fawkner2021spatiotemporal',\n",
       " 'Marshall2022High_mouse',\n",
       " 'kvastad2021the',\n",
       " 'he2020integrating',\n",
       " 'wang2022high',\n",
       " 'eng2019transcriptome',\n",
       " 'liu2022reproducible',\n",
       " 'Marshall2022High_human',\n",
       " 'Sanchez2021A',\n",
       " 'Vickovic2019high',\n",
       " 'Buzzi2022Spatial',\n",
       " 'Navarro2020Spatial',\n",
       " 'Dhainaut2022Spatial',\n",
       " 'Lebrigand2022The',\n",
       " 'ortiz2020molecular',\n",
       " 'Beechem2022High',\n",
       " 'thrane2018spatially',\n",
       " 'hartmann2020single_cell',\n",
       " 'kuett2021three',\n",
       " 'desi_metaspace',\n",
       " 'Biermann2022Dissecting',\n",
       " 'Konieczny2022Interleukin',\n",
       " 'maniatis2019spatiotemporal',\n",
       " 'Sun2022Excitatory',\n",
       " 'niehaus2019transmission',\n",
       " 'Shah2016InSitu',\n",
       " 'backdahl2021spatial',\n",
       " 'MALDI_lung',\n",
       " 'parigi2022the',\n",
       " 'mantri2021spatiotemporal',\n",
       " 'mcCaffrey2022the',\n",
       " 'carlberg2019exploring',\n",
       " 'asp2017spatial',\n",
       " 'keren2018a',\n",
       " 'Kadur2022Human',\n",
       " '10x',\n",
       " 'schurch2020coordinated',\n",
       " 'ji2020multimodal']"
      ]
     },
     "execution_count": 11,
     "metadata": {},
     "output_type": "execute_result"
    }
   ],
   "source": [
    "# show the all datasets\n",
    "sodb.list_dataset()"
   ]
  },
  {
   "cell_type": "code",
   "execution_count": 5,
   "metadata": {},
   "outputs": [
    {
     "data": {
      "text/plain": [
       "['gut2018multiplexed',\n",
       " 'risom2022transition',\n",
       " 'hartmann2020single_cell',\n",
       " 'kuett2021three',\n",
       " 'Goltsev2028deep',\n",
       " 'mcCaffrey2022the',\n",
       " 'schurch2020coordinated',\n",
       " 'liu2022reproducible',\n",
       " 'lin2018highly',\n",
       " 'keren2018a']"
      ]
     },
     "execution_count": 5,
     "metadata": {},
     "output_type": "execute_result"
    }
   ],
   "source": [
    "# show the spatial proteomics datasets\n",
    "sodb.list_dataset_by_category('Spatial Proteomics')"
   ]
  },
  {
   "cell_type": "code",
   "execution_count": 7,
   "metadata": {},
   "outputs": [
    {
     "data": {
      "text/plain": [
       "['Fang2022Conservation',\n",
       " 'thrane2018spatially',\n",
       " 'fawkner2021spatiotemporal',\n",
       " 'chen2022spatiotemporal',\n",
       " 'Marshall2022High_mouse',\n",
       " 'liu2022spatiotemporal',\n",
       " 'kvastad2021the',\n",
       " 'Wang2018three',\n",
       " 'Konieczny2022Interleukin',\n",
       " 'maniatis2019spatiotemporal',\n",
       " 'Sun2022Excitatory',\n",
       " 'he2020integrating',\n",
       " 'Biermann2022Dissecting',\n",
       " 'wang2022high',\n",
       " 'gracia2021genome',\n",
       " 'Ratz2022Clonal',\n",
       " 'eng2019transcriptome',\n",
       " 'bergenstrahle2021super',\n",
       " 'rodriques2019slide',\n",
       " 'stahl2016visualization',\n",
       " 'Shah2016InSitu',\n",
       " 'chen2022spatiotemporal_compre_20',\n",
       " 'chen2021decoding',\n",
       " 'backdahl2021spatial',\n",
       " 'Misra2021Characterizing',\n",
       " 'scispace',\n",
       " 'Gouin2021An',\n",
       " 'Garcia2021Mapping',\n",
       " 'parigi2022the',\n",
       " 'chen2021dissecting',\n",
       " 'Melo2021Integrating',\n",
       " 'Dixon2022Spatially',\n",
       " 'Marshall2022High_human',\n",
       " 'codeluppi2018spatial',\n",
       " 'Vickovic2019high',\n",
       " 'Sanchez2021A',\n",
       " 'Barkley2022Cancer',\n",
       " 'mantri2021spatiotemporal',\n",
       " 'Wang2018Three_1k',\n",
       " 'Buzzi2022Spatial',\n",
       " 'guilliams2022spatial',\n",
       " 'chen2020spatial',\n",
       " 'Kleshchevnikov2022Cell2location',\n",
       " 'Juntaro2022MEK',\n",
       " 'Navarro2020Spatial',\n",
       " 'carlberg2019exploring',\n",
       " 'moncada2020integrating',\n",
       " 'moffitt2018molecular',\n",
       " 'asp2017spatial',\n",
       " 'Dhainaut2022Spatial',\n",
       " 'Joglekar2021A',\n",
       " 'berglund2018spatial',\n",
       " 'stickels2020highly',\n",
       " 'Tower2021Spatial',\n",
       " 'Kadur2022Human',\n",
       " 'wang2021easi',\n",
       " '10x',\n",
       " 'Lebrigand2022The',\n",
       " 'maynard2021trans',\n",
       " 'zhang2021spatially',\n",
       " 'lohoff2021integration',\n",
       " 'xia2022the',\n",
       " 'Pascual2021Dietary',\n",
       " 'ortiz2020molecular',\n",
       " 'asp2019a',\n",
       " 'hildebrandt2021spatial',\n",
       " 'ji2020multimodal',\n",
       " 'xia2019spatial',\n",
       " 'hunter2021spatially']"
      ]
     },
     "execution_count": 7,
     "metadata": {},
     "output_type": "execute_result"
    }
   ],
   "source": [
    "# show the spatial transcriptomics datasets\n",
    "sodb.list_dataset_by_category('Spatial Transcriptomics')"
   ]
  },
  {
   "cell_type": "code",
   "execution_count": 8,
   "metadata": {},
   "outputs": [
    {
     "data": {
      "text/plain": [
       "['MALDI_seed',\n",
       " 'yuan2021seam',\n",
       " 'niehaus2019transmission',\n",
       " 'desi_metaspace',\n",
       " 'MALDI_lung',\n",
       " 'MALDI_kidney',\n",
       " 'MALDI_brain']"
      ]
     },
     "execution_count": 8,
     "metadata": {},
     "output_type": "execute_result"
    }
   ],
   "source": [
    "# show the spatial metabolomics datasets\n",
    "sodb.list_dataset_by_category('Spatial Metabolomics')"
   ]
  },
  {
   "cell_type": "code",
   "execution_count": 9,
   "metadata": {},
   "outputs": [
    {
     "data": {
      "text/plain": [
       "['liu2020high', 'Beechem2022High']"
      ]
     },
     "execution_count": 9,
     "metadata": {},
     "output_type": "execute_result"
    }
   ],
   "source": [
    "# show the spatial MultiOmics datasets\n",
    "sodb.list_dataset_by_category('Spatial MultiOmics')"
   ]
  },
  {
   "cell_type": "code",
   "execution_count": 10,
   "metadata": {},
   "outputs": [
    {
     "data": {
      "text/plain": [
       "['zhao2022spatial']"
      ]
     },
     "execution_count": 10,
     "metadata": {},
     "output_type": "execute_result"
    }
   ],
   "source": [
    "# show the spatial genomics datasets\n",
    "sodb.list_dataset_by_category('Spatial Genomics')"
   ]
  },
  {
   "cell_type": "code",
   "execution_count": null,
   "metadata": {},
   "outputs": [],
   "source": []
  }
 ],
 "metadata": {
  "kernelspec": {
   "display_name": "SODB",
   "language": "python",
   "name": "sodb"
  },
  "language_info": {
   "codemirror_mode": {
    "name": "ipython",
    "version": 3
   },
   "file_extension": ".py",
   "mimetype": "text/x-python",
   "name": "python",
   "nbconvert_exporter": "python",
   "pygments_lexer": "ipython3",
   "version": "3.9.12"
  }
 },
 "nbformat": 4,
 "nbformat_minor": 4
}
