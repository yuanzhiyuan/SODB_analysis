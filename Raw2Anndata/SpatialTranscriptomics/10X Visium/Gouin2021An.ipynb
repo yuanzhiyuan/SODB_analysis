{
 "cells": [
  {
   "cell_type": "markdown",
   "metadata": {},
   "source": [
    "An N-Cadherin 2 expressing epithelial cell subpopulation predicts response to surgery, chemotherapy and immunotherapy in bladder cancer"
   ]
  },
  {
   "cell_type": "markdown",
   "metadata": {},
   "source": [
    "ShortName: Gouin2021An"
   ]
  },
  {
   "cell_type": "markdown",
   "metadata": {},
   "source": [
    "Steps of processing the data from raw to Anndata:"
   ]
  },
  {
   "cell_type": "code",
   "execution_count": 1,
   "metadata": {},
   "outputs": [],
   "source": [
    "# 1, Download the raw data from GSE171351"
   ]
  },
  {
   "cell_type": "code",
   "execution_count": 2,
   "metadata": {},
   "outputs": [],
   "source": [
    "# 2, Unzip the .tar file to get:\n",
    "\n",
    "# xxx_filtered_feature_bc_matrix.h5\n",
    "# xxx_raw_feature_bc_matrix.h5\n",
    "# xxx_scalefactors_json.json.gz\n",
    "# xxx_tissue_hires_image.png.gz\n",
    "# xxx_tissue_positions_list.csv.gz\n",
    "# ..."
   ]
  },
  {
   "cell_type": "code",
   "execution_count": null,
   "metadata": {},
   "outputs": [],
   "source": [
    "# 3, For each experiment, organize the path structure as:\n",
    "\n",
    "# - Experiment Name\n",
    "#     - filtered_feature_bc_matrix.h5\n",
    "#     -spatial\n",
    "#         - scalefactors_json.json\n",
    "#         - tissue_hires_image.png\n",
    "#         - tissue_positions_list.csv\n"
   ]
  },
  {
   "cell_type": "code",
   "execution_count": null,
   "metadata": {},
   "outputs": [],
   "source": [
    "# 4, Run SCANPY code to load and write Anndata\n",
    "import scanpy as sc\n",
    "adata = sc.read_visium(raw_path)\n",
    "adata.write_h5ad(h5ad_path)"
   ]
  },
  {
   "cell_type": "code",
   "execution_count": 3,
   "metadata": {},
   "outputs": [],
   "source": [
    "# The data is now transform from raw to Anndata, then it should be processed to be accepted to SODB"
   ]
  },
  {
   "cell_type": "code",
   "execution_count": null,
   "metadata": {},
   "outputs": [],
   "source": [
    "# Run ShortName.ipynb in Anndata2SODB path"
   ]
  }
 ],
 "metadata": {
  "kernelspec": {
   "display_name": "SODB",
   "language": "python",
   "name": "sodb"
  },
  "language_info": {
   "codemirror_mode": {
    "name": "ipython",
    "version": 3
   },
   "file_extension": ".py",
   "mimetype": "text/x-python",
   "name": "python",
   "nbconvert_exporter": "python",
   "pygments_lexer": "ipython3",
   "version": "3.9.12"
  }
 },
 "nbformat": 4,
 "nbformat_minor": 4
}
