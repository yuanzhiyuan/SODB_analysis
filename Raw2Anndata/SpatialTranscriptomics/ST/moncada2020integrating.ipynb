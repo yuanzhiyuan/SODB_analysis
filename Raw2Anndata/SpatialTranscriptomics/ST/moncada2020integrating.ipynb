{
 "cells": [
  {
   "cell_type": "markdown",
   "metadata": {},
   "source": [
    "Integrating microarray-based spatial transcriptomics and single-cell RNA-seq reveals tissue architecture in pancreatic ductal adenocarcinomas"
   ]
  },
  {
   "cell_type": "markdown",
   "metadata": {},
   "source": [
    "ShortName: moncada2020integrating"
   ]
  },
  {
   "cell_type": "markdown",
   "metadata": {},
   "source": [
    "Steps of processing the data from raw to Anndata:"
   ]
  },
  {
   "cell_type": "code",
   "execution_count": 1,
   "metadata": {},
   "outputs": [],
   "source": [
    "# 1, Download the raw data from GSE111672"
   ]
  },
  {
   "cell_type": "code",
   "execution_count": 47,
   "metadata": {},
   "outputs": [],
   "source": [
    "import os\n",
    "import scanpy as sc\n",
    "import pandas as pd\n",
    "import anndata as ad\n",
    "from glob import glob"
   ]
  },
  {
   "cell_type": "code",
   "execution_count": 48,
   "metadata": {},
   "outputs": [],
   "source": [
    "# data path of the ST data\n",
    "data_path = './data/ST_PancreaticCancer'"
   ]
  },
  {
   "cell_type": "code",
   "execution_count": 49,
   "metadata": {},
   "outputs": [
    {
     "data": {
      "text/plain": [
       "['./data/ST_PancreaticCancer/GSM4100723_PDAC-B-st2.tsv.gz',\n",
       " './data/ST_PancreaticCancer/GSM3405530_PDAC-A-indrop6.tsv.gz',\n",
       " './data/ST_PancreaticCancer/GSM3405534_PDAC-B-ST1.tsv.gz',\n",
       " './data/ST_PancreaticCancer/GSM4100726_PDAC-E-st1.tsv.gz',\n",
       " './data/ST_PancreaticCancer/GSM3405529_PDAC-A-indrop5.tsv.gz',\n",
       " './data/ST_PancreaticCancer/GSM4100728_PDAC-G-st1.tsv.gz',\n",
       " './data/ST_PancreaticCancer/GSM4100725_PDAC-D-st1.tsv.gz',\n",
       " './data/ST_PancreaticCancer/GSM3405527_PDAC-A-indrop3.tsv.gz',\n",
       " './data/ST_PancreaticCancer/GSM4100722_PDAC-A-st3.tsv.gz',\n",
       " './data/ST_PancreaticCancer/GSM4100717_PDAC-C-indrop1.tsv.gz',\n",
       " './data/ST_PancreaticCancer/GSM3405531_PDAC-B-indrop1.tsv.gz',\n",
       " './data/ST_PancreaticCancer/GSM3036909.tsv.gz',\n",
       " './data/ST_PancreaticCancer/GSM4100720_PDAC-C-indrop4.tsv.gz',\n",
       " './data/ST_PancreaticCancer/GSM3405533_PDAC-B-indrop3.tsv.gz',\n",
       " './data/ST_PancreaticCancer/GSM3405532_PDAC-B-indrop2.tsv.gz',\n",
       " './data/ST_PancreaticCancer/GSM4100718_PDAC-C-indrop2.tsv.gz',\n",
       " './data/ST_PancreaticCancer/GSM4100727_PDAC-F-st1.tsv.gz',\n",
       " './data/ST_PancreaticCancer/GSM3036911.tsv.gz',\n",
       " './data/ST_PancreaticCancer/GSM3036910.tsv.gz',\n",
       " './data/ST_PancreaticCancer/GSM4100721_PDAC-A-st2.tsv.gz',\n",
       " './data/ST_PancreaticCancer/GSM4100724_PDAC-B-st3.tsv.gz',\n",
       " './data/ST_PancreaticCancer/GSM4100719_PDAC-C-indrop3.tsv.gz',\n",
       " './data/ST_PancreaticCancer/GSM3405528_PDAC-A-indrop4.tsv.gz']"
      ]
     },
     "execution_count": 49,
     "metadata": {},
     "output_type": "execute_result"
    }
   ],
   "source": [
    "# get count_file\n",
    "count_file_list = glob(os.path.join(data_path, '*.tsv.gz'))\n",
    "count_file_list"
   ]
  },
  {
   "cell_type": "markdown",
   "metadata": {},
   "source": []
  },
  {
   "cell_type": "code",
   "execution_count": 147,
   "metadata": {},
   "outputs": [],
   "source": [
    "# read tsv using pandas\n",
    "count_file = 'GSM4100724_PDAC-B-st3.tsv.gz'\n",
    "count = pd.read_csv(f'{data_path}/{count_file}', sep='\\t')"
   ]
  },
  {
   "cell_type": "code",
   "execution_count": 148,
   "metadata": {
    "tags": []
   },
   "outputs": [
    {
     "data": {
      "text/html": [
       "<div>\n",
       "<style scoped>\n",
       "    .dataframe tbody tr th:only-of-type {\n",
       "        vertical-align: middle;\n",
       "    }\n",
       "\n",
       "    .dataframe tbody tr th {\n",
       "        vertical-align: top;\n",
       "    }\n",
       "\n",
       "    .dataframe thead th {\n",
       "        text-align: right;\n",
       "    }\n",
       "</style>\n",
       "<table border=\"1\" class=\"dataframe\">\n",
       "  <thead>\n",
       "    <tr style=\"text-align: right;\">\n",
       "      <th></th>\n",
       "      <th>Genes</th>\n",
       "      <th>10x13</th>\n",
       "      <th>10x14</th>\n",
       "      <th>10x15</th>\n",
       "      <th>10x16</th>\n",
       "      <th>10x17</th>\n",
       "      <th>10x19</th>\n",
       "      <th>10x20</th>\n",
       "      <th>10x21</th>\n",
       "      <th>10x22</th>\n",
       "      <th>...</th>\n",
       "      <th>9x17</th>\n",
       "      <th>9x18</th>\n",
       "      <th>9x19</th>\n",
       "      <th>9x20</th>\n",
       "      <th>9x21</th>\n",
       "      <th>9x22</th>\n",
       "      <th>9x23</th>\n",
       "      <th>9x24</th>\n",
       "      <th>9x25</th>\n",
       "      <th>9x26</th>\n",
       "    </tr>\n",
       "  </thead>\n",
       "  <tbody>\n",
       "    <tr>\n",
       "      <th>0</th>\n",
       "      <td>A1BG</td>\n",
       "      <td>0</td>\n",
       "      <td>0</td>\n",
       "      <td>0</td>\n",
       "      <td>0</td>\n",
       "      <td>0</td>\n",
       "      <td>0</td>\n",
       "      <td>0</td>\n",
       "      <td>0</td>\n",
       "      <td>0</td>\n",
       "      <td>...</td>\n",
       "      <td>0</td>\n",
       "      <td>0</td>\n",
       "      <td>0</td>\n",
       "      <td>0</td>\n",
       "      <td>0</td>\n",
       "      <td>0</td>\n",
       "      <td>0</td>\n",
       "      <td>0</td>\n",
       "      <td>0</td>\n",
       "      <td>0</td>\n",
       "    </tr>\n",
       "    <tr>\n",
       "      <th>1</th>\n",
       "      <td>A1CF</td>\n",
       "      <td>0</td>\n",
       "      <td>0</td>\n",
       "      <td>0</td>\n",
       "      <td>0</td>\n",
       "      <td>0</td>\n",
       "      <td>0</td>\n",
       "      <td>0</td>\n",
       "      <td>0</td>\n",
       "      <td>0</td>\n",
       "      <td>...</td>\n",
       "      <td>0</td>\n",
       "      <td>0</td>\n",
       "      <td>0</td>\n",
       "      <td>0</td>\n",
       "      <td>0</td>\n",
       "      <td>0</td>\n",
       "      <td>0</td>\n",
       "      <td>0</td>\n",
       "      <td>0</td>\n",
       "      <td>0</td>\n",
       "    </tr>\n",
       "    <tr>\n",
       "      <th>2</th>\n",
       "      <td>A2M</td>\n",
       "      <td>0</td>\n",
       "      <td>2</td>\n",
       "      <td>3</td>\n",
       "      <td>0</td>\n",
       "      <td>0</td>\n",
       "      <td>0</td>\n",
       "      <td>0</td>\n",
       "      <td>0</td>\n",
       "      <td>0</td>\n",
       "      <td>...</td>\n",
       "      <td>0</td>\n",
       "      <td>1</td>\n",
       "      <td>0</td>\n",
       "      <td>0</td>\n",
       "      <td>0</td>\n",
       "      <td>0</td>\n",
       "      <td>0</td>\n",
       "      <td>0</td>\n",
       "      <td>0</td>\n",
       "      <td>0</td>\n",
       "    </tr>\n",
       "    <tr>\n",
       "      <th>3</th>\n",
       "      <td>A2ML1</td>\n",
       "      <td>0</td>\n",
       "      <td>0</td>\n",
       "      <td>0</td>\n",
       "      <td>0</td>\n",
       "      <td>0</td>\n",
       "      <td>0</td>\n",
       "      <td>0</td>\n",
       "      <td>0</td>\n",
       "      <td>0</td>\n",
       "      <td>...</td>\n",
       "      <td>0</td>\n",
       "      <td>0</td>\n",
       "      <td>0</td>\n",
       "      <td>0</td>\n",
       "      <td>0</td>\n",
       "      <td>0</td>\n",
       "      <td>0</td>\n",
       "      <td>0</td>\n",
       "      <td>0</td>\n",
       "      <td>0</td>\n",
       "    </tr>\n",
       "    <tr>\n",
       "      <th>4</th>\n",
       "      <td>A3GALT2</td>\n",
       "      <td>0</td>\n",
       "      <td>0</td>\n",
       "      <td>0</td>\n",
       "      <td>0</td>\n",
       "      <td>0</td>\n",
       "      <td>0</td>\n",
       "      <td>0</td>\n",
       "      <td>0</td>\n",
       "      <td>0</td>\n",
       "      <td>...</td>\n",
       "      <td>0</td>\n",
       "      <td>0</td>\n",
       "      <td>0</td>\n",
       "      <td>0</td>\n",
       "      <td>0</td>\n",
       "      <td>0</td>\n",
       "      <td>0</td>\n",
       "      <td>0</td>\n",
       "      <td>0</td>\n",
       "      <td>0</td>\n",
       "    </tr>\n",
       "    <tr>\n",
       "      <th>...</th>\n",
       "      <td>...</td>\n",
       "      <td>...</td>\n",
       "      <td>...</td>\n",
       "      <td>...</td>\n",
       "      <td>...</td>\n",
       "      <td>...</td>\n",
       "      <td>...</td>\n",
       "      <td>...</td>\n",
       "      <td>...</td>\n",
       "      <td>...</td>\n",
       "      <td>...</td>\n",
       "      <td>...</td>\n",
       "      <td>...</td>\n",
       "      <td>...</td>\n",
       "      <td>...</td>\n",
       "      <td>...</td>\n",
       "      <td>...</td>\n",
       "      <td>...</td>\n",
       "      <td>...</td>\n",
       "      <td>...</td>\n",
       "      <td>...</td>\n",
       "    </tr>\n",
       "    <tr>\n",
       "      <th>19733</th>\n",
       "      <td>ZYG11A</td>\n",
       "      <td>0</td>\n",
       "      <td>0</td>\n",
       "      <td>0</td>\n",
       "      <td>0</td>\n",
       "      <td>0</td>\n",
       "      <td>0</td>\n",
       "      <td>0</td>\n",
       "      <td>0</td>\n",
       "      <td>0</td>\n",
       "      <td>...</td>\n",
       "      <td>0</td>\n",
       "      <td>0</td>\n",
       "      <td>0</td>\n",
       "      <td>0</td>\n",
       "      <td>0</td>\n",
       "      <td>0</td>\n",
       "      <td>0</td>\n",
       "      <td>0</td>\n",
       "      <td>0</td>\n",
       "      <td>0</td>\n",
       "    </tr>\n",
       "    <tr>\n",
       "      <th>19734</th>\n",
       "      <td>ZYG11B</td>\n",
       "      <td>0</td>\n",
       "      <td>1</td>\n",
       "      <td>0</td>\n",
       "      <td>0</td>\n",
       "      <td>0</td>\n",
       "      <td>0</td>\n",
       "      <td>0</td>\n",
       "      <td>0</td>\n",
       "      <td>0</td>\n",
       "      <td>...</td>\n",
       "      <td>0</td>\n",
       "      <td>0</td>\n",
       "      <td>0</td>\n",
       "      <td>0</td>\n",
       "      <td>0</td>\n",
       "      <td>0</td>\n",
       "      <td>0</td>\n",
       "      <td>0</td>\n",
       "      <td>0</td>\n",
       "      <td>0</td>\n",
       "    </tr>\n",
       "    <tr>\n",
       "      <th>19735</th>\n",
       "      <td>ZYX</td>\n",
       "      <td>3</td>\n",
       "      <td>11</td>\n",
       "      <td>4</td>\n",
       "      <td>0</td>\n",
       "      <td>0</td>\n",
       "      <td>0</td>\n",
       "      <td>0</td>\n",
       "      <td>0</td>\n",
       "      <td>0</td>\n",
       "      <td>...</td>\n",
       "      <td>1</td>\n",
       "      <td>1</td>\n",
       "      <td>0</td>\n",
       "      <td>0</td>\n",
       "      <td>0</td>\n",
       "      <td>0</td>\n",
       "      <td>1</td>\n",
       "      <td>0</td>\n",
       "      <td>0</td>\n",
       "      <td>0</td>\n",
       "    </tr>\n",
       "    <tr>\n",
       "      <th>19736</th>\n",
       "      <td>ZZEF1</td>\n",
       "      <td>0</td>\n",
       "      <td>1</td>\n",
       "      <td>0</td>\n",
       "      <td>0</td>\n",
       "      <td>0</td>\n",
       "      <td>0</td>\n",
       "      <td>0</td>\n",
       "      <td>0</td>\n",
       "      <td>0</td>\n",
       "      <td>...</td>\n",
       "      <td>0</td>\n",
       "      <td>0</td>\n",
       "      <td>0</td>\n",
       "      <td>0</td>\n",
       "      <td>0</td>\n",
       "      <td>0</td>\n",
       "      <td>0</td>\n",
       "      <td>0</td>\n",
       "      <td>0</td>\n",
       "      <td>0</td>\n",
       "    </tr>\n",
       "    <tr>\n",
       "      <th>19737</th>\n",
       "      <td>ZZZ3</td>\n",
       "      <td>0</td>\n",
       "      <td>3</td>\n",
       "      <td>1</td>\n",
       "      <td>0</td>\n",
       "      <td>0</td>\n",
       "      <td>0</td>\n",
       "      <td>0</td>\n",
       "      <td>0</td>\n",
       "      <td>0</td>\n",
       "      <td>...</td>\n",
       "      <td>0</td>\n",
       "      <td>0</td>\n",
       "      <td>0</td>\n",
       "      <td>0</td>\n",
       "      <td>0</td>\n",
       "      <td>0</td>\n",
       "      <td>0</td>\n",
       "      <td>0</td>\n",
       "      <td>0</td>\n",
       "      <td>0</td>\n",
       "    </tr>\n",
       "  </tbody>\n",
       "</table>\n",
       "<p>19738 rows × 317 columns</p>\n",
       "</div>"
      ],
      "text/plain": [
       "         Genes  10x13  10x14  10x15  10x16  10x17  10x19  10x20  10x21  10x22  \\\n",
       "0         A1BG      0      0      0      0      0      0      0      0      0   \n",
       "1         A1CF      0      0      0      0      0      0      0      0      0   \n",
       "2          A2M      0      2      3      0      0      0      0      0      0   \n",
       "3        A2ML1      0      0      0      0      0      0      0      0      0   \n",
       "4      A3GALT2      0      0      0      0      0      0      0      0      0   \n",
       "...        ...    ...    ...    ...    ...    ...    ...    ...    ...    ...   \n",
       "19733   ZYG11A      0      0      0      0      0      0      0      0      0   \n",
       "19734   ZYG11B      0      1      0      0      0      0      0      0      0   \n",
       "19735      ZYX      3     11      4      0      0      0      0      0      0   \n",
       "19736    ZZEF1      0      1      0      0      0      0      0      0      0   \n",
       "19737     ZZZ3      0      3      1      0      0      0      0      0      0   \n",
       "\n",
       "       ...  9x17  9x18  9x19  9x20  9x21  9x22  9x23  9x24  9x25  9x26  \n",
       "0      ...     0     0     0     0     0     0     0     0     0     0  \n",
       "1      ...     0     0     0     0     0     0     0     0     0     0  \n",
       "2      ...     0     1     0     0     0     0     0     0     0     0  \n",
       "3      ...     0     0     0     0     0     0     0     0     0     0  \n",
       "4      ...     0     0     0     0     0     0     0     0     0     0  \n",
       "...    ...   ...   ...   ...   ...   ...   ...   ...   ...   ...   ...  \n",
       "19733  ...     0     0     0     0     0     0     0     0     0     0  \n",
       "19734  ...     0     0     0     0     0     0     0     0     0     0  \n",
       "19735  ...     1     1     0     0     0     0     1     0     0     0  \n",
       "19736  ...     0     0     0     0     0     0     0     0     0     0  \n",
       "19737  ...     0     0     0     0     0     0     0     0     0     0  \n",
       "\n",
       "[19738 rows x 317 columns]"
      ]
     },
     "execution_count": 148,
     "metadata": {},
     "output_type": "execute_result"
    }
   ],
   "source": [
    "count = count.fillna(0)\n",
    "count"
   ]
  },
  {
   "cell_type": "code",
   "execution_count": 149,
   "metadata": {},
   "outputs": [
    {
     "data": {
      "text/plain": [
       "Index(['10x13', '10x14', '10x15', '10x16', '10x17', '10x19', '10x20', '10x21',\n",
       "       '10x22', '10x23',\n",
       "       ...\n",
       "       '9x17', '9x18', '9x19', '9x20', '9x21', '9x22', '9x23', '9x24', '9x25',\n",
       "       '9x26'],\n",
       "      dtype='object', length=316)"
      ]
     },
     "execution_count": 149,
     "metadata": {},
     "output_type": "execute_result"
    }
   ],
   "source": [
    "# get cell_ID\n",
    "cell_id_array = count.columns[1:]\n",
    "cell_id_array"
   ]
  },
  {
   "cell_type": "code",
   "execution_count": 150,
   "metadata": {},
   "outputs": [
    {
     "data": {
      "text/plain": [
       "0           A1BG\n",
       "1           A1CF\n",
       "2            A2M\n",
       "3          A2ML1\n",
       "4        A3GALT2\n",
       "          ...   \n",
       "19733     ZYG11A\n",
       "19734     ZYG11B\n",
       "19735        ZYX\n",
       "19736      ZZEF1\n",
       "19737       ZZZ3\n",
       "Name: Genes, Length: 19738, dtype: object"
      ]
     },
     "execution_count": 150,
     "metadata": {},
     "output_type": "execute_result"
    }
   ],
   "source": [
    "# get geneID\n",
    "gene_id_array = count.Genes\n",
    "gene_id_array"
   ]
  },
  {
   "cell_type": "code",
   "execution_count": 151,
   "metadata": {},
   "outputs": [
    {
     "data": {
      "text/plain": [
       "array([[ 0,  0,  0, ...,  3,  0,  0],\n",
       "       [ 0,  0,  2, ..., 11,  1,  3],\n",
       "       [ 0,  0,  3, ...,  4,  0,  1],\n",
       "       ...,\n",
       "       [ 0,  0,  0, ...,  0,  0,  0],\n",
       "       [ 0,  0,  0, ...,  0,  0,  0],\n",
       "       [ 0,  0,  0, ...,  0,  0,  0]])"
      ]
     },
     "execution_count": 151,
     "metadata": {},
     "output_type": "execute_result"
    }
   ],
   "source": [
    "# get count_matrix\n",
    "count_X = count.values[:,1:].T.astype('int')\n",
    "count_X"
   ]
  },
  {
   "cell_type": "code",
   "execution_count": 152,
   "metadata": {},
   "outputs": [],
   "source": [
    "# adata\n",
    "adata = ad.AnnData(count_X)\n",
    "adata.var_names = gene_id_array\n",
    "adata.obs_names = cell_id_array"
   ]
  },
  {
   "cell_type": "code",
   "execution_count": 153,
   "metadata": {},
   "outputs": [
    {
     "data": {
      "text/plain": [
       "AnnData object with n_obs × n_vars = 316 × 19738"
      ]
     },
     "execution_count": 153,
     "metadata": {},
     "output_type": "execute_result"
    }
   ],
   "source": [
    "adata"
   ]
  },
  {
   "cell_type": "code",
   "execution_count": 154,
   "metadata": {},
   "outputs": [
    {
     "data": {
      "text/html": [
       "<div>\n",
       "<style scoped>\n",
       "    .dataframe tbody tr th:only-of-type {\n",
       "        vertical-align: middle;\n",
       "    }\n",
       "\n",
       "    .dataframe tbody tr th {\n",
       "        vertical-align: top;\n",
       "    }\n",
       "\n",
       "    .dataframe thead th {\n",
       "        text-align: right;\n",
       "    }\n",
       "</style>\n",
       "<table border=\"1\" class=\"dataframe\">\n",
       "  <thead>\n",
       "    <tr style=\"text-align: right;\">\n",
       "      <th></th>\n",
       "      <th>x</th>\n",
       "      <th>y</th>\n",
       "    </tr>\n",
       "    <tr>\n",
       "      <th>coord_ID</th>\n",
       "      <th></th>\n",
       "      <th></th>\n",
       "    </tr>\n",
       "  </thead>\n",
       "  <tbody>\n",
       "    <tr>\n",
       "      <th>10x13</th>\n",
       "      <td>10</td>\n",
       "      <td>13</td>\n",
       "    </tr>\n",
       "    <tr>\n",
       "      <th>10x14</th>\n",
       "      <td>10</td>\n",
       "      <td>14</td>\n",
       "    </tr>\n",
       "    <tr>\n",
       "      <th>10x15</th>\n",
       "      <td>10</td>\n",
       "      <td>15</td>\n",
       "    </tr>\n",
       "    <tr>\n",
       "      <th>10x16</th>\n",
       "      <td>10</td>\n",
       "      <td>16</td>\n",
       "    </tr>\n",
       "    <tr>\n",
       "      <th>10x17</th>\n",
       "      <td>10</td>\n",
       "      <td>17</td>\n",
       "    </tr>\n",
       "    <tr>\n",
       "      <th>...</th>\n",
       "      <td>...</td>\n",
       "      <td>...</td>\n",
       "    </tr>\n",
       "    <tr>\n",
       "      <th>9x22</th>\n",
       "      <td>9</td>\n",
       "      <td>22</td>\n",
       "    </tr>\n",
       "    <tr>\n",
       "      <th>9x23</th>\n",
       "      <td>9</td>\n",
       "      <td>23</td>\n",
       "    </tr>\n",
       "    <tr>\n",
       "      <th>9x24</th>\n",
       "      <td>9</td>\n",
       "      <td>24</td>\n",
       "    </tr>\n",
       "    <tr>\n",
       "      <th>9x25</th>\n",
       "      <td>9</td>\n",
       "      <td>25</td>\n",
       "    </tr>\n",
       "    <tr>\n",
       "      <th>9x26</th>\n",
       "      <td>9</td>\n",
       "      <td>26</td>\n",
       "    </tr>\n",
       "  </tbody>\n",
       "</table>\n",
       "<p>316 rows × 2 columns</p>\n",
       "</div>"
      ],
      "text/plain": [
       "           x   y\n",
       "coord_ID        \n",
       "10x13     10  13\n",
       "10x14     10  14\n",
       "10x15     10  15\n",
       "10x16     10  16\n",
       "10x17     10  17\n",
       "...       ..  ..\n",
       "9x22       9  22\n",
       "9x23       9  23\n",
       "9x24       9  24\n",
       "9x25       9  25\n",
       "9x26       9  26\n",
       "\n",
       "[316 rows x 2 columns]"
      ]
     },
     "execution_count": 154,
     "metadata": {},
     "output_type": "execute_result"
    }
   ],
   "source": [
    "# get spot coordinate\n",
    "spot_coordinate = pd.DataFrame()\n",
    "spot_coordinate['coord_ID'] = cell_id_array\n",
    "spot_coordinate['x'] = spot_coordinate['coord_ID'].apply(lambda x: x.split('x')[0])\n",
    "spot_coordinate['y'] = spot_coordinate['coord_ID'].apply(lambda x: x.split('x')[1])\n",
    "spot_coordinate = spot_coordinate.set_index('coord_ID')\n",
    "spot_coordinate\n"
   ]
  },
  {
   "cell_type": "code",
   "execution_count": 155,
   "metadata": {},
   "outputs": [
    {
     "data": {
      "text/plain": [
       "AnnData object with n_obs × n_vars = 316 × 19738\n",
       "    obsm: 'spatial'"
      ]
     },
     "execution_count": 155,
     "metadata": {},
     "output_type": "execute_result"
    }
   ],
   "source": [
    "adata.obsm['spatial'] = spot_coordinate.loc[adata.obs_names].loc[:,['x','y']]\n",
    "adata"
   ]
  },
  {
   "cell_type": "markdown",
   "metadata": {},
   "source": []
  },
  {
   "cell_type": "code",
   "execution_count": 156,
   "metadata": {},
   "outputs": [],
   "source": [
    "adata.write_h5ad(f'{data_path}/h5ad/GSM4100724_PDAC-B-st3.h5ad')"
   ]
  },
  {
   "cell_type": "code",
   "execution_count": null,
   "metadata": {},
   "outputs": [],
   "source": []
  }
 ],
 "metadata": {
  "interpreter": {
   "hash": "98b0a9b7b4eaaa670588a142fd0a9b87eaafe866f1db4228be72b4211d12040f"
  },
  "kernelspec": {
   "display_name": "Python 3",
   "language": "python",
   "name": "python3"
  },
  "language_info": {
   "codemirror_mode": {
    "name": "ipython",
    "version": 3
   },
   "file_extension": ".py",
   "mimetype": "text/x-python",
   "name": "python",
   "nbconvert_exporter": "python",
   "pygments_lexer": "ipython3",
   "version": "3.8.2"
  }
 },
 "nbformat": 4,
 "nbformat_minor": 5
}
