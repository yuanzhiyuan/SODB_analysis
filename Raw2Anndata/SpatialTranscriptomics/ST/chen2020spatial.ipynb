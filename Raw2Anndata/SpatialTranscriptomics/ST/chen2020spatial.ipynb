{
 "cells": [
  {
   "cell_type": "markdown",
   "metadata": {},
   "source": [
    "Spatial Transcriptomics and In Situ Sequencing to Study Alzheimer's Disease"
   ]
  },
  {
   "cell_type": "markdown",
   "metadata": {},
   "source": [
    "ShortName: chen2020spatial"
   ]
  },
  {
   "cell_type": "markdown",
   "metadata": {},
   "source": [
    "Steps of processing the data from raw to Anndata:"
   ]
  },
  {
   "cell_type": "code",
   "execution_count": 1,
   "metadata": {},
   "outputs": [],
   "source": [
    "# 1, Download the raw data from GSE152506"
   ]
  },
  {
   "cell_type": "code",
   "execution_count": 4,
   "metadata": {},
   "outputs": [],
   "source": [
    "logcount_file = 'mouse_AD/GSE152506_logCPM_counts.txt'\n",
    "\n",
    "\n",
    "# adata = sc.read_csv(logcount_file,delimiter=',',dtype='str')\n",
    "adata_X = np.genfromtxt(logcount_file, delimiter=',',dtype='str')"
   ]
  },
  {
   "cell_type": "code",
   "execution_count": 6,
   "metadata": {},
   "outputs": [
    {
     "data": {
      "text/plain": [
       "array([1, 2])"
      ]
     },
     "execution_count": 6,
     "metadata": {},
     "output_type": "execute_result"
    }
   ],
   "source": [
    "tmp = np.array([1,2,3])\n",
    "tmp[0:-1]"
   ]
  },
  {
   "cell_type": "code",
   "execution_count": 12,
   "metadata": {},
   "outputs": [],
   "source": [
    "data_X = adata_X[1:,1:-1].astype('float')"
   ]
  },
  {
   "cell_type": "code",
   "execution_count": 13,
   "metadata": {},
   "outputs": [],
   "source": [
    "obs_list = adata_X[1:,0]\n",
    "var_list = adata_X[0,1:-1]"
   ]
  },
  {
   "cell_type": "code",
   "execution_count": 16,
   "metadata": {},
   "outputs": [
    {
     "data": {
      "text/plain": [
       "(10327, 46454)"
      ]
     },
     "execution_count": 16,
     "metadata": {},
     "output_type": "execute_result"
    }
   ],
   "source": [
    "data_X.shape"
   ]
  },
  {
   "cell_type": "code",
   "execution_count": 17,
   "metadata": {},
   "outputs": [
    {
     "data": {
      "text/plain": [
       "(10327,)"
      ]
     },
     "execution_count": 17,
     "metadata": {},
     "output_type": "execute_result"
    }
   ],
   "source": [
    "obs_list.shape"
   ]
  },
  {
   "cell_type": "code",
   "execution_count": 18,
   "metadata": {},
   "outputs": [
    {
     "data": {
      "text/plain": [
       "(46454,)"
      ]
     },
     "execution_count": 18,
     "metadata": {},
     "output_type": "execute_result"
    }
   ],
   "source": [
    "var_list.shape"
   ]
  },
  {
   "cell_type": "code",
   "execution_count": 19,
   "metadata": {},
   "outputs": [],
   "source": [
    "adata = ad.AnnData(X=data_X,obs=pd.DataFrame(index=obs_list),var=pd.DataFrame(index=var_list))"
   ]
  },
  {
   "cell_type": "code",
   "execution_count": 22,
   "metadata": {},
   "outputs": [],
   "source": [
    "TS_list = []\n",
    "spatial_list = []\n",
    "for i in range(len(adata.obs_names)):\n",
    "    cur_str = adata.obs_names[i]\n",
    "    TS_str = cur_str.split('__')[0]\n",
    "    spatial_str = cur_str.split('__')[1]  \n",
    "    TS_list.append(TS_str)\n",
    "    spatial_x = spatial_str.split('_')[0]\n",
    "    spatial_y = spatial_str.split('_')[1]\n",
    "    \n",
    "    spatial_list.append([float(spatial_x),float(spatial_y)])\n",
    "TS_list = np.array(TS_list)\n",
    "spatial_list = np.array(spatial_list)"
   ]
  },
  {
   "cell_type": "code",
   "execution_count": 23,
   "metadata": {},
   "outputs": [],
   "source": [
    "adata.obs['TS'] = TS_list\n",
    "adata.obsm['spatial'] = spatial_list"
   ]
  },
  {
   "cell_type": "code",
   "execution_count": 24,
   "metadata": {},
   "outputs": [
    {
     "name": "stderr",
     "output_type": "stream",
     "text": [
      "... storing 'TS' as categorical\n"
     ]
    }
   ],
   "source": [
    "adata.write_h5ad('mouse_AD/h5ad/log_X.h5ad')"
   ]
  },
  {
   "cell_type": "code",
   "execution_count": 29,
   "metadata": {},
   "outputs": [
    {
     "data": {
      "text/plain": [
       "array([[2.9829743, 2.9829743, 2.9829743, ..., 2.9829743, 2.9829743,\n",
       "        2.9829743],\n",
       "       [2.9829743, 2.9829743, 2.9829743, ..., 2.9829743, 2.9829743,\n",
       "        2.9829743],\n",
       "       [2.9829743, 2.9829743, 2.9829743, ..., 2.9829743, 2.9829743,\n",
       "        2.9829743],\n",
       "       ...,\n",
       "       [2.9829743, 2.9829743, 2.9829743, ..., 2.9829743, 2.9829743,\n",
       "        2.9829743],\n",
       "       [2.9829743, 2.9829743, 2.9829743, ..., 2.9829743, 2.9829743,\n",
       "        2.9829743],\n",
       "       [2.9829743, 2.9829743, 2.9829743, ..., 2.9829743, 2.9829743,\n",
       "        2.9829743]], dtype=float32)"
      ]
     },
     "execution_count": 29,
     "metadata": {},
     "output_type": "execute_result"
    }
   ],
   "source": [
    "adata"
   ]
  }
 ],
 "metadata": {
  "kernelspec": {
   "display_name": "pytorch",
   "language": "python",
   "name": "pytorch"
  },
  "language_info": {
   "codemirror_mode": {
    "name": "ipython",
    "version": 3
   },
   "file_extension": ".py",
   "mimetype": "text/x-python",
   "name": "python",
   "nbconvert_exporter": "python",
   "pygments_lexer": "ipython3",
   "version": "3.7.5"
  }
 },
 "nbformat": 4,
 "nbformat_minor": 4
}
