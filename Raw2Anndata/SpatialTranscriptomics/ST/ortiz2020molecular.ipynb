{
 "cells": [
  {
   "cell_type": "code",
   "execution_count": null,
   "metadata": {},
   "outputs": [],
   "source": []
  },
  {
   "cell_type": "markdown",
   "metadata": {},
   "source": [
    "Molecular atlas of the adult mouse brain"
   ]
  },
  {
   "cell_type": "markdown",
   "metadata": {},
   "source": [
    "ShortName: ortiz2020molecular"
   ]
  },
  {
   "cell_type": "markdown",
   "metadata": {},
   "source": [
    "Steps of processing the data from raw to Anndata:"
   ]
  },
  {
   "cell_type": "code",
   "execution_count": 1,
   "metadata": {},
   "outputs": [],
   "source": [
    "# 1, Download the raw data from GSE147747"
   ]
  },
  {
   "cell_type": "markdown",
   "metadata": {},
   "source": [
    "# csv to h5ad"
   ]
  },
  {
   "cell_type": "markdown",
   "metadata": {},
   "source": [
    "### count processing"
   ]
  },
  {
   "cell_type": "code",
   "execution_count": 48,
   "metadata": {},
   "outputs": [],
   "source": [
    "norm_count_file = data_path+'expr_normalized_table.tsv'\n",
    "adata = sc.read_csv(norm_count_file,delimiter='\\t')"
   ]
  },
  {
   "cell_type": "code",
   "execution_count": 52,
   "metadata": {},
   "outputs": [
    {
     "data": {
      "text/plain": [
       "Index(['02A_15.8x13.04', '02A_18.75x13.07', '02A_16.74x13.07',\n",
       "       '02A_17.81x13.08', '02A_19.96x14.09', '02A_13.88x14.09',\n",
       "       '02A_16.77x14.09', '02A_15.81x14.08', '02A_14.81x14.09',\n",
       "       '02A_18.79x14.09',\n",
       "       ...\n",
       "       '40B_3.94x24.11', '40B_4.97x24.12', '40B_6.95x25.1', '40B_5.88x25.09',\n",
       "       '40B_5.01x25.13', '40B_5.95x26.09', '40B_5.82x20.11', '40B_6.87x20.11',\n",
       "       '40B_7.9x22.06', '40B_7.9x23.1'],\n",
       "      dtype='object', length=34053)"
      ]
     },
     "execution_count": 52,
     "metadata": {},
     "output_type": "execute_result"
    }
   ],
   "source": [
    "adata.obs_names"
   ]
  },
  {
   "cell_type": "code",
   "execution_count": 53,
   "metadata": {},
   "outputs": [],
   "source": [
    "TS_list = []\n",
    "spatial_list = []\n",
    "for i in range(len(adata.obs_names)):\n",
    "    cur_str = adata.obs_names[i]\n",
    "    TS_str = cur_str.split('_')[0]\n",
    "    spatial_str = cur_str.split('_')[1]  \n",
    "    TS_list.append(TS_str)\n",
    "    spatial_x = spatial_str.split('x')[0]\n",
    "    spatial_y = spatial_str.split('x')[1]\n",
    "    \n",
    "    spatial_list.append([float(spatial_x),float(spatial_y)])\n",
    "TS_list = np.array(TS_list)\n",
    "spatial_list = np.array(spatial_list)"
   ]
  },
  {
   "cell_type": "code",
   "execution_count": 54,
   "metadata": {},
   "outputs": [],
   "source": [
    "adata.obs['TS'] = TS_list\n",
    "adata.obsm['spatial'] = spatial_list"
   ]
  },
  {
   "cell_type": "code",
   "execution_count": null,
   "metadata": {},
   "outputs": [],
   "source": []
  },
  {
   "cell_type": "code",
   "execution_count": 56,
   "metadata": {},
   "outputs": [
    {
     "name": "stderr",
     "output_type": "stream",
     "text": [
      "... storing 'TS' as categorical\n"
     ]
    }
   ],
   "source": [
    "adata.write_h5ad(data_path+'h5ad/norm.h5ad')"
   ]
  },
  {
   "cell_type": "markdown",
   "metadata": {},
   "source": [
    "### meta processing"
   ]
  },
  {
   "cell_type": "code",
   "execution_count": 59,
   "metadata": {},
   "outputs": [],
   "source": [
    "# raw_count_file = data_path+'expr_raw_counts_table.tsv'\n",
    "meta_file = data_path+'meta_table.tsv'\n",
    "adata_meta = sc.read_csv(meta_file,delimiter='\\t',dtype='str')"
   ]
  },
  {
   "cell_type": "code",
   "execution_count": 63,
   "metadata": {},
   "outputs": [
    {
     "data": {
      "text/plain": [
       "Index(['section_index', 'stereo_ML', 'stereo_DV', 'stereo_AP', 'HE_X', 'HE_Y',\n",
       "       'ABA_acronym', 'ABA_name', 'ABA_parent', 'nuclei_segmented',\n",
       "       'spot_radius', 'passed_QC', 'cluster_id', 'cluster_name'],\n",
       "      dtype='object')"
      ]
     },
     "execution_count": 63,
     "metadata": {},
     "output_type": "execute_result"
    }
   ],
   "source": [
    "adata_meta.var_names"
   ]
  },
  {
   "cell_type": "code",
   "execution_count": 76,
   "metadata": {},
   "outputs": [
    {
     "data": {
      "text/plain": [
       "(182,)"
      ]
     },
     "execution_count": 76,
     "metadata": {},
     "output_type": "execute_result"
    }
   ],
   "source": [
    "np.unique(adata_meta[:,'cluster_name'].X).shape"
   ]
  },
  {
   "cell_type": "code",
   "execution_count": 77,
   "metadata": {},
   "outputs": [
    {
     "data": {
      "text/plain": [
       "(182,)"
      ]
     },
     "execution_count": 77,
     "metadata": {},
     "output_type": "execute_result"
    }
   ],
   "source": [
    "np.unique(adata_meta[:,'cluster_id'].X).shape"
   ]
  },
  {
   "cell_type": "code",
   "execution_count": 99,
   "metadata": {},
   "outputs": [
    {
     "data": {
      "text/plain": [
       "AnnData object with n_obs × n_vars = 34103 × 14 "
      ]
     },
     "execution_count": 99,
     "metadata": {},
     "output_type": "execute_result"
    }
   ],
   "source": [
    "adata_meta[:,]"
   ]
  },
  {
   "cell_type": "code",
   "execution_count": null,
   "metadata": {},
   "outputs": [],
   "source": [
    "list_big = adata_meta.obs_names\n",
    "list_small = adata.obs_names\n",
    "index_list = get_small_idx_in_big(list_big,list_small)\n",
    "\n",
    "adata_meta_use = adata_meta[index_list,:]\n",
    "for v in adata_meta_use.var_names:\n",
    "    print(v)\n",
    "    adata.obs[v] = np.array(adata_meta_use[:,v].X)[:,0]\n",
    "\n"
   ]
  },
  {
   "cell_type": "code",
   "execution_count": 112,
   "metadata": {},
   "outputs": [],
   "source": [
    "adata.write_h5ad(data_path+'h5ad/norm_addmeta.h5ad')"
   ]
  }
 ],
 "metadata": {
  "kernelspec": {
   "display_name": "SODB",
   "language": "python",
   "name": "sodb"
  },
  "language_info": {
   "codemirror_mode": {
    "name": "ipython",
    "version": 3
   },
   "file_extension": ".py",
   "mimetype": "text/x-python",
   "name": "python",
   "nbconvert_exporter": "python",
   "pygments_lexer": "ipython3",
   "version": "3.9.12"
  }
 },
 "nbformat": 4,
 "nbformat_minor": 4
}
