{
 "cells": [
  {
   "cell_type": "code",
   "execution_count": null,
   "metadata": {},
   "outputs": [],
   "source": []
  },
  {
   "cell_type": "markdown",
   "metadata": {},
   "source": [
    "Spatial transcriptome profiling by MERFISH reveals subcellular RNA compartmentalization and cell cycle-dependent gene expression"
   ]
  },
  {
   "cell_type": "markdown",
   "metadata": {},
   "source": [
    "ShortName: xia2019spatial"
   ]
  },
  {
   "cell_type": "markdown",
   "metadata": {},
   "source": [
    "Steps of processing the data from raw to Anndata:"
   ]
  },
  {
   "cell_type": "code",
   "execution_count": 1,
   "metadata": {},
   "outputs": [],
   "source": [
    "# 1, Download the raw data from https://zenodo.org/record/3380442#.Yk-iw5pByNg"
   ]
  },
  {
   "cell_type": "code",
   "execution_count": 6,
   "metadata": {},
   "outputs": [],
   "source": [
    "import urllib.request\n",
    "from soview import *\n",
    "import pandas as pd"
   ]
  },
  {
   "cell_type": "code",
   "execution_count": 9,
   "metadata": {},
   "outputs": [],
   "source": [
    "data_path = '/aaa/jianhuayao/project2/zhiyuanyuan/PUBDT/st/merfish/pnas/data'\n",
    "h5ad_path = '/aaa/jianhuayao/project2/zhiyuanyuan/PUBDT/st/merfish/pnas/h5ad'"
   ]
  },
  {
   "cell_type": "code",
   "execution_count": 20,
   "metadata": {},
   "outputs": [],
   "source": [
    "coordinates = pd.read_excel(f\"{data_path}/pnas.1912459116.sd15.xlsx\", index_col=0)\n",
    "counts_total = sc.read_csv(f\"{data_path}/pnas.1912459116.sd12.csv\").transpose()\n",
    "counts_ER = sc.read_csv(f\"{data_path}/pnas.1912459116.sd13.csv\").transpose()\n",
    "counts_nucleus = sc.read_csv(f\"{data_path}/pnas.1912459116.sd14.csv\").transpose()"
   ]
  },
  {
   "cell_type": "code",
   "execution_count": 15,
   "metadata": {},
   "outputs": [
    {
     "data": {
      "text/plain": [
       "AnnData object with n_obs × n_vars = 1368 × 12903"
      ]
     },
     "execution_count": 15,
     "metadata": {},
     "output_type": "execute_result"
    }
   ],
   "source": [
    "counts"
   ]
  },
  {
   "cell_type": "code",
   "execution_count": 28,
   "metadata": {},
   "outputs": [],
   "source": [
    "adata_total = counts_total[coordinates.index, :]\n",
    "adata_total.obsm[\"spatial\"] = coordinates.to_numpy()\n",
    "adata_total.write_h5ad(f'{h5ad_path}/total.h5ad')"
   ]
  },
  {
   "cell_type": "code",
   "execution_count": 29,
   "metadata": {},
   "outputs": [],
   "source": [
    "adata_ER = counts_ER[coordinates.index, :]\n",
    "adata_ER.obsm[\"spatial\"] = coordinates.to_numpy()\n",
    "adata_total.write_h5ad(f'{h5ad_path}/ER.h5ad')"
   ]
  },
  {
   "cell_type": "code",
   "execution_count": 30,
   "metadata": {},
   "outputs": [],
   "source": [
    "adata_nucleus = counts_nucleus[coordinates.index, :]\n",
    "adata_nucleus.obsm[\"spatial\"] = coordinates.to_numpy()\n",
    "adata_total.write_h5ad(f'{h5ad_path}/nucleus.h5ad')"
   ]
  },
  {
   "cell_type": "code",
   "execution_count": 27,
   "metadata": {},
   "outputs": [
    {
     "data": {
      "text/plain": [
       "AnnData object with n_obs × n_vars = 645 × 12903\n",
       "    obsm: 'spatial'"
      ]
     },
     "execution_count": 27,
     "metadata": {},
     "output_type": "execute_result"
    }
   ],
   "source": [
    "adata_nucleus"
   ]
  },
  {
   "cell_type": "code",
   "execution_count": 25,
   "metadata": {},
   "outputs": [
    {
     "data": {
      "text/plain": [
       "array([[ 0.,  3.,  0., ...,  1., 14., 12.],\n",
       "       [ 0.,  0.,  0., ...,  0.,  8., 15.],\n",
       "       [ 0.,  1.,  0., ...,  0.,  7.,  8.],\n",
       "       ...,\n",
       "       [ 0.,  0.,  0., ...,  1.,  2.,  4.],\n",
       "       [ 0.,  0.,  0., ...,  1.,  9.,  3.],\n",
       "       [ 0.,  0.,  0., ...,  0.,  5.,  3.]], dtype=float32)"
      ]
     },
     "execution_count": 25,
     "metadata": {},
     "output_type": "execute_result"
    }
   ],
   "source": [
    "adata_ER.X"
   ]
  },
  {
   "cell_type": "code",
   "execution_count": 26,
   "metadata": {},
   "outputs": [
    {
     "data": {
      "text/plain": [
       "array([[ 0.,  1.,  0., ...,  0.,  4.,  3.],\n",
       "       [ 0.,  1.,  0., ...,  0.,  8., 12.],\n",
       "       [ 0.,  0.,  0., ...,  1.,  7.,  5.],\n",
       "       ...,\n",
       "       [ 0.,  0.,  0., ...,  0.,  1.,  2.],\n",
       "       [ 0.,  0.,  0., ...,  1.,  4.,  3.],\n",
       "       [ 0.,  1.,  0., ...,  0.,  0.,  2.]], dtype=float32)"
      ]
     },
     "execution_count": 26,
     "metadata": {},
     "output_type": "execute_result"
    }
   ],
   "source": [
    "adata_nucleus.X"
   ]
  },
  {
   "cell_type": "code",
   "execution_count": null,
   "metadata": {},
   "outputs": [],
   "source": []
  }
 ],
 "metadata": {
  "kernelspec": {
   "display_name": "SOView",
   "language": "python",
   "name": "soview"
  },
  "language_info": {
   "codemirror_mode": {
    "name": "ipython",
    "version": 3
   },
   "file_extension": ".py",
   "mimetype": "text/x-python",
   "name": "python",
   "nbconvert_exporter": "python",
   "pygments_lexer": "ipython3",
   "version": "3.9.7"
  }
 },
 "nbformat": 4,
 "nbformat_minor": 5
}
