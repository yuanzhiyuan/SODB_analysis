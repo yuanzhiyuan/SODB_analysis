{
 "cells": [
  {
   "cell_type": "markdown",
   "metadata": {},
   "source": [
    "Molecular, spatial, and functional single-cell profiling of the hypothalamic preoptic region"
   ]
  },
  {
   "cell_type": "markdown",
   "metadata": {},
   "source": [
    "ShortName: moffitt2018molecular"
   ]
  },
  {
   "cell_type": "markdown",
   "metadata": {},
   "source": [
    "Steps of processing the data from raw to Anndata:"
   ]
  },
  {
   "cell_type": "code",
   "execution_count": 1,
   "metadata": {},
   "outputs": [],
   "source": [
    "# 1, Download the raw data from https://datadryad.org/stash/dataset/doi:10.5061/dryad.8t8s248"
   ]
  },
  {
   "cell_type": "code",
   "execution_count": 1,
   "metadata": {},
   "outputs": [],
   "source": [
    "import scanpy as sc\n",
    "import pandas as pd\n",
    "import anndata as ad"
   ]
  },
  {
   "cell_type": "code",
   "execution_count": 2,
   "metadata": {},
   "outputs": [],
   "source": [
    "i=1\n",
    "while i<=181:\n",
    "    path = 'path' + str(i) + '.csv'\n",
    "    count = pd.read_csv(path)\n",
    "    cell_id_array = count['Cell_ID']\n",
    "    animal_id_array = count['Animal_ID']\n",
    "    animal_sex_array = count['Animal_sex']\n",
    "    behavior_array = count['Behavior']\n",
    "    bregma = count['Bregma']\n",
    "    x = count['Centroid_X']\n",
    "    y = count['Centroid_Y']\n",
    "    cellclass = count['Cell_class']\n",
    "    neuronclusterID = count['Neuron_cluster_ID']\n",
    "    gene_id_array = count.columns\n",
    "    gene_id_array = gene_id_array[9:]\n",
    "    count_X = count.values[:,9:].astype('float32')\n",
    "    adata = ad.AnnData(count_X)\n",
    "    adata.var_names = gene_id_array\n",
    "    adata.obs_names = cell_id_array\n",
    "    index = count.set_index('Cell_ID')\n",
    "    adata.obs['Animal_ID'] = index.loc[adata.obs_names].loc[:,'Animal_ID']\n",
    "    adata.obs['Animal_sex'] = index.loc[adata.obs_names].loc[:,'Animal_sex']\n",
    "    adata.obs['Behavior'] = index.loc[adata.obs_names].loc[:,'Behavior']\n",
    "    adata.obs['Bregma'] = index.loc[adata.obs_names].loc[:,'Bregma']\n",
    "    adata.obs['Cell_class'] = index.loc[adata.obs_names].loc[:,'Cell_class']\n",
    "    adata.obs['Neuron_cluster_ID'] = index.loc[adata.obs_names].loc[:,'Neuron_cluster_ID']\n",
    "    adata.obsm['spatial'] = index.loc[adata.obs_names].loc[:,['Centroid_X','Centroid_Y']]    \n",
    "    save_path = 'save'+ str(i) + '.h5ad'\n",
    "    adata.write_h5ad(save_path)\n",
    "    i+=1\n"
   ]
  },
  {
   "cell_type": "code",
   "execution_count": 3,
   "metadata": {},
   "outputs": [
    {
     "data": {
      "text/plain": [
       "AnnData object with n_obs × n_vars = 5476 × 161\n",
       "    obs: 'Animal_ID', 'Animal_sex', 'Behavior', 'Bregma', 'Cell_class', 'Neuron_cluster_ID'\n",
       "    obsm: 'spatial'"
      ]
     },
     "execution_count": 3,
     "metadata": {},
     "output_type": "execute_result"
    }
   ],
   "source": [
    "adata = sc.read_h5ad('save_test')\n",
    "adata"
   ]
  }
 ],
 "metadata": {
  "kernelspec": {
   "display_name": "Python 3",
   "language": "python",
   "name": "python3"
  },
  "language_info": {
   "codemirror_mode": {
    "name": "ipython",
    "version": 3
   },
   "file_extension": ".py",
   "mimetype": "text/x-python",
   "name": "python",
   "nbconvert_exporter": "python",
   "pygments_lexer": "ipython3",
   "version": "3.8.2"
  }
 },
 "nbformat": 4,
 "nbformat_minor": 5
}
