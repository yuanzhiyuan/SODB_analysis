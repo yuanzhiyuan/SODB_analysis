{
 "cells": [
  {
   "cell_type": "markdown",
   "metadata": {},
   "source": [
    "# imports"
   ]
  },
  {
   "cell_type": "code",
   "execution_count": null,
   "metadata": {},
   "outputs": [],
   "source": [
    "def warn(*args, **kwargs):\n",
    "    pass\n",
    "import warnings\n",
    "warnings.warn = warn\n",
    "\n",
    "from SEAM.utils import *\n",
    "import SEAM\n",
    "import seaborn as sns\n",
    "import numpy as np\n",
    "import matplotlib.pyplot as plt\n",
    "import matplotlib\n",
    "import cv2\n",
    "from sklearn.decomposition import PCA\n",
    "\n",
    "from scipy.spatial.distance import *"
   ]
  },
  {
   "cell_type": "code",
   "execution_count": null,
   "metadata": {},
   "outputs": [],
   "source": [
    "from scipy.spatial import *"
   ]
  },
  {
   "cell_type": "markdown",
   "metadata": {},
   "source": [
    "# settings"
   ]
  },
  {
   "cell_type": "code",
   "execution_count": null,
   "metadata": {},
   "outputs": [],
   "source": [
    "sns.set_style('white')\n",
    "# font = {'family' : 'normal',\n",
    "#         'weight' : 'bold',\n",
    "#         'size'   : 2}\n",
    "\n",
    "# matplotlib.rc('font', **font)\n",
    "# matplotlib.rcParams.update({'font.size': 2})\n",
    "\n",
    "import matplotlib.pyplot as plt\n",
    "\n",
    "SMALL_SIZE = 8\n",
    "MEDIUM_SIZE = 10\n",
    "BIGGER_SIZE = 12\n",
    "\n",
    "plt.rc('font', size=SMALL_SIZE)          # controls default text sizes\n",
    "plt.rc('axes', titlesize=SMALL_SIZE)     # fontsize of the axes title\n",
    "plt.rc('axes', labelsize=MEDIUM_SIZE)    # fontsize of the x and y labels\n",
    "plt.rc('xtick', labelsize=SMALL_SIZE)    # fontsize of the tick labels\n",
    "plt.rc('ytick', labelsize=SMALL_SIZE)    # fontsize of the tick labels\n",
    "plt.rc('legend', fontsize=SMALL_SIZE)    # legend fontsize\n",
    "plt.rc('figure', titlesize=BIGGER_SIZE)  # fontsize of the figure title\n",
    "\n",
    "\n",
    "\n",
    "\n",
    "tiff_path = '/home/yzy/PUBDT/st/MIBI/BC/tiff/'\n",
    "seg_path = '/home/yzy/PUBDT/st/MIBI/BC/segmentation_mask/'\n",
    "h5ad_path = '/home/yzy/PUBDT/st/MIBI/BC/h5ad/'\n",
    "\n",
    "var_list = ['Au','Background','Beta catenin','Ca','CD11b','CD11c','CD138','CD16',\n",
    "           'CD20','CD209','CD3','CD31','CD4','CD45','CD45RO','CD56','CD63','CD68',\n",
    "           'CD8','dsDNA','EGFR','Fe','FoxP3','H3K27Me3','H3K9ac','HLA-DR','HLA_Class_1',\n",
    "           'IDO','Keratin17','Keratin6','Ki67','Lag3','MPO','Na','P','p53','Pan-Keratin',\n",
    "           'PD-L1','PD1','phospho-S6','Si','SMA','Ta','Vimentin']\n",
    "\n",
    "protein_list = ['Beta catenin','CD11b','CD11c','CD138','CD16',\n",
    "           'CD20','CD209','CD3','CD31','CD4','CD45','CD45RO','CD56','CD63','CD68',\n",
    "           'CD8','dsDNA','EGFR','FoxP3','H3K27Me3','H3K9ac','HLA-DR','HLA_Class_1',\n",
    "           'IDO','Keratin17','Keratin6','Ki67','Lag3','MPO','p53','Pan-Keratin',\n",
    "           'PD-L1','PD1','phospho-S6','SMA','Vimentin']\n",
    "\n",
    "\n",
    "image_size = 2048\n",
    "# SEAM.settings.IMG_SZ1 = 2048\n",
    "# SEAM.settings.IMG_SZ2 = 2048"
   ]
  },
  {
   "cell_type": "markdown",
   "metadata": {},
   "source": [
    "# functions`"
   ]
  },
  {
   "cell_type": "code",
   "execution_count": null,
   "metadata": {},
   "outputs": [],
   "source": [
    "# distmat = adata_sc_me.obsm['X_ME_EMD_mat']\n",
    "\n",
    "# gt_obs = 'CT_gt'\n",
    "# adata_use = adata_sc_me\n",
    "# n_splits = 10\n",
    "from sklearn.model_selection import *\n",
    "from sklearn.neighbors import *\n",
    "def compare_KNN(distmat,gt_obs,adata_use,n_splits):\n",
    "    kf = StratifiedKFold(n_splits=n_splits,shuffle=True)\n",
    "    knn = KNeighborsClassifier(metric='precomputed')\n",
    "    cur_rst=cross_val_score(knn, distmat, adata_use.obs[gt_obs], scoring='accuracy',cv=kf,verbose=0)\n",
    "#     np.mean(cur_rst)\n",
    "    return cur_rst"
   ]
  },
  {
   "cell_type": "code",
   "execution_count": null,
   "metadata": {},
   "outputs": [],
   "source": [
    "def prepare_adata_for_SIMSID(img_mat,segment_mat,var_names):\n",
    "\n",
    "    # prepare cell_pos\n",
    "    cell_pos = np.where(segment_mat.flatten()!=0)[0]\n",
    "\n",
    "    # prepare cell_idx\n",
    "    cell_idx = np.zeros_like(cell_pos)\n",
    "    cell_idx_raw = segment_mat[segment_mat!=0]\n",
    "    cell_idx_raw_unique = np.unique(cell_idx_raw)\n",
    "    cell_idx_raw_unique_sort = np.sort(cell_idx_raw_unique)\n",
    "    for cir in range(len(cell_idx_raw)):\n",
    "        cur_true_idx = np.where(cell_idx_raw_unique_sort==cell_idx_raw[cir])[0][0]\n",
    "        cell_idx[cir]=cur_true_idx\n",
    "\n",
    "    cell_idx+=1\n",
    "\n",
    "    # prepare train_x\n",
    "    train_x_raw = img_mat.reshape(img_mat.shape[0],-1).transpose()\n",
    "    train_x = train_x_raw[cell_pos,:]\n",
    "\n",
    "    # prepare IMS\n",
    "    IMS = img_mat.reshape(img_mat.shape[0],-1).transpose()\n",
    "\n",
    "\n",
    "    # prepare sc_mat\n",
    "    sc_mat = np.zeros(shape=(cell_idx.max(),img_mat.shape[0]))\n",
    "    for i in range(sc_mat.shape[0]):\n",
    "        cur_pixels = train_x[cell_idx==i+1,:]\n",
    "        cur_sum = np.mean(cur_pixels,axis=0)\n",
    "        sc_mat[i,:] = cur_sum\n",
    "\n",
    "    adata_sc = ad.AnnData(X=sc_mat)\n",
    "    adata_sc.var_names = var_names\n",
    "    adata_sc.uns['cell_pos'] = cell_pos\n",
    "    adata_sc.uns['cell_idx'] = cell_idx\n",
    "    adata_sc.uns['train_x'] = train_x\n",
    "    adata_sc.uns['IMS'] = IMS\n",
    "    # adata_sc.var_names = \n",
    "    return adata_sc"
   ]
  },
  {
   "cell_type": "markdown",
   "metadata": {},
   "source": [
    "### utils"
   ]
  },
  {
   "cell_type": "code",
   "execution_count": null,
   "metadata": {},
   "outputs": [],
   "source": [
    "def generate_spatialmat(sz=256):\n",
    "    rst = []\n",
    "    for i in range(sz):\n",
    "        for j in range(sz):\n",
    "            rst.append([i,j])\n",
    "    return np.array(rst)"
   ]
  },
  {
   "cell_type": "markdown",
   "metadata": {},
   "source": [
    "### get_ground_distance"
   ]
  },
  {
   "cell_type": "code",
   "execution_count": null,
   "metadata": {},
   "outputs": [],
   "source": [
    "import pyemd\n",
    "from scipy.spatial.distance import *\n",
    "def get_ground_distance(adata,method='paga'): \n",
    "    \n",
    "    if method == 'paga_graph':\n",
    "        adj_mat_use = adata.uns['paga']['connectivities'].toarray()\n",
    "#         adj_mat_use[adj_mat_use==0] = -np.inf\n",
    "#         adj_mat_use = 1-adj_mat_use\n",
    "        adj_mat_use = 1/adj_mat_use\n",
    "\n",
    "        np.fill_diagonal(adj_mat_use,0)\n",
    "        G = nx.from_numpy_matrix(adj_mat_use)\n",
    "\n",
    "        len_path = dict(nx.all_pairs_dijkstra_path_length(G))\n",
    "        ground_distance_mat = np.inf*np.ones(shape=(len(len_path),len(len_path)))\n",
    "\n",
    "        for i in range(ground_distance_mat.shape[0]):\n",
    "            for j in range(ground_distance_mat.shape[1]):\n",
    "                ground_distance_mat[i,j] = len_path[i][j]\n",
    "        np.fill_diagonal(ground_distance_mat,0)\n",
    "    elif method =='paga':\n",
    "        adj_mat_use = adata.uns['paga']['connectivities'].toarray()\n",
    "#         adj_mat_use[adj_mat_use==0] = -np.inf\n",
    "        adj_mat_use = 1-adj_mat_use\n",
    "        np.fill_diagonal(adj_mat_use,0)\n",
    "        ground_distance_mat = adj_mat_use\n",
    "    elif method =='euclidean':   #lower bound of MED(approximation)\n",
    "        ground_distance_mat = squareform(pdist(adata.uns['paga']['pos']))\n",
    "    elif method == 'uniform':\n",
    "        sz = adata.uns['paga']['pos'].shape[0]\n",
    "        ground_distance_mat = np.ones(shape=(sz,sz))\n",
    "        np.fill_diagonal(ground_distance_mat,0)\n",
    "        \n",
    "    adata.uns['GD'] = ground_distance_mat\n",
    "    return ground_distance_mat"
   ]
  },
  {
   "cell_type": "markdown",
   "metadata": {},
   "source": [
    "### MED_phEMD"
   ]
  },
  {
   "cell_type": "code",
   "execution_count": null,
   "metadata": {},
   "outputs": [],
   "source": [
    "def MED_phEMD(adata,  \n",
    "              GD_method='euclidean',\n",
    "              MED_knn=30,\n",
    "              CT_obs='clusters',\n",
    "              ifspatialplot=True,\n",
    "              OT_method='pyemd',\n",
    "              ME_precompyted=False,\n",
    "              GD_precomputed=False\n",
    "             ):\n",
    "    \n",
    "    \n",
    "    # calculate ground distance, paga requried\n",
    "    if not GD_precomputed:\n",
    "        ground_distance_mat = get_ground_distance(adata,method=GD_method)\n",
    "    else:\n",
    "        ground_distance_mat = adata.uns['GD']\n",
    "    # get ME histogram\n",
    "    if not ME_precompyted:\n",
    "        MED(adata,CT_obs,MED_knn)\n",
    "    ME_mat = adata.obsm['ME']\n",
    "\n",
    "\n",
    "    # calculate EMD matrix\n",
    "    import time\n",
    "    ME_mat = adata.obsm['ME']\n",
    "    ME_dist_EMD = np.zeros(shape=(ME_mat.shape[0],ME_mat.shape[0]))\n",
    "    time_cost = 0\n",
    "    time_start = 0\n",
    "    time_end = 0\n",
    "    for i in range(ME_mat.shape[0]):\n",
    "        if i%100==0:\n",
    "            time_end = time.time()\n",
    "            time_cost = time_end-time_start\n",
    "            print(i,time_cost)\n",
    "            time_start = time.time()\n",
    "\n",
    "        for j in range(i,ME_mat.shape[0]):\n",
    "            first_histogram = ME_mat[i,:]\n",
    "            second_histogram = ME_mat[j,:]\n",
    "            first_histogram = first_histogram/np.sum(first_histogram)\n",
    "            second_histogram = second_histogram/np.sum(second_histogram)\n",
    "            if OT_method=='pyemd':\n",
    "                cur_dist = pyemd.emd(first_histogram,second_histogram,ground_distance_mat)\n",
    "    #         print(i,j,cur_dist)\n",
    "            elif OT_method=='POT':\n",
    "                first_histogram = first_histogram/np.sum(first_histogram)\n",
    "                second_histogram = second_histogram/np.sum(second_histogram)\n",
    "                cur_dist = ot.emd2(first_histogram,second_histogram,ground_distance_mat)\n",
    "            ME_dist_EMD[i,j] = cur_dist\n",
    "            ME_dist_EMD[j,i] = cur_dist\n",
    "    adata.obsm['X_ME_EMD_mat'] = ME_dist_EMD.copy()\n",
    "    \n",
    "    return adata"
   ]
  },
  {
   "cell_type": "markdown",
   "metadata": {},
   "source": [
    "### tiff loading"
   ]
  },
  {
   "cell_type": "code",
   "execution_count": null,
   "metadata": {},
   "outputs": [],
   "source": [
    "from PIL import Image\n",
    "import numpy as np\n",
    "\n",
    "def read_tiff(path):\n",
    "    \"\"\"\n",
    "    path - Path to the multipage-tiff file\n",
    "    \"\"\"\n",
    "    img = Image.open(path)\n",
    "    images = []\n",
    "    for i in range(img.n_frames):\n",
    "        img.seek(i)\n",
    "        images.append(np.array(img))\n",
    "    return np.array(images)"
   ]
  },
  {
   "cell_type": "code",
   "execution_count": null,
   "metadata": {},
   "outputs": [],
   "source": [
    "def load_scMEP(Pn,iflog=True):\n",
    "    print('Point{0} start!'.format(Pn))\n",
    "#     Pn = 21\n",
    "    base_path = '/home/yzy/PUBDT/st/MIBI/colorectal_carcinoma/'\n",
    "    tiff_path = base_path+'scMEP_MIBI_colon_images/'\n",
    "    segmentation_file = base_path+'segmentation/Point{0}_Label_Map.tiff'\n",
    "\n",
    "    sc_file = base_path+'scMEP_MIBI_singlecell.csv'\n",
    "    sc_file_h5ad = base_path+'h5ad/MIBI.h5ad'\n",
    "    # 1~913\n",
    "    print('loading processed single cell data...')\n",
    "    a_sc = sc.read_h5ad(sc_file_h5ad)\n",
    "    a_sc_test = a_sc[a_sc.obs['point']==str(Pn)].copy()\n",
    "    del a_sc\n",
    "\n",
    "\n",
    "    if Pn>=1 and Pn<=20:\n",
    "        tiff_file = tiff_path+'90de_tumor/Point{0}/'\n",
    "    elif Pn>=21 and Pn<=40:\n",
    "        tiff_file = tiff_path+'21d7_tumor/Point{0}/'\n",
    "    elif Pn>=41 and Pn <=44:\n",
    "        tiff_file = tiff_path+'d3d3_healthy/Point{0}/'\n",
    "    elif Pn>=45 and Pn<=58:\n",
    "        tiff_file = tiff_path+'99c0_healthy/Point{0}/'\n",
    "        \n",
    "    print('loading raw tiff data...')\n",
    "\n",
    "    tiff_mat = []\n",
    "    protein_list = []\n",
    "    tiff_file = tiff_file.format(Pn)\n",
    "    for file in os.listdir(tiff_file):\n",
    "        tiff = read_tiff(tiff_file+file)\n",
    "        tiff_mat.append(tiff[0,:])\n",
    "        cur_protein = file.split('_')[1].split('.')[0]\n",
    "        protein_list.append(cur_protein)\n",
    "    segment_mat = read_tiff(segmentation_file.format(Pn))[0,:]\n",
    "    tiff_mat = np.array(tiff_mat)\n",
    "    if iflog:\n",
    "        tiff_mat=np.log1p(tiff_mat)\n",
    "    \n",
    "\n",
    "#     start: filter segment_mat according to cell size\n",
    "    cell_size_range = (a_sc_test.obs['cell_size'].min(),a_sc_test.obs['cell_size'].max())\n",
    "    for i in range(segment_mat.max()):\n",
    "        cur_cell_idx = i+1\n",
    "        cur_cell_pos = np.where(segment_mat==cur_cell_idx)\n",
    "        if (len(cur_cell_pos[0])>=cell_size_range[0] and len(cur_cell_pos[0])<=cell_size_range[1]):\n",
    "            continue\n",
    "        segment_mat[cur_cell_pos[0],cur_cell_pos[1]]=0\n",
    "    old_cell_idx_unique = np.unique(segment_mat)\n",
    "    new_cell_idx_unique = np.arange(old_cell_idx_unique.shape[0])\n",
    "    cell_idx_dict = dict(zip(old_cell_idx_unique,new_cell_idx_unique))\n",
    "\n",
    "    segment_mat_new = segment_mat.copy()\n",
    "    for i in range(segment_mat.shape[0]):\n",
    "        for j in range(segment_mat.shape[1]):\n",
    "            segment_mat_new[i,j] = cell_idx_dict[segment_mat[i,j]]\n",
    "    segment_mat = segment_mat_new\n",
    "#     end: filter segment_mat according to cell size\n",
    "    \n",
    "    \n",
    "    print('spatial matching...')\n",
    "    segment_mat_rot = np.rot90(segment_mat,3)\n",
    "    segment_mat_flip = np.flip(segment_mat_rot,axis=1)\n",
    "\n",
    "    tiff_mat_rot = [np.rot90(t,3) for t in tiff_mat]\n",
    "    tiff_mat_flip = [np.flip(t,axis=1) for t in tiff_mat_rot]\n",
    "    tiff_mat_flip = np.array(tiff_mat_flip)\n",
    "    \n",
    "    print('data formatting...')\n",
    "    a_pixel = prepare_adata_for_SIMSID(tiff_mat_flip,segment_mat_flip,protein_list)\n",
    "    SEAM.tl.Cut(a_pixel)\n",
    "\n",
    "    cell_size_range = (a_sc_test.obs['cell_size'].min(),a_sc_test.obs['cell_size'].max())\n",
    "    a_pixel_filtered = a_pixel[np.logical_and(a_pixel.obs['cell_size']>=cell_size_range[0],a_pixel.obs['cell_size']<=cell_size_range[1])]\n",
    "    print('label matching...')\n",
    "\n",
    "    spatial_sc = a_sc_test.obsm['spatial']\n",
    "    spatial_pixel = a_pixel_filtered.obsm['spatial']\n",
    "    cross_dist_mat = distance_matrix(spatial_pixel,spatial_sc)\n",
    "\n",
    "    cell_type_source = np.array(a_sc_test.obs['Cluster'])\n",
    "    match_mat = np.argmin(cross_dist_mat,axis=1)\n",
    "    cell_match = np.argmin(cross_dist_mat,axis=0)\n",
    "    cell_type_target = cell_type_source[match_mat]\n",
    "#     a_pixel_match = a_pixel_filtered[match_mat,:]\n",
    "    a_pixel_filtered.obs['Cluster'] = cell_type_target\n",
    "    print('Point{0} done!'.format(Pn))\n",
    "    return a_pixel_filtered,a_sc_test,cell_match"
   ]
  },
  {
   "cell_type": "markdown",
   "metadata": {},
   "source": [
    "# data loading steps"
   ]
  },
  {
   "cell_type": "code",
   "execution_count": null,
   "metadata": {},
   "outputs": [],
   "source": [
    "Pn=1\n",
    "a_pixel,a_sc,cell_match = load_scMEP(Pn)"
   ]
  },
  {
   "cell_type": "code",
   "execution_count": null,
   "metadata": {},
   "outputs": [],
   "source": [
    "cell_match"
   ]
  },
  {
   "cell_type": "code",
   "execution_count": null,
   "metadata": {},
   "outputs": [],
   "source": [
    "\n",
    "sc.pl.embedding(a_pixel,basis='spatial',color=['Cluster'],s=a_pixel.obs['cell_size']/10)\n",
    "sc.pl.embedding(a_sc,basis='spatial',color=['Cluster'],s=a_sc.obs['cell_size']/10)"
   ]
  },
  {
   "cell_type": "code",
   "execution_count": null,
   "metadata": {},
   "outputs": [],
   "source": [
    "adata = a_pixel"
   ]
  },
  {
   "cell_type": "code",
   "execution_count": null,
   "metadata": {},
   "outputs": [],
   "source": [
    "n_pixels_all = int(adata.uns['IMS'].shape[0])\n",
    "n_pixels_side = int(np.sqrt(n_pixels_all))"
   ]
  },
  {
   "cell_type": "code",
   "execution_count": null,
   "metadata": {},
   "outputs": [],
   "source": [
    "\n",
    "mask = np.zeros(shape=(n_pixels_all,))\n",
    "mask[adata.uns['cell_pos']-1] = 1\n",
    "plt.imshow(mask.reshape(n_pixels_side,n_pixels_side))\n",
    "\n",
    "\n",
    "cellidx = np.zeros(shape=(n_pixels_all,))\n",
    "cellidx[adata.uns['cell_pos']-1] = adata.uns['cell_idx']"
   ]
  },
  {
   "cell_type": "code",
   "execution_count": null,
   "metadata": {},
   "outputs": [],
   "source": [
    "adata_pixel_all = ad.AnnData(adata.uns['IMS'])\n",
    "adata_pixel_all.var_names = adata.var_names\n",
    "adata_pixel_all.obs['mask'] = mask\n",
    "adata_pixel_all.obs['cellidx'] = cellidx\n",
    "adata_pixel_all.obs['cellidx'] = adata_pixel_all.obs['cellidx'].astype('category')"
   ]
  },
  {
   "cell_type": "code",
   "execution_count": null,
   "metadata": {},
   "outputs": [],
   "source": [
    "adata.obs['Cluster'][int(cellidx[i]-1)]"
   ]
  },
  {
   "cell_type": "code",
   "execution_count": null,
   "metadata": {},
   "outputs": [],
   "source": [
    "cell_label = np.zeros_like(cellidx).astype('str')\n",
    "sc_label = np.array(adata.obs['Cluster'])\n",
    "for i in range(len(cellidx)):\n",
    "    if cellidx[i]==0:\n",
    "        continue\n",
    "    \n",
    "    cur_label = sc_label[int(cellidx[i]-1)]\n",
    "    cell_label[i] = cur_label"
   ]
  },
  {
   "cell_type": "code",
   "execution_count": null,
   "metadata": {},
   "outputs": [],
   "source": [
    "adata_pixel_all.obs['cell_label'] = cell_label.astype('str')\n",
    "adata_pixel_all.obs['cell_label'] = adata_pixel_all.obs['cell_label'].astype('category')"
   ]
  },
  {
   "cell_type": "code",
   "execution_count": null,
   "metadata": {},
   "outputs": [],
   "source": [
    "adata_pixel_all.obsm['spatial'] = generate_spatialmat(n_pixels_side)"
   ]
  },
  {
   "cell_type": "code",
   "execution_count": null,
   "metadata": {},
   "outputs": [],
   "source": [
    "np.unique(adata_pixel_all.obs['cell_label'],return_counts=1)"
   ]
  },
  {
   "cell_type": "code",
   "execution_count": null,
   "metadata": {},
   "outputs": [],
   "source": [
    "sc.pl.embedding(adata_pixel_all,basis='spatial',color=['mask','cell_label'],size=10)"
   ]
  },
  {
   "cell_type": "code",
   "execution_count": null,
   "metadata": {},
   "outputs": [],
   "source": [
    "adata_pixel_all"
   ]
  },
  {
   "cell_type": "code",
   "execution_count": null,
   "metadata": {},
   "outputs": [],
   "source": [
    "adata_pixel_all\n",
    "# mask: 0 for background, 1 for cell/nuclei\n",
    "# cellidx: 0 for background, 1... for cell index\n",
    "# cell_label: 0 for background, 1... for ground truth cell type"
   ]
  },
  {
   "cell_type": "code",
   "execution_count": null,
   "metadata": {},
   "outputs": [],
   "source": [
    "adata_pixel_all.write_h5ad('/home/yzy/PUBDT/st/IMS/SIMS/cellline/NCTC1469withIdU_Hepa1-6_pixel.h5ad')"
   ]
  },
  {
   "cell_type": "markdown",
   "metadata": {},
   "source": [
    "# data loading wrap"
   ]
  },
  {
   "cell_type": "code",
   "execution_count": null,
   "metadata": {},
   "outputs": [],
   "source": [
    "\n",
    "def scMEP_h5ad(Pn):\n",
    "    save_path = '/home/yzy/PUBDT/st/MIBI/colorectal_carcinoma/h5ad/scMEP_pixel_CT_mask_h5ad/'\n",
    "    \n",
    "    save_file = save_path+'{0}.h5ad'.format(Pn)\n",
    "    a_pixel,a_sc,cell_match = load_scMEP(Pn)\n",
    "\n",
    "\n",
    "    # sc.pl.embedding(a_pixel,basis='spatial',color=['Cluster'],s=a_pixel.obs['cell_size']/10)\n",
    "    # sc.pl.embedding(a_sc,basis='spatial',color=['Cluster'],s=a_sc.obs['cell_size']/10)\n",
    "\n",
    "    adata = a_pixel\n",
    "\n",
    "    n_pixels_all = int(adata.uns['IMS'].shape[0])\n",
    "    n_pixels_side = int(np.sqrt(n_pixels_all))\n",
    "\n",
    "\n",
    "    mask = np.zeros(shape=(n_pixels_all,))\n",
    "    mask[adata.uns['cell_pos']-1] = 1\n",
    "    # plt.imshow(mask.reshape(n_pixels_side,n_pixels_side))\n",
    "\n",
    "\n",
    "    cellidx = np.zeros(shape=(n_pixels_all,))\n",
    "    cellidx[adata.uns['cell_pos']-1] = adata.uns['cell_idx']\n",
    "\n",
    "    adata_pixel_all = ad.AnnData(adata.uns['IMS'])\n",
    "    adata_pixel_all.var_names = adata.var_names\n",
    "    adata_pixel_all.obs['mask'] = mask\n",
    "    adata_pixel_all.obs['cellidx'] = cellidx\n",
    "    adata_pixel_all.obs['cellidx'] = adata_pixel_all.obs['cellidx'].astype('category')\n",
    "\n",
    "    cell_label = np.zeros_like(cellidx).astype('str')\n",
    "    sc_label = np.array(adata.obs['Cluster'])\n",
    "    for i in range(len(cellidx)):\n",
    "        if cellidx[i]==0:\n",
    "            continue\n",
    "\n",
    "        cur_label = sc_label[int(cellidx[i]-1)]\n",
    "        cell_label[i] = cur_label\n",
    "\n",
    "    adata_pixel_all.obs['cell_label'] = cell_label.astype('str')\n",
    "    adata_pixel_all.obs['cell_label'] = adata_pixel_all.obs['cell_label'].astype('category')\n",
    "\n",
    "    adata_pixel_all.obsm['spatial'] = generate_spatialmat(n_pixels_side)\n",
    "\n",
    "    sc.pl.embedding(adata_pixel_all,basis='spatial',color=['mask','cell_label'],size=10)\n",
    "\n",
    "    adata_pixel_all.write_h5ad(save_file)\n",
    "    return adata_pixel_all"
   ]
  },
  {
   "cell_type": "code",
   "execution_count": null,
   "metadata": {},
   "outputs": [],
   "source": [
    "adata_list = []\n",
    "for i in range(58):\n",
    "    Pn = i+1\n",
    "    print(Pn)\n",
    "    cur_adata = scMEP_h5ad(Pn)\n",
    "    adata_list.append(cur_adata)"
   ]
  },
  {
   "cell_type": "code",
   "execution_count": null,
   "metadata": {},
   "outputs": [],
   "source": []
  }
 ],
 "metadata": {
  "kernelspec": {
   "display_name": "Python (scaden)",
   "language": "python",
   "name": "scaden"
  },
  "language_info": {
   "codemirror_mode": {
    "name": "ipython",
    "version": 3
   },
   "file_extension": ".py",
   "mimetype": "text/x-python",
   "name": "python",
   "nbconvert_exporter": "python",
   "pygments_lexer": "ipython3",
   "version": "3.7.5"
  }
 },
 "nbformat": 4,
 "nbformat_minor": 4
}
