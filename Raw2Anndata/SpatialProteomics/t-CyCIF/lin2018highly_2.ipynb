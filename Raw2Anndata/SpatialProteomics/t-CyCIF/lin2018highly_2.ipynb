{
 "cells": [
  {
   "cell_type": "code",
   "execution_count": null,
   "metadata": {},
   "outputs": [],
   "source": []
  },
  {
   "cell_type": "markdown",
   "metadata": {},
   "source": [
    "Highly multiplexed immunofluorescence imaging of human tissues and tumors using t-CyCIF and conventional optical microscopes"
   ]
  },
  {
   "cell_type": "markdown",
   "metadata": {},
   "source": [
    "ShortName: lin2018highly"
   ]
  },
  {
   "cell_type": "markdown",
   "metadata": {},
   "source": [
    "Steps of processing the data from raw to Anndata:"
   ]
  },
  {
   "cell_type": "code",
   "execution_count": 1,
   "metadata": {},
   "outputs": [],
   "source": [
    "# 1, Download the raw data from https://lincs.hms.harvard.edu/lin-elife-2018/"
   ]
  },
  {
   "cell_type": "code",
   "execution_count": 2,
   "metadata": {},
   "outputs": [],
   "source": [
    "import os\n",
    "import pandas as pd\n",
    "import numpy as np\n",
    "import scanpy as sc\n",
    "import anndata as ad"
   ]
  },
  {
   "cell_type": "code",
   "execution_count": 1,
   "metadata": {},
   "outputs": [],
   "source": [
    "path = '/home/yzy/projects/SODB/SODB_code/SODB/revision/Raw2Anndata/SpatialProteomics/t-CyCIF/data/rawdata_Figure1112_GBM'\n"
   ]
  },
  {
   "cell_type": "code",
   "execution_count": 3,
   "metadata": {},
   "outputs": [],
   "source": [
    "raw_pd = pd.read_csv(f'{path}/GBM0801-all.csv')"
   ]
  },
  {
   "cell_type": "code",
   "execution_count": 4,
   "metadata": {},
   "outputs": [
    {
     "data": {
      "text/html": [
       "<div>\n",
       "<style scoped>\n",
       "    .dataframe tbody tr th:only-of-type {\n",
       "        vertical-align: middle;\n",
       "    }\n",
       "\n",
       "    .dataframe tbody tr th {\n",
       "        vertical-align: top;\n",
       "    }\n",
       "\n",
       "    .dataframe thead th {\n",
       "        text-align: right;\n",
       "    }\n",
       "</style>\n",
       "<table border=\"1\" class=\"dataframe\">\n",
       "  <thead>\n",
       "    <tr style=\"text-align: right;\">\n",
       "      <th></th>\n",
       "      <th>HOECHST1</th>\n",
       "      <th>HOECHST2</th>\n",
       "      <th>HOECHST3</th>\n",
       "      <th>HOECHST4</th>\n",
       "      <th>HOECHST5</th>\n",
       "      <th>HOECHST6</th>\n",
       "      <th>HOECHST7</th>\n",
       "      <th>HOECHST8</th>\n",
       "      <th>HOECHST9</th>\n",
       "      <th>HOECHST10</th>\n",
       "      <th>...</th>\n",
       "      <th>BCL2</th>\n",
       "      <th>Area</th>\n",
       "      <th>Circ</th>\n",
       "      <th>X</th>\n",
       "      <th>Y</th>\n",
       "      <th>frame</th>\n",
       "      <th>COL</th>\n",
       "      <th>ROW</th>\n",
       "      <th>Xt</th>\n",
       "      <th>Yt</th>\n",
       "    </tr>\n",
       "  </thead>\n",
       "  <tbody>\n",
       "    <tr>\n",
       "      <th>0</th>\n",
       "      <td>7830.277</td>\n",
       "      <td>5991.548</td>\n",
       "      <td>7289.781</td>\n",
       "      <td>6663.026</td>\n",
       "      <td>4487.594</td>\n",
       "      <td>3109.806</td>\n",
       "      <td>6792.303</td>\n",
       "      <td>1892.374</td>\n",
       "      <td>867.497</td>\n",
       "      <td>199.690</td>\n",
       "      <td>...</td>\n",
       "      <td>302.948</td>\n",
       "      <td>261.951</td>\n",
       "      <td>0.967</td>\n",
       "      <td>1525.266</td>\n",
       "      <td>249.193</td>\n",
       "      <td>19</td>\n",
       "      <td>2</td>\n",
       "      <td>2</td>\n",
       "      <td>3189.266</td>\n",
       "      <td>2558.807</td>\n",
       "    </tr>\n",
       "    <tr>\n",
       "      <th>1</th>\n",
       "      <td>11517.507</td>\n",
       "      <td>9237.792</td>\n",
       "      <td>11153.326</td>\n",
       "      <td>9663.472</td>\n",
       "      <td>6791.757</td>\n",
       "      <td>4607.465</td>\n",
       "      <td>9924.271</td>\n",
       "      <td>2628.722</td>\n",
       "      <td>950.382</td>\n",
       "      <td>223.632</td>\n",
       "      <td>...</td>\n",
       "      <td>311.792</td>\n",
       "      <td>243.360</td>\n",
       "      <td>0.958</td>\n",
       "      <td>1540.086</td>\n",
       "      <td>252.778</td>\n",
       "      <td>19</td>\n",
       "      <td>2</td>\n",
       "      <td>2</td>\n",
       "      <td>3204.086</td>\n",
       "      <td>2555.222</td>\n",
       "    </tr>\n",
       "    <tr>\n",
       "      <th>2</th>\n",
       "      <td>9205.522</td>\n",
       "      <td>7197.553</td>\n",
       "      <td>9282.381</td>\n",
       "      <td>8105.376</td>\n",
       "      <td>5862.708</td>\n",
       "      <td>4799.221</td>\n",
       "      <td>9279.363</td>\n",
       "      <td>2590.385</td>\n",
       "      <td>247.757</td>\n",
       "      <td>230.093</td>\n",
       "      <td>...</td>\n",
       "      <td>228.633</td>\n",
       "      <td>381.941</td>\n",
       "      <td>0.846</td>\n",
       "      <td>1278.154</td>\n",
       "      <td>292.489</td>\n",
       "      <td>19</td>\n",
       "      <td>2</td>\n",
       "      <td>2</td>\n",
       "      <td>2942.154</td>\n",
       "      <td>2515.511</td>\n",
       "    </tr>\n",
       "    <tr>\n",
       "      <th>3</th>\n",
       "      <td>4007.503</td>\n",
       "      <td>3087.238</td>\n",
       "      <td>6039.930</td>\n",
       "      <td>4464.816</td>\n",
       "      <td>4418.346</td>\n",
       "      <td>5753.297</td>\n",
       "      <td>5881.870</td>\n",
       "      <td>1945.843</td>\n",
       "      <td>201.708</td>\n",
       "      <td>175.351</td>\n",
       "      <td>...</td>\n",
       "      <td>279.000</td>\n",
       "      <td>312.651</td>\n",
       "      <td>0.824</td>\n",
       "      <td>948.976</td>\n",
       "      <td>418.182</td>\n",
       "      <td>19</td>\n",
       "      <td>2</td>\n",
       "      <td>2</td>\n",
       "      <td>2612.976</td>\n",
       "      <td>2389.818</td>\n",
       "    </tr>\n",
       "    <tr>\n",
       "      <th>4</th>\n",
       "      <td>5720.040</td>\n",
       "      <td>4499.634</td>\n",
       "      <td>8206.612</td>\n",
       "      <td>5285.850</td>\n",
       "      <td>9790.449</td>\n",
       "      <td>7366.185</td>\n",
       "      <td>6450.419</td>\n",
       "      <td>2267.520</td>\n",
       "      <td>201.784</td>\n",
       "      <td>171.463</td>\n",
       "      <td>...</td>\n",
       "      <td>280.921</td>\n",
       "      <td>383.631</td>\n",
       "      <td>0.893</td>\n",
       "      <td>785.765</td>\n",
       "      <td>466.079</td>\n",
       "      <td>19</td>\n",
       "      <td>2</td>\n",
       "      <td>2</td>\n",
       "      <td>2449.765</td>\n",
       "      <td>2341.921</td>\n",
       "    </tr>\n",
       "    <tr>\n",
       "      <th>...</th>\n",
       "      <td>...</td>\n",
       "      <td>...</td>\n",
       "      <td>...</td>\n",
       "      <td>...</td>\n",
       "      <td>...</td>\n",
       "      <td>...</td>\n",
       "      <td>...</td>\n",
       "      <td>...</td>\n",
       "      <td>...</td>\n",
       "      <td>...</td>\n",
       "      <td>...</td>\n",
       "      <td>...</td>\n",
       "      <td>...</td>\n",
       "      <td>...</td>\n",
       "      <td>...</td>\n",
       "      <td>...</td>\n",
       "      <td>...</td>\n",
       "      <td>...</td>\n",
       "      <td>...</td>\n",
       "      <td>...</td>\n",
       "      <td>...</td>\n",
       "    </tr>\n",
       "    <tr>\n",
       "      <th>349059</th>\n",
       "      <td>18973.623</td>\n",
       "      <td>18617.072</td>\n",
       "      <td>25516.014</td>\n",
       "      <td>18917.986</td>\n",
       "      <td>15302.572</td>\n",
       "      <td>13718.667</td>\n",
       "      <td>27413.116</td>\n",
       "      <td>22465.022</td>\n",
       "      <td>11661.841</td>\n",
       "      <td>24065.435</td>\n",
       "      <td>...</td>\n",
       "      <td>230.754</td>\n",
       "      <td>233.220</td>\n",
       "      <td>0.871</td>\n",
       "      <td>652.601</td>\n",
       "      <td>1397.172</td>\n",
       "      <td>219</td>\n",
       "      <td>15</td>\n",
       "      <td>13</td>\n",
       "      <td>23948.601</td>\n",
       "      <td>16854.828</td>\n",
       "    </tr>\n",
       "    <tr>\n",
       "      <th>349060</th>\n",
       "      <td>11805.475</td>\n",
       "      <td>11152.851</td>\n",
       "      <td>17510.525</td>\n",
       "      <td>11481.426</td>\n",
       "      <td>9634.792</td>\n",
       "      <td>8901.535</td>\n",
       "      <td>19014.931</td>\n",
       "      <td>13975.436</td>\n",
       "      <td>7378.485</td>\n",
       "      <td>14218.594</td>\n",
       "      <td>...</td>\n",
       "      <td>266.891</td>\n",
       "      <td>170.690</td>\n",
       "      <td>0.946</td>\n",
       "      <td>675.750</td>\n",
       "      <td>1397.147</td>\n",
       "      <td>219</td>\n",
       "      <td>15</td>\n",
       "      <td>13</td>\n",
       "      <td>23971.750</td>\n",
       "      <td>16854.853</td>\n",
       "    </tr>\n",
       "    <tr>\n",
       "      <th>349061</th>\n",
       "      <td>7963.980</td>\n",
       "      <td>7778.878</td>\n",
       "      <td>12236.612</td>\n",
       "      <td>7897.133</td>\n",
       "      <td>6724.592</td>\n",
       "      <td>6065.102</td>\n",
       "      <td>13797.816</td>\n",
       "      <td>9738.816</td>\n",
       "      <td>5294.214</td>\n",
       "      <td>10143.969</td>\n",
       "      <td>...</td>\n",
       "      <td>383.214</td>\n",
       "      <td>165.620</td>\n",
       "      <td>0.840</td>\n",
       "      <td>829.029</td>\n",
       "      <td>1398.231</td>\n",
       "      <td>219</td>\n",
       "      <td>15</td>\n",
       "      <td>13</td>\n",
       "      <td>24125.029</td>\n",
       "      <td>16853.769</td>\n",
       "    </tr>\n",
       "    <tr>\n",
       "      <th>349062</th>\n",
       "      <td>9347.602</td>\n",
       "      <td>10102.774</td>\n",
       "      <td>14239.172</td>\n",
       "      <td>9113.624</td>\n",
       "      <td>7185.011</td>\n",
       "      <td>6122.129</td>\n",
       "      <td>13377.495</td>\n",
       "      <td>9059.957</td>\n",
       "      <td>4514.796</td>\n",
       "      <td>7901.473</td>\n",
       "      <td>...</td>\n",
       "      <td>295.527</td>\n",
       "      <td>157.170</td>\n",
       "      <td>0.871</td>\n",
       "      <td>1082.097</td>\n",
       "      <td>1398.095</td>\n",
       "      <td>219</td>\n",
       "      <td>15</td>\n",
       "      <td>13</td>\n",
       "      <td>24378.097</td>\n",
       "      <td>16853.905</td>\n",
       "    </tr>\n",
       "    <tr>\n",
       "      <th>349063</th>\n",
       "      <td>7861.333</td>\n",
       "      <td>8364.769</td>\n",
       "      <td>14299.744</td>\n",
       "      <td>7876.833</td>\n",
       "      <td>8518.885</td>\n",
       "      <td>10231.462</td>\n",
       "      <td>13444.513</td>\n",
       "      <td>13514.936</td>\n",
       "      <td>9856.308</td>\n",
       "      <td>10674.974</td>\n",
       "      <td>...</td>\n",
       "      <td>243.897</td>\n",
       "      <td>131.820</td>\n",
       "      <td>1.000</td>\n",
       "      <td>1189.751</td>\n",
       "      <td>1397.351</td>\n",
       "      <td>219</td>\n",
       "      <td>15</td>\n",
       "      <td>13</td>\n",
       "      <td>24485.751</td>\n",
       "      <td>16854.649</td>\n",
       "    </tr>\n",
       "  </tbody>\n",
       "</table>\n",
       "<p>349064 rows × 49 columns</p>\n",
       "</div>"
      ],
      "text/plain": [
       "         HOECHST1   HOECHST2   HOECHST3   HOECHST4   HOECHST5   HOECHST6  \\\n",
       "0        7830.277   5991.548   7289.781   6663.026   4487.594   3109.806   \n",
       "1       11517.507   9237.792  11153.326   9663.472   6791.757   4607.465   \n",
       "2        9205.522   7197.553   9282.381   8105.376   5862.708   4799.221   \n",
       "3        4007.503   3087.238   6039.930   4464.816   4418.346   5753.297   \n",
       "4        5720.040   4499.634   8206.612   5285.850   9790.449   7366.185   \n",
       "...           ...        ...        ...        ...        ...        ...   \n",
       "349059  18973.623  18617.072  25516.014  18917.986  15302.572  13718.667   \n",
       "349060  11805.475  11152.851  17510.525  11481.426   9634.792   8901.535   \n",
       "349061   7963.980   7778.878  12236.612   7897.133   6724.592   6065.102   \n",
       "349062   9347.602  10102.774  14239.172   9113.624   7185.011   6122.129   \n",
       "349063   7861.333   8364.769  14299.744   7876.833   8518.885  10231.462   \n",
       "\n",
       "         HOECHST7   HOECHST8   HOECHST9  HOECHST10  ...     BCL2     Area  \\\n",
       "0        6792.303   1892.374    867.497    199.690  ...  302.948  261.951   \n",
       "1        9924.271   2628.722    950.382    223.632  ...  311.792  243.360   \n",
       "2        9279.363   2590.385    247.757    230.093  ...  228.633  381.941   \n",
       "3        5881.870   1945.843    201.708    175.351  ...  279.000  312.651   \n",
       "4        6450.419   2267.520    201.784    171.463  ...  280.921  383.631   \n",
       "...           ...        ...        ...        ...  ...      ...      ...   \n",
       "349059  27413.116  22465.022  11661.841  24065.435  ...  230.754  233.220   \n",
       "349060  19014.931  13975.436   7378.485  14218.594  ...  266.891  170.690   \n",
       "349061  13797.816   9738.816   5294.214  10143.969  ...  383.214  165.620   \n",
       "349062  13377.495   9059.957   4514.796   7901.473  ...  295.527  157.170   \n",
       "349063  13444.513  13514.936   9856.308  10674.974  ...  243.897  131.820   \n",
       "\n",
       "         Circ         X         Y  frame  COL  ROW         Xt         Yt  \n",
       "0       0.967  1525.266   249.193     19    2    2   3189.266   2558.807  \n",
       "1       0.958  1540.086   252.778     19    2    2   3204.086   2555.222  \n",
       "2       0.846  1278.154   292.489     19    2    2   2942.154   2515.511  \n",
       "3       0.824   948.976   418.182     19    2    2   2612.976   2389.818  \n",
       "4       0.893   785.765   466.079     19    2    2   2449.765   2341.921  \n",
       "...       ...       ...       ...    ...  ...  ...        ...        ...  \n",
       "349059  0.871   652.601  1397.172    219   15   13  23948.601  16854.828  \n",
       "349060  0.946   675.750  1397.147    219   15   13  23971.750  16854.853  \n",
       "349061  0.840   829.029  1398.231    219   15   13  24125.029  16853.769  \n",
       "349062  0.871  1082.097  1398.095    219   15   13  24378.097  16853.905  \n",
       "349063  1.000  1189.751  1397.351    219   15   13  24485.751  16854.649  \n",
       "\n",
       "[349064 rows x 49 columns]"
      ]
     },
     "execution_count": 4,
     "metadata": {},
     "output_type": "execute_result"
    }
   ],
   "source": [
    "raw_pd"
   ]
  },
  {
   "cell_type": "code",
   "execution_count": 5,
   "metadata": {},
   "outputs": [],
   "source": [
    "var_list = []\n",
    "obs_list = []\n",
    "obs_keyword_list = ['Area','Circ','X','Y','frame','COL','ROW','Xt','Yt']\n",
    "for var in raw_pd.columns:\n",
    "    if 'HOECHST' in var:\n",
    "        obs_list.append(var)\n",
    "    elif var in obs_keyword_list:\n",
    "        obs_list.append(var)\n",
    "    else:\n",
    "        var_list.append(var)\n",
    "\n"
   ]
  },
  {
   "cell_type": "code",
   "execution_count": 6,
   "metadata": {},
   "outputs": [
    {
     "data": {
      "text/plain": [
       "['Alexa488',\n",
       " 'cJUN',\n",
       " 'Ki67',\n",
       " 'pERK',\n",
       " 'PD1',\n",
       " 'EpCAM',\n",
       " 'pS6',\n",
       " 'Ecadherin',\n",
       " 'EGFR',\n",
       " 'Bax',\n",
       " 'Alexa555',\n",
       " 'Axl',\n",
       " 'CD4_1',\n",
       " 'pRB',\n",
       " 'CD4_2',\n",
       " 'FOXP3',\n",
       " 'CD45R',\n",
       " 'Keratin',\n",
       " 'VEGFR2',\n",
       " 'MAP2',\n",
       " 'Alexa647',\n",
       " 'MITF',\n",
       " 'NGFR',\n",
       " 'CD45_1',\n",
       " 'PDL1',\n",
       " 'CD3',\n",
       " 'CD45_2',\n",
       " 'Vimentin',\n",
       " 'gH2ax',\n",
       " 'BCL2']"
      ]
     },
     "execution_count": 6,
     "metadata": {},
     "output_type": "execute_result"
    }
   ],
   "source": [
    "var_list"
   ]
  },
  {
   "cell_type": "code",
   "execution_count": 7,
   "metadata": {},
   "outputs": [
    {
     "data": {
      "text/plain": [
       "['HOECHST1',\n",
       " 'HOECHST2',\n",
       " 'HOECHST3',\n",
       " 'HOECHST4',\n",
       " 'HOECHST5',\n",
       " 'HOECHST6',\n",
       " 'HOECHST7',\n",
       " 'HOECHST8',\n",
       " 'HOECHST9',\n",
       " 'HOECHST10',\n",
       " 'Area',\n",
       " 'Circ',\n",
       " 'X',\n",
       " 'Y',\n",
       " 'frame',\n",
       " 'COL',\n",
       " 'ROW',\n",
       " 'Xt',\n",
       " 'Yt']"
      ]
     },
     "execution_count": 7,
     "metadata": {},
     "output_type": "execute_result"
    }
   ],
   "source": [
    "obs_list"
   ]
  },
  {
   "cell_type": "code",
   "execution_count": 8,
   "metadata": {},
   "outputs": [],
   "source": [
    "X = np.array(raw_pd.loc[:,var_list].values).astype('float')"
   ]
  },
  {
   "cell_type": "code",
   "execution_count": 9,
   "metadata": {},
   "outputs": [
    {
     "data": {
      "text/plain": [
       "array([[1525.266],\n",
       "       [1540.086],\n",
       "       [1278.154],\n",
       "       ...,\n",
       "       [ 829.029],\n",
       "       [1082.097],\n",
       "       [1189.751]])"
      ]
     },
     "execution_count": 9,
     "metadata": {},
     "output_type": "execute_result"
    }
   ],
   "source": [
    "raw_pd[['X']].values"
   ]
  },
  {
   "cell_type": "code",
   "execution_count": 10,
   "metadata": {},
   "outputs": [
    {
     "name": "stderr",
     "output_type": "stream",
     "text": [
      "/tmp/ipykernel_1061208/848963088.py:1: FutureWarning: X.dtype being converted to np.float32 from float64. In the next version of anndata (0.9) conversion will not be automatic. Pass dtype explicitly to avoid this warning. Pass `AnnData(X, dtype=X.dtype, ...)` to get the future behavour.\n",
      "  adata = ad.AnnData(X)\n"
     ]
    }
   ],
   "source": [
    "adata = ad.AnnData(X)\n",
    "adata.var_names = var_list\n",
    "for obs in obs_list:\n",
    "    adata.obs[obs] = raw_pd[[obs]].values"
   ]
  },
  {
   "cell_type": "code",
   "execution_count": 12,
   "metadata": {},
   "outputs": [],
   "source": [
    "adata.obsm['spatial'] = np.vstack([adata.obs['X'],adata.obs['Y']]).transpose()"
   ]
  },
  {
   "cell_type": "code",
   "execution_count": 14,
   "metadata": {},
   "outputs": [],
   "source": [
    "adata.obsm['spatial'] = np.vstack([adata.obs['Xt'],adata.obs['Yt']]).transpose()"
   ]
  },
  {
   "cell_type": "code",
   "execution_count": 16,
   "metadata": {},
   "outputs": [
    {
     "data": {
      "image/png": "[encoded data removed]",
      "text/plain": [
       "<Figure size 432x288 with 2 Axes>"
      ]
     },
     "metadata": {
      "needs_background": "light"
     },
     "output_type": "display_data"
    }
   ],
   "source": [
    "sc.pl.embedding(adata,basis='spatial',color=['Area'])"
   ]
  },
  {
   "cell_type": "code",
   "execution_count": 17,
   "metadata": {},
   "outputs": [],
   "source": [
    "# adata.obsm['spatial'] = np.vstack([adata.obs['X'],adata.obs['Y']]).transpose()\n",
    "adata.write_h5ad(f'Figure1112_GBM.h5ad')\n"
   ]
  },
  {
   "cell_type": "code",
   "execution_count": null,
   "metadata": {},
   "outputs": [],
   "source": []
  }
 ],
 "metadata": {
  "kernelspec": {
   "display_name": "SODB",
   "language": "python",
   "name": "sodb"
  },
  "language_info": {
   "codemirror_mode": {
    "name": "ipython",
    "version": 3
   },
   "file_extension": ".py",
   "mimetype": "text/x-python",
   "name": "python",
   "nbconvert_exporter": "python",
   "pygments_lexer": "ipython3",
   "version": "3.9.12"
  }
 },
 "nbformat": 4,
 "nbformat_minor": 4
}
