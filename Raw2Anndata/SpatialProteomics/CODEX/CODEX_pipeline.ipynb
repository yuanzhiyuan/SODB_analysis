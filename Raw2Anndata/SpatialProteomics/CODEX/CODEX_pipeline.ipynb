{
 "cells": [
  {
   "cell_type": "code",
   "execution_count": null,
   "metadata": {},
   "outputs": [],
   "source": []
  },
  {
   "cell_type": "markdown",
   "metadata": {},
   "source": [
    "Deep Profiling of Mouse Splenic Architecture with CODEX Multiplexed Imaging"
   ]
  },
  {
   "cell_type": "markdown",
   "metadata": {},
   "source": [
    "ShortName: Goltsev2028deep"
   ]
  },
  {
   "cell_type": "markdown",
   "metadata": {},
   "source": [
    "Steps of processing the data from raw to Anndata:"
   ]
  },
  {
   "cell_type": "code",
   "execution_count": null,
   "metadata": {},
   "outputs": [],
   "source": [
    "# 1, Download the raw data from https://data.mendeley.com/datasets/zjnpwh8m5b/1"
   ]
  },
  {
   "cell_type": "markdown",
   "metadata": {},
   "source": [
    "# imports"
   ]
  },
  {
   "cell_type": "code",
   "execution_count": null,
   "metadata": {},
   "outputs": [],
   "source": [
    "import h5py\n",
    "import scanpy as sc\n",
    "import seaborn as sns\n",
    "import scipy.sparse as sp_sparse\n",
    "import numpy as np\n",
    "import matplotlib.pyplot as plt\n",
    "import pandas as pd\n",
    "import anndata as ad\n",
    "import palettable\n",
    "import sklearn\n"
   ]
  },
  {
   "cell_type": "markdown",
   "metadata": {},
   "source": [
    "# csv to h5ad"
   ]
  },
  {
   "cell_type": "code",
   "execution_count": null,
   "metadata": {},
   "outputs": [],
   "source": [
    "adata_raw = sc.read_csv(data_path+'Suppl.Table2.CODEX_paper_MRLdatasetexpression.csv',dtype='str')"
   ]
  },
  {
   "cell_type": "code",
   "execution_count": null,
   "metadata": {},
   "outputs": [],
   "source": [
    "adata_raw.var_names"
   ]
  },
  {
   "cell_type": "code",
   "execution_count": null,
   "metadata": {},
   "outputs": [],
   "source": [
    "protein_idx_list = list(range(1,30))\n",
    "protein_idx_list.extend([33,34,35])"
   ]
  },
  {
   "cell_type": "code",
   "execution_count": null,
   "metadata": {},
   "outputs": [],
   "source": [
    "protein_list = adata_raw.var_names[protein_idx_list]"
   ]
  },
  {
   "cell_type": "code",
   "execution_count": null,
   "metadata": {},
   "outputs": [],
   "source": [
    "adata_raw[:,'Global_X'].X"
   ]
  },
  {
   "cell_type": "code",
   "execution_count": null,
   "metadata": {},
   "outputs": [],
   "source": [
    "adata = adata_raw[:,protein_idx_list].copy()\n",
    "adata.X = adata.X.astype('float')\n",
    "for var in adata_raw.var_names:\n",
    "    if var in protein_list:\n",
    "        continue\n",
    "    adata.obs[var] = adata_raw[:,var].X"
   ]
  },
  {
   "cell_type": "code",
   "execution_count": null,
   "metadata": {},
   "outputs": [],
   "source": [
    "spatial_mat = np.vstack([adata.obs['X.X'],adata.obs['Y.Y']]).transpose().astype('int')\n",
    "spatial_tile_mat = np.vstack([adata.obs['Xtile'],adata.obs['Ytile']]).transpose().astype('int')\n",
    "spatial_global_mat = np.vstack([adata.obs['Global_X'],adata.obs['Global_Y']]).transpose().astype('int')\n",
    "adata.obsm['spatial'] = spatial_mat\n",
    "adata.obsm['spatial_tile'] = spatial_tile_mat\n",
    "adata.obsm['spatial_global'] = spatial_global_mat\n",
    "\n",
    "\n"
   ]
  },
  {
   "cell_type": "code",
   "execution_count": null,
   "metadata": {},
   "outputs": [],
   "source": [
    "adata_use = adata[adata.obs['sample_Xtile_Ytile']=='MRL-4_X01_Y01']\n",
    "sc.pl.embedding(adata_use,basis='spatial',\n",
    "                color=[\n",
    "                    'Imaging phenotype cluster ID',\n",
    "                    'niche cluster ID'\n",
    "                ])"
   ]
  },
  {
   "cell_type": "markdown",
   "metadata": {},
   "source": [
    "# processing and plotting"
   ]
  },
  {
   "cell_type": "code",
   "execution_count": null,
   "metadata": {},
   "outputs": [],
   "source": [
    "# sc.pp.pca(adata,n_comps=10)\n",
    "sc.pp.neighbors(adata,n_neighbors=30)\n",
    "sc.tl.umap(adata,n_components=2)\n",
    "sc.tl.louvain(adata,resolution=0.5)\n",
    "sc.tl.paga(adata,groups='louvain')"
   ]
  },
  {
   "cell_type": "code",
   "execution_count": null,
   "metadata": {},
   "outputs": [],
   "source": [
    "sc.pl.umap(adata,color=['louvain',\n",
    "                        'Imaging phenotype cluster ID',\n",
    "                        'niche cluster ID'\n",
    "                       ],ncols=1)"
   ]
  },
  {
   "cell_type": "code",
   "execution_count": null,
   "metadata": {},
   "outputs": [],
   "source": [
    "sc.pl.paga(adata,\n",
    "           solid_edges='connectivities_tree',\n",
    "          dashed_edges='connectivities',\n",
    "           color='Imaging phenotype cluster ID'\n",
    "#            layout=None\n",
    "#            single_component=True\n",
    "#            normalize_to_color=True,\n",
    "           \n",
    "          )\n"
   ]
  },
  {
   "cell_type": "code",
   "execution_count": null,
   "metadata": {},
   "outputs": [],
   "source": [
    "sc.pl.paga_compare(adata,color='louvain',\n",
    "                   basis = 'X_umap',\n",
    "                   solid_edges='connectivities_tree',\n",
    "                  dashed_edges='connectivities',\n",
    "                   \n",
    "                \n",
    "                  )"
   ]
  },
  {
   "cell_type": "code",
   "execution_count": null,
   "metadata": {},
   "outputs": [],
   "source": [
    "adata"
   ]
  },
  {
   "cell_type": "code",
   "execution_count": null,
   "metadata": {},
   "outputs": [],
   "source": [
    "np.unique(adata.obs['sampleID'])"
   ]
  },
  {
   "cell_type": "code",
   "execution_count": null,
   "metadata": {},
   "outputs": [],
   "source": [
    "sample_plot = 'MRL-4'\n",
    "for sample_plot in np.unique(adata.obs['sampleID']):\n",
    "    print(sample_plot)\n",
    "    adata_plot = adata[adata.obs['sampleID']==sample_plot]\n",
    "    sc.pl.embedding(adata_plot,basis='spatial_global',\n",
    "                    color=['louvain',\n",
    "                            'Imaging phenotype cluster ID',\n",
    "                           'niche cluster ID',\n",
    "                           'CD45'\n",
    "                           \n",
    "                          ],\n",
    "                    s=20,ncols=1)"
   ]
  }
 ],
 "metadata": {
  "kernelspec": {
   "display_name": "pytorch",
   "language": "python",
   "name": "pytorch"
  },
  "language_info": {
   "codemirror_mode": {
    "name": "ipython",
    "version": 3
   },
   "file_extension": ".py",
   "mimetype": "text/x-python",
   "name": "python",
   "nbconvert_exporter": "python",
   "pygments_lexer": "ipython3",
   "version": "3.7.5"
  }
 },
 "nbformat": 4,
 "nbformat_minor": 4
}
