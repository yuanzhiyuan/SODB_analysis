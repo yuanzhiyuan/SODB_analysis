{
 "cells": [
  {
   "cell_type": "markdown",
   "metadata": {},
   "source": [
    "Spatial genomics enables multi-modal study of clonal heterogeneity in tissues"
   ]
  },
  {
   "cell_type": "markdown",
   "metadata": {},
   "source": [
    "ShortName: zhao2022spatial"
   ]
  },
  {
   "cell_type": "markdown",
   "metadata": {},
   "source": [
    "Steps of processing the data from raw to Anndata:"
   ]
  },
  {
   "cell_type": "code",
   "execution_count": 1,
   "metadata": {},
   "outputs": [],
   "source": [
    "# 1, Download the raw data from https://singlecell.broadinstitute.org/single_cell/study/SCP1278/spatial-genomics-enables-multi-modal-study-of-clonal-heterogeneity-in-tissues"
   ]
  },
  {
   "cell_type": "code",
   "execution_count": 3,
   "metadata": {},
   "outputs": [],
   "source": [
    "import os\n",
    "import pandas as pd\n",
    "import numpy as np\n",
    "import scanpy as sc\n",
    "import anndata as ad"
   ]
  },
  {
   "cell_type": "code",
   "execution_count": 4,
   "metadata": {},
   "outputs": [],
   "source": [
    "path = '/home/yzy/projects/SODB/SODB_code/SODB/revision/Raw2Anndata/SpatialProteomics/t-CyCIF/data'\n"
   ]
  },
  {
   "cell_type": "code",
   "execution_count": 1,
   "metadata": {},
   "outputs": [
    {
     "name": "stdout",
     "output_type": "stream",
     "text": [
      "scanpy==1.8.2 anndata==0.8.0 umap==0.5.2 numpy==1.20.3 scipy==1.7.3 pandas==1.3.5 scikit-learn==1.0.2 statsmodels==0.13.1 python-igraph==0.9.8 pynndescent==0.5.5\n",
      "squidpy==1.1.2\n"
     ]
    }
   ],
   "source": [
    "from soview import *\n",
    "import shutil\n",
    "import os\n",
    "import gc"
   ]
  },
  {
   "cell_type": "code",
   "execution_count": 2,
   "metadata": {},
   "outputs": [],
   "source": [
    "import pandas as pd"
   ]
  },
  {
   "cell_type": "code",
   "execution_count": 3,
   "metadata": {},
   "outputs": [],
   "source": [
    "raw_path = 'zhiyuanyuan/PUBDT/st/slideDNAseq/original/data/ft_local/slide-DNA-seq'\n",
    "h5ad_path = 'zhiyuanyuan/PUBDT/st/slideDNAseq/original/h5ad'\n",
    "\n"
   ]
  },
  {
   "cell_type": "code",
   "execution_count": 4,
   "metadata": {},
   "outputs": [],
   "source": [
    "def get_adata(var_dict,count_file,delimiter,molecule):\n",
    "    var_len = len(var_dict)\n",
    "    count_pd = pd.read_csv(f'{raw_path}/{count_file}',delimiter=delimiter)\n",
    "    count_sparse = count_pd.values\n",
    "    if molecule=='dna':\n",
    "        cell_len = count_sparse[:,0].max()\n",
    "    elif molecule=='rna':\n",
    "        cell_len = count_sparse[:,1].max()\n",
    "    # print(cell_len,var_len)\n",
    "    # print(count_sparse[:,1].max(),count_sparse[:,0].max())\n",
    "    count_mat = np.zeros(shape=(cell_len,var_len))\n",
    "    \n",
    "    for i in range(count_sparse.shape[0]):\n",
    "        if molecule=='dna':\n",
    "            cell_idx = count_sparse[i][0]\n",
    "            var_idx = count_sparse[i][1]\n",
    "        elif molecule=='rna':\n",
    "            cell_idx = count_sparse[i][1]\n",
    "            var_idx = count_sparse[i][0]\n",
    "        count = count_sparse[i][2]\n",
    "        count_mat[cell_idx-1,var_idx-1] = count\n",
    "    adata = ad.AnnData(count_mat)\n",
    "    adata.var_names = [var_dict[i+1] for i in range(len(var_dict))]\n",
    "    adata.obs_names = list(np.arange(cell_len).astype('str'))\n",
    "    return adata"
   ]
  },
  {
   "cell_type": "code",
   "execution_count": 5,
   "metadata": {},
   "outputs": [
    {
     "name": "stdout",
     "output_type": "stream",
     "text": [
      "mouse_cerebellum_1_dna_200114_14 bead_locations\n",
      "mouse_liver_met_1_dna_191114_06 sparse_counts_1Mb\n",
      "human_colon_cancer_dna_4x_201027_12 bead_locations\n",
      "mouse_cerebellum_1_dna_200114_14 sparse_counts_1Mb\n",
      "mouse_cerebellum_1_dna_190201_21 sparse_counts_1Mb\n",
      "mouse_liver_met_2_dna_200114_10 bead_locations\n",
      "human_colon_cancer_dna_4x_201027_12 sparse_counts_1Mb\n",
      "mouse_cerebellum_dna_4x_201027_17 bead_locations\n",
      "mouse_liver_met_1_dna_191114_05 bead_locations\n",
      "human_colon_cancer_3_dna_191204_19 sparse_counts_1Mb\n",
      "mouse_liver_met_1_dna_191114_06 bead_locations\n",
      "mouse_cerebellum_1_dna_190201_21 bead_locations\n",
      "mouse_cerebellum_dna_4x_201027_17 sparse_counts_1Mb\n",
      "human_colon_cancer_3_scwgs_210402_02 counts_1Mb\n",
      "human_colon_cancer_4_rna_200102_06 bead_locations\n",
      "mouse_liver_met_2_rna_201002_04 bead_locations\n",
      "human_colon_cancer_3_scwgs_200227_01 counts_1Mb\n",
      "human_colon_cancer_3_dna_191204_19 bead_locations\n",
      "human_colon_cancer_4_dna_200114_13 bead_locations\n",
      "human_colon_cancer_4_rna_200102_06 sparse_expression\n",
      "human_colon_cancer_4_dna_200114_13 sparse_counts_1Mb\n",
      "mouse_liver_met_1_dna_191114_05 sparse_counts_1Mb\n",
      "mouse_liver_met_2_dna_200114_10 sparse_counts_1Mb\n",
      "mouse_liver_met_2_rna_201002_04 sparse_expression\n"
     ]
    }
   ],
   "source": [
    "for file_name in os.listdir(raw_path):\n",
    "    file_sp = file_name.split('.')\n",
    "    if len(file_sp)!=3:\n",
    "        continue\n",
    "    print(file_sp[0],file_sp[1])\n",
    "        "
   ]
  },
  {
   "cell_type": "code",
   "execution_count": 6,
   "metadata": {},
   "outputs": [],
   "source": [
    "human_dna_var_file = f'{raw_path}/hg19_1Mb_bins.txt'\n",
    "human_rna_var_file = f'{raw_path}/human_genes.txt'\n",
    "mouse_dna_var_file = f'{raw_path}/mm10_1Mb_bins.txt'\n",
    "mouse_rna_var_file = f'{raw_path}/mouse_genes.txt'"
   ]
  },
  {
   "cell_type": "code",
   "execution_count": 7,
   "metadata": {},
   "outputs": [],
   "source": [
    "pd_human_dna = pd.read_csv(human_dna_var_file,delimiter='\\t')\n",
    "human_dna_var_dict = {}\n",
    "for i in range(len(pd_human_dna)):\n",
    "    bin_id = pd_human_dna['bin_ind'][i]\n",
    "    chr_id = pd_human_dna['chr'][i]\n",
    "    bin_st = pd_human_dna['bin_start'][i]\n",
    "    bin_ed = pd_human_dna['bin_end'][i]    \n",
    "    human_dna_var_dict[bin_id] = f'{chr_id}_{bin_st}_{bin_ed}'"
   ]
  },
  {
   "cell_type": "code",
   "execution_count": 8,
   "metadata": {},
   "outputs": [],
   "source": [
    "pd_mouse_dna = pd.read_csv(mouse_dna_var_file,delimiter='\\t')\n",
    "mouse_dna_var_dict = {}\n",
    "for i in range(len(pd_mouse_dna)):\n",
    "    bin_id = pd_mouse_dna['bin_ind'][i]\n",
    "    chr_id = pd_mouse_dna['chr'][i]\n",
    "    bin_st = pd_mouse_dna['bin_start'][i]\n",
    "    bin_ed = pd_mouse_dna['bin_end'][i]    \n",
    "    mouse_dna_var_dict[bin_id] = f'{chr_id}_{bin_st}_{bin_ed}'"
   ]
  },
  {
   "cell_type": "code",
   "execution_count": 9,
   "metadata": {},
   "outputs": [],
   "source": [
    "pd_human_rna = pd.read_csv(human_rna_var_file,delimiter='\\t')\n",
    "rna_list = list(pd_human_rna.values[:,0])\n",
    "id_list = list(np.arange(len(rna_list))+1)\n",
    "human_rna_var_dict = dict(zip(id_list,rna_list))"
   ]
  },
  {
   "cell_type": "code",
   "execution_count": 10,
   "metadata": {
    "tags": []
   },
   "outputs": [],
   "source": [
    "pd_mouse_rna = pd.read_csv(mouse_rna_var_file,delimiter='\\t')\n",
    "rna_list = list(pd_mouse_rna.values[:,0])\n",
    "id_list = list(np.arange(len(rna_list))+1)\n",
    "mouse_rna_var_dict = dict(zip(id_list,rna_list))"
   ]
  },
  {
   "cell_type": "code",
   "execution_count": 11,
   "metadata": {},
   "outputs": [],
   "source": [
    "sample_file_list = [\n",
    "    [\n",
    "        'human_colon_cancer_3_dna_191204_19.bead_locations.csv',\n",
    "        'human_colon_cancer_3_dna_191204_19.sparse_counts_1Mb.txt'\n",
    "    ],\n",
    "    [\n",
    "        'human_colon_cancer_4_dna_200114_13.bead_locations.csv',\n",
    "        'human_colon_cancer_4_dna_200114_13.sparse_counts_1Mb.txt'\n",
    "    ],\n",
    "    [\n",
    "        'human_colon_cancer_4_rna_200102_06.bead_locations.csv',\n",
    "        'human_colon_cancer_4_rna_200102_06.sparse_expression.txt'\n",
    "    ],\n",
    "    [\n",
    "        'human_colon_cancer_dna_4x_201027_12.bead_locations.csv',\n",
    "        'human_colon_cancer_dna_4x_201027_12.sparse_counts_1Mb.txt'\n",
    "    ],\n",
    "    [\n",
    "        'mouse_cerebellum_1_dna_190201_21.bead_locations.csv',\n",
    "        'mouse_cerebellum_1_dna_190201_21.sparse_counts_1Mb.txt'\n",
    "    ],\n",
    "    [\n",
    "        'mouse_cerebellum_1_dna_200114_14.bead_locations.csv',\n",
    "        'mouse_cerebellum_1_dna_200114_14.sparse_counts_1Mb.txt'\n",
    "    ],\n",
    "    [\n",
    "        'mouse_cerebellum_dna_4x_201027_17.bead_locations.csv',\n",
    "        'mouse_cerebellum_dna_4x_201027_17.sparse_counts_1Mb.txt'\n",
    "    ],\n",
    "    [\n",
    "        'mouse_liver_met_1_dna_191114_05.bead_locations.csv',\n",
    "        'mouse_liver_met_1_dna_191114_05.sparse_counts_1Mb.txt'\n",
    "    ],\n",
    "    [\n",
    "        'mouse_liver_met_1_dna_191114_06.bead_locations.csv',\n",
    "        'mouse_liver_met_1_dna_191114_06.sparse_counts_1Mb.txt'\n",
    "    ],\n",
    "    [\n",
    "        'mouse_liver_met_2_dna_200114_10.bead_locations.csv',\n",
    "        'mouse_liver_met_2_dna_200114_10.sparse_counts_1Mb.txt'\n",
    "    ],\n",
    "    [\n",
    "        'mouse_liver_met_2_rna_201002_04.bead_locations.csv',\n",
    "        'mouse_liver_met_2_rna_201002_04.sparse_expression.txt'\n",
    "    ]\n",
    "    \n",
    "]"
   ]
  },
  {
   "cell_type": "code",
   "execution_count": 12,
   "metadata": {},
   "outputs": [
    {
     "name": "stderr",
     "output_type": "stream",
     "text": [
      "/tmp/ipykernel_16393/3414743750.py:22: FutureWarning: X.dtype being converted to np.float32 from float64. In the next version of anndata (0.9) conversion will not be automatic. Pass dtype explicitly to avoid this warning. Pass `AnnData(X, dtype=X.dtype, ...)` to get the future behavour.\n",
      "  adata = ad.AnnData(count_mat)\n"
     ]
    },
    {
     "name": "stdout",
     "output_type": "stream",
     "text": [
      "human_colon_cancer_3_dna_191204_19 (41181, 3114)\n",
      "human_colon_cancer_4_dna_200114_13 (40766, 3114)\n",
      "human_colon_cancer_4_rna_200102_06 (34263, 26001)\n",
      "human_colon_cancer_dna_4x_201027_12 (17787, 3114)\n",
      "mouse_cerebellum_1_dna_190201_21 (34468, 2738)\n",
      "mouse_cerebellum_1_dna_200114_14 (31382, 2738)\n",
      "mouse_cerebellum_dna_4x_201027_17 (16736, 2738)\n",
      "mouse_liver_met_1_dna_191114_05 (40685, 2738)\n",
      "mouse_liver_met_1_dna_191114_06 (39089, 2738)\n",
      "mouse_liver_met_2_dna_200114_10 (38580, 2738)\n",
      "mouse_liver_met_2_rna_201002_04 (31290, 21902)\n"
     ]
    }
   ],
   "source": [
    "for i in range(len(sample_file_list)):\n",
    "    count_file = sample_file_list[i][1]\n",
    "    coord_file = sample_file_list[i][0]\n",
    "    sample_name = coord_file.split('.')[0]\n",
    "    if 'dna' in count_file and 'human' in count_file:\n",
    "        var_dict = human_dna_var_dict\n",
    "        delimiter = '\\t'\n",
    "        molecule = 'dna'\n",
    "    if 'dna' in count_file and 'mouse' in count_file:\n",
    "        var_dict = mouse_dna_var_dict\n",
    "        delimiter = '\\t'\n",
    "        molecule = 'dna'\n",
    "\n",
    "\n",
    "    if 'rna' in count_file and 'human' in count_file:\n",
    "        var_dict = human_rna_var_dict\n",
    "        delimiter = ','\n",
    "        molecule = 'rna'\n",
    "\n",
    "\n",
    "    if 'rna' in count_file and 'mouse' in count_file:\n",
    "        var_dict = mouse_rna_var_dict        \n",
    "        delimiter = ','\n",
    "        molecule = 'rna'\n",
    "\n",
    "\n",
    "\n",
    "    adata = get_adata(var_dict,count_file,delimiter,molecule)\n",
    "    spatial_mat = coord_pd = pd.read_csv(f'{raw_path}/{coord_file}').values[:,1:3]\n",
    "    adata.obsm['spatial'] = spatial_mat.astype('float')\n",
    "    print(sample_name,adata.shape)\n",
    "    \n",
    "\n",
    "    adata.write_h5ad(f'{h5ad_path}/{sample_name}.h5ad')\n",
    "    del adata\n",
    "    gc.collect()"
   ]
  },
  {
   "cell_type": "code",
   "execution_count": null,
   "metadata": {},
   "outputs": [],
   "source": []
  }
 ],
 "metadata": {
  "kernelspec": {
   "display_name": "SOView",
   "language": "python",
   "name": "soview"
  },
  "language_info": {
   "codemirror_mode": {
    "name": "ipython",
    "version": 3
   },
   "file_extension": ".py",
   "mimetype": "text/x-python",
   "name": "python",
   "nbconvert_exporter": "python",
   "pygments_lexer": "ipython3",
   "version": "3.9.7"
  }
 },
 "nbformat": 4,
 "nbformat_minor": 5
}
