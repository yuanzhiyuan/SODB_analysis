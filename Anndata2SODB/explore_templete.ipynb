{
 "cells": [
  {
   "cell_type": "code",
   "execution_count": 2,
   "metadata": {},
   "outputs": [
    {
     "name": "stderr",
     "output_type": "stream",
     "text": [
      "/home/yzy/anaconda3/envs/SODB/lib/python3.9/site-packages/tqdm-4.64.1-py3.9.egg/tqdm/auto.py:22: TqdmWarning: IProgress not found. Please update jupyter and ipywidgets. See https://ipywidgets.readthedocs.io/en/stable/user_install.html\n",
      "  from .autonotebook import tqdm as notebook_tqdm\n"
     ]
    },
    {
     "name": "stdout",
     "output_type": "stream",
     "text": [
      "scanpy==1.9.1 anndata==0.8.0 umap==0.5.2 numpy==1.23.3 scipy==1.9.1 pandas==1.5.0 scikit-learn==1.0.2 statsmodels==0.13.2 python-igraph==0.9.9 pynndescent==0.5.6\n",
      "squidpy==1.1.2\n"
     ]
    }
   ],
   "source": [
    "from SOView import *\n",
    "import shutil\n",
    "import os\n",
    "import gc\n",
    "from scipy import sparse"
   ]
  },
  {
   "cell_type": "markdown",
   "metadata": {},
   "source": [
    "fill in the start index of new datasets"
   ]
  },
  {
   "cell_type": "code",
   "execution_count": 3,
   "metadata": {},
   "outputs": [],
   "source": [
    "dataset_start_id = 129"
   ]
  },
  {
   "cell_type": "markdown",
   "metadata": {},
   "source": [
    "fill in the list of datasets to be added"
   ]
  },
  {
   "cell_type": "code",
   "execution_count": 4,
   "metadata": {},
   "outputs": [],
   "source": [
    "dataset_list = ['Wu2022spatial']"
   ]
  },
  {
   "cell_type": "markdown",
   "metadata": {},
   "source": [
    "fill in the species of these datasets"
   ]
  },
  {
   "cell_type": "code",
   "execution_count": 6,
   "metadata": {},
   "outputs": [],
   "source": [
    "dataset_species_list = [\n",
    "    'Human',\n",
    "\n",
    "    \n",
    "]"
   ]
  },
  {
   "cell_type": "markdown",
   "metadata": {},
   "source": [
    "fill in the tissue types of these datasets"
   ]
  },
  {
   "cell_type": "code",
   "execution_count": 7,
   "metadata": {},
   "outputs": [],
   "source": [
    "dataset_tissue_list = [\n",
    "    'lung adenocarcinoma',\n",
    "\n",
    "]"
   ]
  },
  {
   "cell_type": "code",
   "execution_count": 8,
   "metadata": {},
   "outputs": [
    {
     "data": {
      "text/plain": [
       "1"
      ]
     },
     "execution_count": 8,
     "metadata": {},
     "output_type": "execute_result"
    }
   ],
   "source": [
    "len(dataset_list)"
   ]
  },
  {
   "cell_type": "code",
   "execution_count": 14,
   "metadata": {},
   "outputs": [],
   "source": [
    "ifsparse =False\n",
    "# is the expression matrix sparse?\n",
    "raw_count = False\n",
    "# is the expression matrix presented as raw count?"
   ]
  },
  {
   "cell_type": "markdown",
   "metadata": {},
   "source": [
    "main function"
   ]
  },
  {
   "cell_type": "code",
   "execution_count": 15,
   "metadata": {},
   "outputs": [],
   "source": [
    "\n",
    "\n",
    "def SODB_process(root_path,source_h5ad_path,biotech,biotech_category,dataset_short):\n",
    "    # 多个单词要加下划线\n",
    "\n",
    "    h5ad_list = os.listdir(source_h5ad_path)\n",
    "    out_dataname_list = []\n",
    "    out_h5ad_path_list = []\n",
    "    out_feature_dict_list = []\n",
    "    N_Unit_list = []\n",
    "    N_Gene_list = []\n",
    "    for hl in h5ad_list:\n",
    "        if not hl.endswith('.h5ad'):\n",
    "            continue\n",
    "        # source_h5ad_data = hl.split('.')[0]\n",
    "        source_h5ad_data = hl[0:-5]\n",
    "\n",
    "\n",
    "        source_h5ad = f'{source_h5ad_path}/{source_h5ad_data}.h5ad'\n",
    "        print(source_h5ad)\n",
    "        data_name = source_h5ad_data\n",
    "\n",
    "\n",
    "        path_rel = f'demo_data/{biotech_category}/{biotech}/{dataset_short}/{data_name}'\n",
    "        path_abs = root_path+path_rel\n",
    "        os.makedirs(path_abs, exist_ok=False)\n",
    "        print(\"The new directory is created!\")\n",
    "        shutil.copyfile(source_h5ad, f'{path_abs}/data.h5ad')\n",
    "\n",
    "\n",
    "        data_use = path_rel\n",
    "        adata = ad.read_h5ad(f'{root_path}{data_use}/data.h5ad')\n",
    "        adata.var_names_make_unique()\n",
    "\n",
    "\n",
    "        # print(adata.X)\n",
    "        print(f'h5ad path: {data_use}/data.h5ad')\n",
    "        if 'in_tissue' in adata.obs:\n",
    "            adata = adata[adata.obs['in_tissue']==1]\n",
    "        adata.obsm['spatial'] = np.array(adata.obsm['spatial'])\n",
    "\n",
    "        \n",
    "        \n",
    "        adata.layers[\"counts\"] = adata.X.copy()\n",
    "\n",
    "        # if np.sum(adata.X)==np.sum(adata.X.astype('int')):\n",
    "        if raw_count:\n",
    "            # is all the element in adata.X are integer?\n",
    "\n",
    "            sc.pp.normalize_total(adata, inplace=True)\n",
    "            sc.pp.log1p(adata)\n",
    "        if adata.shape[1]>=2000:\n",
    "            sc.pp.highly_variable_genes(adata, flavor=\"seurat\", n_top_genes=2000)\n",
    "        else:\n",
    "            pass\n",
    "\n",
    "\n",
    "        sc.pp.pca(adata)\n",
    "        sc.pp.neighbors(adata)\n",
    "        sc.tl.leiden(adata)\n",
    "\n",
    "        sc.pl.embedding(adata,basis='spatial',color='leiden')\n",
    "        sc.tl.umap(adata,n_components=3)\n",
    "        SOViewer_plot(adata,embedding_use='X_umap',dot_size=10)\n",
    "        print(f'View path: {data_use}/View_UMAP_LAB.pdf')\n",
    "\n",
    "        gene_list = np.array(adata.var_names).tolist()\n",
    "        obs_list = np.array(adata.obs.keys()).tolist()\n",
    "        obsm_list = []\n",
    "        for obsm in np.array(adata.obsm.keys()).tolist():\n",
    "            for i in range(adata.obsm[obsm].shape[1]):\n",
    "                cur_obsm = f'{obsm}@{i}'\n",
    "                obsm_list.append(cur_obsm)\n",
    "\n",
    "        feature_dict = {\n",
    "            'gene':gene_list,\n",
    "            'obs':obs_list,\n",
    "            'obsm':obsm_list\n",
    "        }\n",
    "\n",
    "        import pickle\n",
    "        with open(f'{root_path}{data_use}/feature_dict.pickle', 'wb') as handle:\n",
    "            pickle.dump(feature_dict, handle, protocol=pickle.HIGHEST_PROTOCOL)\n",
    "\n",
    "        print(f'把feature_dict写为: {data_use}/feature_dict.pickle')\n",
    "        sq.gr.spatial_neighbors(adata, coord_type=\"generic\",n_neighs=10)\n",
    "        sq.gr.spatial_autocorr(adata, mode=\"moran\")\n",
    "        \n",
    "        if ifsparse:\n",
    "            adata.X = sparse.csr_matrix(adata.layers[\"counts\"])\n",
    "        lay_keys = list(adata.layers.keys())\n",
    "        for lay in lay_keys:\n",
    "            del adata.layers[lay]\n",
    "        \n",
    "        adata.write_h5ad(f'{root_path}{data_use}/data.h5ad')\n",
    "        out_dataname_list.append(source_h5ad_data)\n",
    "        out_h5ad_path_list.append(f'{data_use}/data.h5ad')\n",
    "        out_feature_dict_list.append(f'{data_use}/feature_dict.pickle')\n",
    "        N_Unit_list.append(adata.shape[0])\n",
    "        N_Gene_list.append(adata.shape[1])\n",
    "\n",
    "        print(source_h5ad_data)\n",
    "        print(f'h5ad path: {data_use}/data.h5ad')\n",
    "        print(f'把feature_dict写为: {data_use}/feature_dict.pickle')\n",
    "        print(f'N_Unit: {adata.shape[0]}')\n",
    "        print(f'N_Gene: {adata.shape[1]}')\n",
    "        del adata\n",
    "        gc.collect()\n",
    "    return out_dataname_list,out_h5ad_path_list,out_feature_dict_list,N_Unit_list,N_Gene_list"
   ]
  },
  {
   "cell_type": "code",
   "execution_count": 16,
   "metadata": {},
   "outputs": [],
   "source": [
    "out_dataname_list_list = []\n",
    "out_h5ad_path_list_list = []\n",
    "out_feature_dict_list_list = []\n",
    "N_Unit_list_list = []\n",
    "N_Gene_list_list = []\n",
    "tissue_list = []\n",
    "species_list = []\n",
    "dataset_id_list = []\n",
    "biotech_id_list = []"
   ]
  },
  {
   "cell_type": "code",
   "execution_count": null,
   "metadata": {
    "tags": []
   },
   "outputs": [
    {
     "name": "stdout",
     "output_type": "stream",
     "text": [
      "/home/yzy/PUBDT/st/tCyCIF/Wu2022spatial/h5ad/P137905.h5ad\n",
      "The new directory is created!\n",
      "h5ad path: demo_data/Spatial_Proteomics/t-CyCIF/Wu2022spatial/P137905/data.h5ad\n"
     ]
    }
   ],
   "source": [
    "# the root path of SODB database\n",
    "root_path = '/home/yzy/projects/SODB/data_append/0930/'\n",
    "\n",
    "# the path of added data processed by Raw2Anndata\n",
    "source_h5ad_root = '/home/yzy/PUBDT/st/tCyCIF'\n",
    "\n",
    "\n",
    "biotech = 't-CyCIF'\n",
    "biotech_category = 'Spatial_Proteomics'\n",
    "\n",
    "\n",
    "\n",
    "for i in range(len(dataset_list)):\n",
    "    dataset_short = dataset_list[i]\n",
    "\n",
    "    cur_datasetid = i+dataset_start_id\n",
    "    source_h5ad_path = f'{source_h5ad_root}/{dataset_short}/h5ad'\n",
    "    biotech_id = 12\n",
    "\n",
    "\n",
    "\n",
    "    out_dataname_list,out_h5ad_path_list,out_feature_dict_list,N_Unit_list,N_Gene_list = SODB_process(root_path,source_h5ad_path,biotech,biotech_category,dataset_short)\n",
    "    tissue = [dataset_tissue_list[i]]*len(out_dataname_list)\n",
    "    species = [dataset_species_list[i]]*len(out_dataname_list)\n",
    "    # dataset_id_list = [cur_datasetid]\n",
    "    \n",
    "    out_dataname_list_list.append(out_dataname_list)\n",
    "    out_h5ad_path_list_list.append(out_h5ad_path_list)\n",
    "    out_feature_dict_list_list.append(out_feature_dict_list)\n",
    "    N_Unit_list_list.append(N_Unit_list)\n",
    "    N_Gene_list_list.append(N_Gene_list)\n",
    "    tissue_list.append(tissue)\n",
    "    species_list.append(species)\n",
    "\n",
    "    dataset_id_list.append([cur_datasetid]*len(out_dataname_list))\n",
    "    biotech_id_list.append([biotech_id]*len(out_dataname_list))"
   ]
  },
  {
   "cell_type": "code",
   "execution_count": null,
   "metadata": {},
   "outputs": [],
   "source": [
    "1+1"
   ]
  },
  {
   "cell_type": "code",
   "execution_count": 29,
   "metadata": {},
   "outputs": [],
   "source": [
    "def print_list_list(ll):\n",
    "    for l in ll:\n",
    "        for i in l:\n",
    "            print(i+3)"
   ]
  },
  {
   "cell_type": "markdown",
   "metadata": {
    "tags": []
   },
   "source": [
    "the following output information should be updated to sodb_20220921.xlsx"
   ]
  },
  {
   "cell_type": "code",
   "execution_count": 20,
   "metadata": {},
   "outputs": [
    {
     "name": "stdout",
     "output_type": "stream",
     "text": [
      "Figure10_TMApanels_TMA15n\n",
      "Figure10_TMApanels_TMA23n\n",
      "Figure10_TMApanels_TMA10n\n",
      "Figure10_TMApanels_TMA35n\n",
      "Figure10_TMApanels_TMA18n\n",
      "Figure10_TMApanels_TMA00n\n",
      "Figure10_TMApanels_TMA37n\n",
      "Figure10_TMApanels_TMA36n\n",
      "Figure10_TMApanels_TMA19n\n",
      "Figure10_TMApanels_TMA09n\n",
      "Figure10_TMApanels_TMA32n\n",
      "Figure10_TMApanels_TMA24n\n",
      "Figure10_TMApanels_TMA26n\n",
      "Figure10_TMApanels_TMA06n\n",
      "Figure10_TMApanels_TMA20n\n",
      "Figure10_TMApanels_TMA01n\n",
      "Figure10_TMApanels_TMA11n\n",
      "Figure10_TMApanels_TMA14n\n",
      "Figure10_TMApanels_TMA31n\n",
      "Figure10_TMApanels_TMA16n\n",
      "Figure10_TMApanels_TMA13n\n",
      "Figure10_TMApanels_TMA38n\n",
      "Figure10_TMApanels_TMA05n\n",
      "Figure10_TMApanels_TMA25n\n",
      "Figure10_TMApanels_TMA03n\n",
      "Figure10_TMApanels_TMA28n\n",
      "Figure10_TMApanels_TMA17n\n",
      "Figure10_TMApanels_TMA08n\n",
      "Figure10_TMApanels_TMA30n\n",
      "Figure10_TMApanels_TMA34n\n",
      "Figure10_TMApanels_TMA27n\n",
      "Figure10_TMApanels_TMA04n\n",
      "Figure10_TMApanels_TMA02n\n",
      "Figure10_TMApanels_TMA22n\n",
      "Figure10_TMApanels_TMA21n\n",
      "Figure10_TMApanels_TMA12n\n",
      "Figure10_TMApanels_TMA29n\n",
      "Figure10_TMApanels_TMA33n\n",
      "Figure10_TMApanels_TMA07n\n",
      "Figure1112_GBM\n",
      "Figure56_tonsilswappingdataTONSILA\n",
      "Figure56_tonsilswappingdataTONSILB\n",
      "Figure78_PDAC_rawdata_Figure78_PDAC\n",
      "Figure9_RCC_rawdata_Figure9_RCC\n"
     ]
    }
   ],
   "source": [
    "print_list_list(out_dataname_list_list)"
   ]
  },
  {
   "cell_type": "code",
   "execution_count": 21,
   "metadata": {},
   "outputs": [
    {
     "name": "stdout",
     "output_type": "stream",
     "text": [
      "12\n",
      "12\n",
      "12\n",
      "12\n",
      "12\n",
      "12\n",
      "12\n",
      "12\n",
      "12\n",
      "12\n",
      "12\n",
      "12\n",
      "12\n",
      "12\n",
      "12\n",
      "12\n",
      "12\n",
      "12\n",
      "12\n",
      "12\n",
      "12\n",
      "12\n",
      "12\n",
      "12\n",
      "12\n",
      "12\n",
      "12\n",
      "12\n",
      "12\n",
      "12\n",
      "12\n",
      "12\n",
      "12\n",
      "12\n",
      "12\n",
      "12\n",
      "12\n",
      "12\n",
      "12\n",
      "12\n",
      "12\n",
      "12\n",
      "12\n",
      "12\n"
     ]
    }
   ],
   "source": [
    "print_list_list(biotech_id_list)"
   ]
  },
  {
   "cell_type": "code",
   "execution_count": 30,
   "metadata": {},
   "outputs": [
    {
     "name": "stdout",
     "output_type": "stream",
     "text": [
      "123\n",
      "123\n",
      "123\n",
      "123\n",
      "123\n",
      "123\n",
      "123\n",
      "123\n",
      "123\n",
      "123\n",
      "123\n",
      "123\n",
      "123\n",
      "123\n",
      "123\n",
      "123\n",
      "123\n",
      "123\n",
      "123\n",
      "123\n",
      "123\n",
      "123\n",
      "123\n",
      "123\n",
      "123\n",
      "123\n",
      "123\n",
      "123\n",
      "123\n",
      "123\n",
      "123\n",
      "123\n",
      "123\n",
      "123\n",
      "123\n",
      "123\n",
      "123\n",
      "123\n",
      "123\n",
      "124\n",
      "125\n",
      "125\n",
      "126\n",
      "127\n"
     ]
    }
   ],
   "source": [
    "print_list_list(dataset_id_list)"
   ]
  },
  {
   "cell_type": "code",
   "execution_count": 23,
   "metadata": {},
   "outputs": [
    {
     "name": "stdout",
     "output_type": "stream",
     "text": [
      "demo_data/Spatial_Proteomics/t-CyCIF/Figure10_TMApanels/Figure10_TMApanels_TMA15n/data.h5ad\n",
      "demo_data/Spatial_Proteomics/t-CyCIF/Figure10_TMApanels/Figure10_TMApanels_TMA23n/data.h5ad\n",
      "demo_data/Spatial_Proteomics/t-CyCIF/Figure10_TMApanels/Figure10_TMApanels_TMA10n/data.h5ad\n",
      "demo_data/Spatial_Proteomics/t-CyCIF/Figure10_TMApanels/Figure10_TMApanels_TMA35n/data.h5ad\n",
      "demo_data/Spatial_Proteomics/t-CyCIF/Figure10_TMApanels/Figure10_TMApanels_TMA18n/data.h5ad\n",
      "demo_data/Spatial_Proteomics/t-CyCIF/Figure10_TMApanels/Figure10_TMApanels_TMA00n/data.h5ad\n",
      "demo_data/Spatial_Proteomics/t-CyCIF/Figure10_TMApanels/Figure10_TMApanels_TMA37n/data.h5ad\n",
      "demo_data/Spatial_Proteomics/t-CyCIF/Figure10_TMApanels/Figure10_TMApanels_TMA36n/data.h5ad\n",
      "demo_data/Spatial_Proteomics/t-CyCIF/Figure10_TMApanels/Figure10_TMApanels_TMA19n/data.h5ad\n",
      "demo_data/Spatial_Proteomics/t-CyCIF/Figure10_TMApanels/Figure10_TMApanels_TMA09n/data.h5ad\n",
      "demo_data/Spatial_Proteomics/t-CyCIF/Figure10_TMApanels/Figure10_TMApanels_TMA32n/data.h5ad\n",
      "demo_data/Spatial_Proteomics/t-CyCIF/Figure10_TMApanels/Figure10_TMApanels_TMA24n/data.h5ad\n",
      "demo_data/Spatial_Proteomics/t-CyCIF/Figure10_TMApanels/Figure10_TMApanels_TMA26n/data.h5ad\n",
      "demo_data/Spatial_Proteomics/t-CyCIF/Figure10_TMApanels/Figure10_TMApanels_TMA06n/data.h5ad\n",
      "demo_data/Spatial_Proteomics/t-CyCIF/Figure10_TMApanels/Figure10_TMApanels_TMA20n/data.h5ad\n",
      "demo_data/Spatial_Proteomics/t-CyCIF/Figure10_TMApanels/Figure10_TMApanels_TMA01n/data.h5ad\n",
      "demo_data/Spatial_Proteomics/t-CyCIF/Figure10_TMApanels/Figure10_TMApanels_TMA11n/data.h5ad\n",
      "demo_data/Spatial_Proteomics/t-CyCIF/Figure10_TMApanels/Figure10_TMApanels_TMA14n/data.h5ad\n",
      "demo_data/Spatial_Proteomics/t-CyCIF/Figure10_TMApanels/Figure10_TMApanels_TMA31n/data.h5ad\n",
      "demo_data/Spatial_Proteomics/t-CyCIF/Figure10_TMApanels/Figure10_TMApanels_TMA16n/data.h5ad\n",
      "demo_data/Spatial_Proteomics/t-CyCIF/Figure10_TMApanels/Figure10_TMApanels_TMA13n/data.h5ad\n",
      "demo_data/Spatial_Proteomics/t-CyCIF/Figure10_TMApanels/Figure10_TMApanels_TMA38n/data.h5ad\n",
      "demo_data/Spatial_Proteomics/t-CyCIF/Figure10_TMApanels/Figure10_TMApanels_TMA05n/data.h5ad\n",
      "demo_data/Spatial_Proteomics/t-CyCIF/Figure10_TMApanels/Figure10_TMApanels_TMA25n/data.h5ad\n",
      "demo_data/Spatial_Proteomics/t-CyCIF/Figure10_TMApanels/Figure10_TMApanels_TMA03n/data.h5ad\n",
      "demo_data/Spatial_Proteomics/t-CyCIF/Figure10_TMApanels/Figure10_TMApanels_TMA28n/data.h5ad\n",
      "demo_data/Spatial_Proteomics/t-CyCIF/Figure10_TMApanels/Figure10_TMApanels_TMA17n/data.h5ad\n",
      "demo_data/Spatial_Proteomics/t-CyCIF/Figure10_TMApanels/Figure10_TMApanels_TMA08n/data.h5ad\n",
      "demo_data/Spatial_Proteomics/t-CyCIF/Figure10_TMApanels/Figure10_TMApanels_TMA30n/data.h5ad\n",
      "demo_data/Spatial_Proteomics/t-CyCIF/Figure10_TMApanels/Figure10_TMApanels_TMA34n/data.h5ad\n",
      "demo_data/Spatial_Proteomics/t-CyCIF/Figure10_TMApanels/Figure10_TMApanels_TMA27n/data.h5ad\n",
      "demo_data/Spatial_Proteomics/t-CyCIF/Figure10_TMApanels/Figure10_TMApanels_TMA04n/data.h5ad\n",
      "demo_data/Spatial_Proteomics/t-CyCIF/Figure10_TMApanels/Figure10_TMApanels_TMA02n/data.h5ad\n",
      "demo_data/Spatial_Proteomics/t-CyCIF/Figure10_TMApanels/Figure10_TMApanels_TMA22n/data.h5ad\n",
      "demo_data/Spatial_Proteomics/t-CyCIF/Figure10_TMApanels/Figure10_TMApanels_TMA21n/data.h5ad\n",
      "demo_data/Spatial_Proteomics/t-CyCIF/Figure10_TMApanels/Figure10_TMApanels_TMA12n/data.h5ad\n",
      "demo_data/Spatial_Proteomics/t-CyCIF/Figure10_TMApanels/Figure10_TMApanels_TMA29n/data.h5ad\n",
      "demo_data/Spatial_Proteomics/t-CyCIF/Figure10_TMApanels/Figure10_TMApanels_TMA33n/data.h5ad\n",
      "demo_data/Spatial_Proteomics/t-CyCIF/Figure10_TMApanels/Figure10_TMApanels_TMA07n/data.h5ad\n",
      "demo_data/Spatial_Proteomics/t-CyCIF/Figure1112_GBM/Figure1112_GBM/data.h5ad\n",
      "demo_data/Spatial_Proteomics/t-CyCIF/Figure56_tonsils/Figure56_tonsilswappingdataTONSILA/data.h5ad\n",
      "demo_data/Spatial_Proteomics/t-CyCIF/Figure56_tonsils/Figure56_tonsilswappingdataTONSILB/data.h5ad\n",
      "demo_data/Spatial_Proteomics/t-CyCIF/Figure78_PDAC/Figure78_PDAC_rawdata_Figure78_PDAC/data.h5ad\n",
      "demo_data/Spatial_Proteomics/t-CyCIF/Figure9_RCC/Figure9_RCC_rawdata_Figure9_RCC/data.h5ad\n"
     ]
    }
   ],
   "source": [
    "print_list_list(out_h5ad_path_list_list)"
   ]
  },
  {
   "cell_type": "code",
   "execution_count": 24,
   "metadata": {},
   "outputs": [
    {
     "name": "stdout",
     "output_type": "stream",
     "text": [
      "demo_data/Spatial_Proteomics/t-CyCIF/Figure10_TMApanels/Figure10_TMApanels_TMA15n/feature_dict.pickle\n",
      "demo_data/Spatial_Proteomics/t-CyCIF/Figure10_TMApanels/Figure10_TMApanels_TMA23n/feature_dict.pickle\n",
      "demo_data/Spatial_Proteomics/t-CyCIF/Figure10_TMApanels/Figure10_TMApanels_TMA10n/feature_dict.pickle\n",
      "demo_data/Spatial_Proteomics/t-CyCIF/Figure10_TMApanels/Figure10_TMApanels_TMA35n/feature_dict.pickle\n",
      "demo_data/Spatial_Proteomics/t-CyCIF/Figure10_TMApanels/Figure10_TMApanels_TMA18n/feature_dict.pickle\n",
      "demo_data/Spatial_Proteomics/t-CyCIF/Figure10_TMApanels/Figure10_TMApanels_TMA00n/feature_dict.pickle\n",
      "demo_data/Spatial_Proteomics/t-CyCIF/Figure10_TMApanels/Figure10_TMApanels_TMA37n/feature_dict.pickle\n",
      "demo_data/Spatial_Proteomics/t-CyCIF/Figure10_TMApanels/Figure10_TMApanels_TMA36n/feature_dict.pickle\n",
      "demo_data/Spatial_Proteomics/t-CyCIF/Figure10_TMApanels/Figure10_TMApanels_TMA19n/feature_dict.pickle\n",
      "demo_data/Spatial_Proteomics/t-CyCIF/Figure10_TMApanels/Figure10_TMApanels_TMA09n/feature_dict.pickle\n",
      "demo_data/Spatial_Proteomics/t-CyCIF/Figure10_TMApanels/Figure10_TMApanels_TMA32n/feature_dict.pickle\n",
      "demo_data/Spatial_Proteomics/t-CyCIF/Figure10_TMApanels/Figure10_TMApanels_TMA24n/feature_dict.pickle\n",
      "demo_data/Spatial_Proteomics/t-CyCIF/Figure10_TMApanels/Figure10_TMApanels_TMA26n/feature_dict.pickle\n",
      "demo_data/Spatial_Proteomics/t-CyCIF/Figure10_TMApanels/Figure10_TMApanels_TMA06n/feature_dict.pickle\n",
      "demo_data/Spatial_Proteomics/t-CyCIF/Figure10_TMApanels/Figure10_TMApanels_TMA20n/feature_dict.pickle\n",
      "demo_data/Spatial_Proteomics/t-CyCIF/Figure10_TMApanels/Figure10_TMApanels_TMA01n/feature_dict.pickle\n",
      "demo_data/Spatial_Proteomics/t-CyCIF/Figure10_TMApanels/Figure10_TMApanels_TMA11n/feature_dict.pickle\n",
      "demo_data/Spatial_Proteomics/t-CyCIF/Figure10_TMApanels/Figure10_TMApanels_TMA14n/feature_dict.pickle\n",
      "demo_data/Spatial_Proteomics/t-CyCIF/Figure10_TMApanels/Figure10_TMApanels_TMA31n/feature_dict.pickle\n",
      "demo_data/Spatial_Proteomics/t-CyCIF/Figure10_TMApanels/Figure10_TMApanels_TMA16n/feature_dict.pickle\n",
      "demo_data/Spatial_Proteomics/t-CyCIF/Figure10_TMApanels/Figure10_TMApanels_TMA13n/feature_dict.pickle\n",
      "demo_data/Spatial_Proteomics/t-CyCIF/Figure10_TMApanels/Figure10_TMApanels_TMA38n/feature_dict.pickle\n",
      "demo_data/Spatial_Proteomics/t-CyCIF/Figure10_TMApanels/Figure10_TMApanels_TMA05n/feature_dict.pickle\n",
      "demo_data/Spatial_Proteomics/t-CyCIF/Figure10_TMApanels/Figure10_TMApanels_TMA25n/feature_dict.pickle\n",
      "demo_data/Spatial_Proteomics/t-CyCIF/Figure10_TMApanels/Figure10_TMApanels_TMA03n/feature_dict.pickle\n",
      "demo_data/Spatial_Proteomics/t-CyCIF/Figure10_TMApanels/Figure10_TMApanels_TMA28n/feature_dict.pickle\n",
      "demo_data/Spatial_Proteomics/t-CyCIF/Figure10_TMApanels/Figure10_TMApanels_TMA17n/feature_dict.pickle\n",
      "demo_data/Spatial_Proteomics/t-CyCIF/Figure10_TMApanels/Figure10_TMApanels_TMA08n/feature_dict.pickle\n",
      "demo_data/Spatial_Proteomics/t-CyCIF/Figure10_TMApanels/Figure10_TMApanels_TMA30n/feature_dict.pickle\n",
      "demo_data/Spatial_Proteomics/t-CyCIF/Figure10_TMApanels/Figure10_TMApanels_TMA34n/feature_dict.pickle\n",
      "demo_data/Spatial_Proteomics/t-CyCIF/Figure10_TMApanels/Figure10_TMApanels_TMA27n/feature_dict.pickle\n",
      "demo_data/Spatial_Proteomics/t-CyCIF/Figure10_TMApanels/Figure10_TMApanels_TMA04n/feature_dict.pickle\n",
      "demo_data/Spatial_Proteomics/t-CyCIF/Figure10_TMApanels/Figure10_TMApanels_TMA02n/feature_dict.pickle\n",
      "demo_data/Spatial_Proteomics/t-CyCIF/Figure10_TMApanels/Figure10_TMApanels_TMA22n/feature_dict.pickle\n",
      "demo_data/Spatial_Proteomics/t-CyCIF/Figure10_TMApanels/Figure10_TMApanels_TMA21n/feature_dict.pickle\n",
      "demo_data/Spatial_Proteomics/t-CyCIF/Figure10_TMApanels/Figure10_TMApanels_TMA12n/feature_dict.pickle\n",
      "demo_data/Spatial_Proteomics/t-CyCIF/Figure10_TMApanels/Figure10_TMApanels_TMA29n/feature_dict.pickle\n",
      "demo_data/Spatial_Proteomics/t-CyCIF/Figure10_TMApanels/Figure10_TMApanels_TMA33n/feature_dict.pickle\n",
      "demo_data/Spatial_Proteomics/t-CyCIF/Figure10_TMApanels/Figure10_TMApanels_TMA07n/feature_dict.pickle\n",
      "demo_data/Spatial_Proteomics/t-CyCIF/Figure1112_GBM/Figure1112_GBM/feature_dict.pickle\n",
      "demo_data/Spatial_Proteomics/t-CyCIF/Figure56_tonsils/Figure56_tonsilswappingdataTONSILA/feature_dict.pickle\n",
      "demo_data/Spatial_Proteomics/t-CyCIF/Figure56_tonsils/Figure56_tonsilswappingdataTONSILB/feature_dict.pickle\n",
      "demo_data/Spatial_Proteomics/t-CyCIF/Figure78_PDAC/Figure78_PDAC_rawdata_Figure78_PDAC/feature_dict.pickle\n",
      "demo_data/Spatial_Proteomics/t-CyCIF/Figure9_RCC/Figure9_RCC_rawdata_Figure9_RCC/feature_dict.pickle\n"
     ]
    }
   ],
   "source": [
    "print_list_list(out_feature_dict_list_list)"
   ]
  },
  {
   "cell_type": "code",
   "execution_count": 25,
   "metadata": {},
   "outputs": [
    {
     "name": "stdout",
     "output_type": "stream",
     "text": [
      "Human\n",
      "Human\n",
      "Human\n",
      "Human\n",
      "Human\n",
      "Human\n",
      "Human\n",
      "Human\n",
      "Human\n",
      "Human\n",
      "Human\n",
      "Human\n",
      "Human\n",
      "Human\n",
      "Human\n",
      "Human\n",
      "Human\n",
      "Human\n",
      "Human\n",
      "Human\n",
      "Human\n",
      "Human\n",
      "Human\n",
      "Human\n",
      "Human\n",
      "Human\n",
      "Human\n",
      "Human\n",
      "Human\n",
      "Human\n",
      "Human\n",
      "Human\n",
      "Human\n",
      "Human\n",
      "Human\n",
      "Human\n",
      "Human\n",
      "Human\n",
      "Human\n",
      "Human\n",
      "Human\n",
      "Human\n",
      "Human\n",
      "Human\n"
     ]
    }
   ],
   "source": [
    "print_list_list(species_list)"
   ]
  },
  {
   "cell_type": "code",
   "execution_count": 26,
   "metadata": {},
   "outputs": [
    {
     "name": "stdout",
     "output_type": "stream",
     "text": [
      "TMA\n",
      "TMA\n",
      "TMA\n",
      "TMA\n",
      "TMA\n",
      "TMA\n",
      "TMA\n",
      "TMA\n",
      "TMA\n",
      "TMA\n",
      "TMA\n",
      "TMA\n",
      "TMA\n",
      "TMA\n",
      "TMA\n",
      "TMA\n",
      "TMA\n",
      "TMA\n",
      "TMA\n",
      "TMA\n",
      "TMA\n",
      "TMA\n",
      "TMA\n",
      "TMA\n",
      "TMA\n",
      "TMA\n",
      "TMA\n",
      "TMA\n",
      "TMA\n",
      "TMA\n",
      "TMA\n",
      "TMA\n",
      "TMA\n",
      "TMA\n",
      "TMA\n",
      "TMA\n",
      "TMA\n",
      "TMA\n",
      "TMA\n",
      "glioblastoma multiforme\n",
      "tonsil\n",
      "tonsil\n",
      "PDAC\n",
      "RCC\n"
     ]
    }
   ],
   "source": [
    "print_list_list(tissue_list)"
   ]
  },
  {
   "cell_type": "code",
   "execution_count": 27,
   "metadata": {},
   "outputs": [
    {
     "name": "stdout",
     "output_type": "stream",
     "text": [
      "2032\n",
      "5449\n",
      "4866\n",
      "3373\n",
      "1310\n",
      "1985\n",
      "1985\n",
      "1732\n",
      "7590\n",
      "2880\n",
      "4369\n",
      "3831\n",
      "7075\n",
      "1090\n",
      "6895\n",
      "6137\n",
      "8157\n",
      "2875\n",
      "1113\n",
      "6149\n",
      "4816\n",
      "7330\n",
      "2430\n",
      "3758\n",
      "1118\n",
      "8381\n",
      "8871\n",
      "8338\n",
      "1420\n",
      "6701\n",
      "9199\n",
      "1192\n",
      "4124\n",
      "6195\n",
      "10944\n",
      "5486\n",
      "3748\n",
      "1045\n",
      "3569\n",
      "349064\n",
      "185703\n",
      "186164\n",
      "158159\n",
      "13185\n"
     ]
    }
   ],
   "source": [
    "print_list_list(N_Unit_list_list)"
   ]
  },
  {
   "cell_type": "code",
   "execution_count": 28,
   "metadata": {},
   "outputs": [
    {
     "name": "stdout",
     "output_type": "stream",
     "text": [
      "24\n",
      "24\n",
      "24\n",
      "24\n",
      "24\n",
      "24\n",
      "24\n",
      "24\n",
      "24\n",
      "24\n",
      "24\n",
      "24\n",
      "24\n",
      "24\n",
      "24\n",
      "24\n",
      "24\n",
      "24\n",
      "24\n",
      "24\n",
      "24\n",
      "24\n",
      "24\n",
      "24\n",
      "24\n",
      "24\n",
      "24\n",
      "24\n",
      "24\n",
      "24\n",
      "24\n",
      "24\n",
      "24\n",
      "24\n",
      "24\n",
      "24\n",
      "24\n",
      "24\n",
      "24\n",
      "30\n",
      "48\n",
      "48\n",
      "24\n",
      "39\n"
     ]
    }
   ],
   "source": [
    "print_list_list(N_Gene_list_list)"
   ]
  },
  {
   "cell_type": "code",
   "execution_count": null,
   "metadata": {},
   "outputs": [],
   "source": []
  }
 ],
 "metadata": {
  "kernelspec": {
   "display_name": "SODB",
   "language": "python",
   "name": "sodb"
  },
  "language_info": {
   "codemirror_mode": {
    "name": "ipython",
    "version": 3
   },
   "file_extension": ".py",
   "mimetype": "text/x-python",
   "name": "python",
   "nbconvert_exporter": "python",
   "pygments_lexer": "ipython3",
   "version": "3.9.12"
  }
 },
 "nbformat": 4,
 "nbformat_minor": 5
}
