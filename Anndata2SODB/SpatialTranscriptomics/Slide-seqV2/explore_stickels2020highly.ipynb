{
 "cells": [
  {
   "cell_type": "markdown",
   "metadata": {},
   "source": [
    "# bulk running"
   ]
  },
  {
   "cell_type": "code",
   "execution_count": null,
   "metadata": {},
   "outputs": [],
   "source": [
    "from soview import *\n",
    "import shutil\n",
    "import os"
   ]
  },
  {
   "cell_type": "code",
   "execution_count": null,
   "metadata": {},
   "outputs": [],
   "source": [
    "import gc"
   ]
  },
  {
   "cell_type": "code",
   "execution_count": null,
   "metadata": {},
   "outputs": [],
   "source": [
    "gc.collect()"
   ]
  },
  {
   "cell_type": "code",
   "execution_count": null,
   "metadata": {},
   "outputs": [],
   "source": [
    "ad.__version__"
   ]
  },
  {
   "cell_type": "code",
   "execution_count": null,
   "metadata": {
    "tags": []
   },
   "outputs": [],
   "source": [
    "from soview import *\n",
    "import shutil\n",
    "import os\n",
    "\n",
    "root_path = 'zhiyuanyuan/projects/SODB/'\n",
    "source_h5ad_path = 'zhiyuanyuan/PUBDT/st/slideseqV2/original'\n",
    "biotech_category = 'Spatial_Transcriptomics'\n",
    "biotech = 'Slide-seqV2'\n",
    "dataset_short = 'stickels2020highly'\n",
    "\n",
    "h5ad_list = os.listdir(source_h5ad_path)\n",
    "out_dataname_list = []\n",
    "out_h5ad_path_list = []\n",
    "out_feature_dict_list = []\n",
    "N_Unit_list = []\n",
    "N_Gene_list = []\n",
    "for hl in h5ad_list:\n",
    "    if not hl.endswith('.h5ad'):\n",
    "        continue\n",
    "    \n",
    "    source_h5ad_data = hl.split('.')[0]\n",
    "    source_h5ad = f'{source_h5ad_path}/{source_h5ad_data}.h5ad'\n",
    "\n",
    "    data_name = source_h5ad_data\n",
    "    \n",
    "    import os\n",
    "\n",
    "    path_rel = f'demo_data/{biotech_category}/{biotech}/{dataset_short}/{data_name}'\n",
    "    path_abs = root_path+path_rel\n",
    "    os.makedirs(path_abs, exist_ok=False)\n",
    "    print(\"The new directory is created!\")\n",
    "    shutil.copyfile(source_h5ad, f'{path_abs}/data.h5ad')\n",
    "    \n",
    "    \n",
    "    data_use = path_rel\n",
    "    adata = ad.read_h5ad(f'{root_path}{data_use}/data.h5ad')\n",
    "    adata.obsm['spatial'] = np.array(adata.obsm['spatial'])\n",
    "    print(f'h5ad path: {data_use}/data.h5ad')\n",
    "    \n",
    "    adata.layers[\"counts\"] = adata.X.copy()\n",
    "    \n",
    "    sc.pp.normalize_total(adata, inplace=True)\n",
    "    sc.pp.log1p(adata)\n",
    "    if adata.shape[1]>=2000:\n",
    "        sc.pp.highly_variable_genes(adata, flavor=\"seurat\", n_top_genes=2000)\n",
    "    else:\n",
    "        pass\n",
    "    \n",
    "\n",
    "    sc.pp.pca(adata)\n",
    "    sc.pp.neighbors(adata)\n",
    "    sc.tl.leiden(adata)\n",
    "    \n",
    "    sc.pl.embedding(adata,basis='spatial',color='leiden')\n",
    "    sc.tl.umap(adata,n_components=3)\n",
    "    SOViewer_plot(adata,embedding_use='X_umap',dot_size=10)\n",
    "    print(f'View path: {data_use}/View_UMAP_LAB.pdf')\n",
    "    \n",
    "    gene_list = np.array(adata.var_names).tolist()\n",
    "    obs_list = np.array(adata.obs.keys()).tolist()\n",
    "    obsm_list = []\n",
    "    for obsm in np.array(adata.obsm.keys()).tolist():\n",
    "        for i in range(adata.obsm[obsm].shape[1]):\n",
    "            cur_obsm = f'{obsm}@{i}'\n",
    "            obsm_list.append(cur_obsm)\n",
    "            \n",
    "    feature_dict = {\n",
    "        'gene':gene_list,\n",
    "        'obs':obs_list,\n",
    "        'obsm':obsm_list\n",
    "    }\n",
    "    \n",
    "    import pickle\n",
    "    with open(f'{root_path}{data_use}/feature_dict.pickle', 'wb') as handle:\n",
    "        pickle.dump(feature_dict, handle, protocol=pickle.HIGHEST_PROTOCOL)\n",
    "\n",
    "    print(f'把feature_dict写为: {data_use}/feature_dict.pickle')\n",
    "    \n",
    "    adata.write_h5ad(f'{root_path}{data_use}/data.h5ad')\n",
    "    out_dataname_list.append(source_h5ad_data)\n",
    "    out_h5ad_path_list.append(f'{data_use}/data.h5ad')\n",
    "    out_feature_dict_list.append(f'{data_use}/feature_dict.pickle')\n",
    "    N_Unit_list.append(adata.shape[0])\n",
    "    N_Gene_list.append(adata.shape[1])\n",
    "    \n",
    "    print(source_h5ad_data)\n",
    "    print(f'h5ad path: {data_use}/data.h5ad')\n",
    "    print(f'把feature_dict写为: {data_use}/feature_dict.pickle')\n",
    "    print(f'N_Unit: {adata.shape[0]}')\n",
    "    print(f'N_Gene: {adata.shape[1]}')\n",
    "    del adata\n",
    "    gc.collect()"
   ]
  },
  {
   "cell_type": "code",
   "execution_count": null,
   "metadata": {},
   "outputs": [],
   "source": [
    "a = sc.read_h5ad('/aaa/jianhuayao/project2/zhiyuanyuan/PUBDT/st/slideseqV2/original/palla2021squidpy_Slide-seqV2_Mouse_Cortex.h5ad')"
   ]
  },
  {
   "cell_type": "code",
   "execution_count": null,
   "metadata": {},
   "outputs": [],
   "source": [
    "a"
   ]
  },
  {
   "cell_type": "code",
   "execution_count": null,
   "metadata": {},
   "outputs": [],
   "source": [
    "adata = sq.datasets.slideseqv2()"
   ]
  },
  {
   "cell_type": "code",
   "execution_count": null,
   "metadata": {},
   "outputs": [],
   "source": [
    "adata.write_h5ad('/aaa/jianhuayao/project2/zhiyuanyuan/PUBDT/st/slideseqV2/original/palla2021squidpy_Slide-seqV2_Mouse_Cortex.h5ad')"
   ]
  },
  {
   "cell_type": "code",
   "execution_count": null,
   "metadata": {},
   "outputs": [],
   "source": [
    "sc.pl.spatial(a, color=\"cluster\", spot_size=30)"
   ]
  },
  {
   "cell_type": "code",
   "execution_count": null,
   "metadata": {},
   "outputs": [],
   "source": [
    "np.array(out_dataname_list).dump(f'{dataset_short}_out_dataname_list.npy')\n",
    "np.array(out_h5ad_path_list).dump(f'{dataset_short}_out_h5ad_path_list.npy')\n",
    "np.array(out_feature_dict_list).dump(f'{dataset_short}_out_feature_dict_list.npy')\n",
    "np.array(N_Unit_list).dump(f'{dataset_short}_N_Unit_list.npy')\n",
    "np.array(N_Gene_list).dump(f'{dataset_short}_N_Gene_list.npy')"
   ]
  },
  {
   "cell_type": "code",
   "execution_count": null,
   "metadata": {},
   "outputs": [],
   "source": [
    "1+1"
   ]
  },
  {
   "cell_type": "code",
   "execution_count": null,
   "metadata": {},
   "outputs": [],
   "source": [
    "for i in out_dataname_list:\n",
    "    print(i)"
   ]
  },
  {
   "cell_type": "code",
   "execution_count": null,
   "metadata": {},
   "outputs": [],
   "source": [
    "for i in out_h5ad_path_list:\n",
    "    print(i)"
   ]
  },
  {
   "cell_type": "code",
   "execution_count": null,
   "metadata": {},
   "outputs": [],
   "source": [
    "for i in out_feature_dict_list:\n",
    "    print(i)"
   ]
  },
  {
   "cell_type": "code",
   "execution_count": null,
   "metadata": {},
   "outputs": [],
   "source": [
    "for i in N_Unit_list:\n",
    "    print(i)"
   ]
  },
  {
   "cell_type": "code",
   "execution_count": null,
   "metadata": {},
   "outputs": [],
   "source": [
    "for i in N_Gene_list:\n",
    "    print(i)"
   ]
  },
  {
   "cell_type": "markdown",
   "metadata": {},
   "source": [
    "### 设定SODB的root目录"
   ]
  },
  {
   "cell_type": "code",
   "execution_count": null,
   "metadata": {},
   "outputs": [],
   "source": [
    "root_path = '/aaa/jianhuayao/project2/zhiyuanyuan/projects/SODB/'"
   ]
  },
  {
   "cell_type": "markdown",
   "metadata": {},
   "source": [
    "### h5ad文件的原始位置"
   ]
  },
  {
   "cell_type": "code",
   "execution_count": null,
   "metadata": {},
   "outputs": [],
   "source": [
    "source_h5ad_path = '/aaa/jianhuayao/project2/zhiyuanyuan/PUBDT/st/dbit-seq/data_h5ad'\n",
    "source_h5ad_data = 'GSM4189615_0719cL_gene'\n",
    "source_h5ad = f'{source_h5ad_path}/{source_h5ad_data}.h5ad'"
   ]
  },
  {
   "cell_type": "markdown",
   "metadata": {},
   "source": [
    "### data info"
   ]
  },
  {
   "cell_type": "code",
   "execution_count": null,
   "metadata": {},
   "outputs": [],
   "source": [
    "biotech_category = 'Spatial_MultiOmics'\n",
    "biotech = 'DBiT-seq'\n",
    "dataset_short = 'liu2020high'\n",
    "data_name = source_h5ad_data\n"
   ]
  },
  {
   "cell_type": "markdown",
   "metadata": {},
   "source": [
    "### mkdir"
   ]
  },
  {
   "cell_type": "code",
   "execution_count": null,
   "metadata": {
    "tags": []
   },
   "outputs": [],
   "source": [
    "import os\n",
    "\n",
    "path_rel = f'demo_data/{biotech_category}/{biotech}/{dataset_short}/{data_name}'\n",
    "path_abs = root_path+path_rel\n",
    "os.makedirs(path_abs, exist_ok=False)\n",
    "print(\"The new directory is created!\")"
   ]
  },
  {
   "cell_type": "code",
   "execution_count": null,
   "metadata": {},
   "outputs": [],
   "source": [
    "path_abs\n"
   ]
  },
  {
   "cell_type": "markdown",
   "metadata": {},
   "source": [
    "### 移动h5ad文件"
   ]
  },
  {
   "cell_type": "code",
   "execution_count": null,
   "metadata": {
    "tags": []
   },
   "outputs": [],
   "source": [
    "shutil.copyfile(source_h5ad, f'{path_abs}/data.h5ad')"
   ]
  },
  {
   "cell_type": "markdown",
   "metadata": {},
   "source": [
    "### 读取数据"
   ]
  },
  {
   "cell_type": "code",
   "execution_count": null,
   "metadata": {},
   "outputs": [],
   "source": [
    "data_use = path_rel\n",
    "adata = ad.read_h5ad(f'{root_path}{data_use}/data.h5ad')"
   ]
  },
  {
   "cell_type": "code",
   "execution_count": null,
   "metadata": {},
   "outputs": [],
   "source": [
    "print(f'h5ad path: {data_use}/data.h5ad')"
   ]
  },
  {
   "cell_type": "code",
   "execution_count": null,
   "metadata": {},
   "outputs": [],
   "source": [
    "adata.layers[\"counts\"] = adata.X.copy()"
   ]
  },
  {
   "cell_type": "markdown",
   "metadata": {},
   "source": [
    "### 基本处理"
   ]
  },
  {
   "cell_type": "code",
   "execution_count": null,
   "metadata": {},
   "outputs": [],
   "source": [
    "adata"
   ]
  },
  {
   "cell_type": "code",
   "execution_count": null,
   "metadata": {},
   "outputs": [],
   "source": [
    "sc.pp.normalize_total(adata, inplace=True)\n",
    "sc.pp.log1p(adata)\n",
    "sc.pp.highly_variable_genes(adata, flavor=\"seurat\", n_top_genes=2000)\n",
    "\n"
   ]
  },
  {
   "cell_type": "code",
   "execution_count": null,
   "metadata": {},
   "outputs": [],
   "source": [
    "sc.pp.pca(adata)\n",
    "sc.pp.neighbors(adata)\n",
    "sc.tl.leiden(adata)"
   ]
  },
  {
   "cell_type": "code",
   "execution_count": null,
   "metadata": {},
   "outputs": [],
   "source": [
    "sc.pl.embedding(adata,basis='spatial',color='leiden')"
   ]
  },
  {
   "cell_type": "code",
   "execution_count": null,
   "metadata": {},
   "outputs": [],
   "source": [
    "adata"
   ]
  },
  {
   "cell_type": "code",
   "execution_count": null,
   "metadata": {},
   "outputs": [],
   "source": [
    "sc.tl.umap(adata,n_components=3)"
   ]
  },
  {
   "cell_type": "code",
   "execution_count": null,
   "metadata": {
    "tags": []
   },
   "outputs": [],
   "source": [
    "SOViewer_plot(adata,embedding_use='X_umap',dot_size=10)\n",
    "print(f'View path: {data_use}/View_UMAP_LAB.pdf')"
   ]
  },
  {
   "cell_type": "markdown",
   "metadata": {},
   "source": [
    "### 把所有feature写入"
   ]
  },
  {
   "cell_type": "code",
   "execution_count": null,
   "metadata": {},
   "outputs": [],
   "source": [
    "gene_list = np.array(adata.var_names).tolist()\n"
   ]
  },
  {
   "cell_type": "code",
   "execution_count": null,
   "metadata": {},
   "outputs": [],
   "source": [
    "obs_list = np.array(adata.obs.keys()).tolist()"
   ]
  },
  {
   "cell_type": "code",
   "execution_count": null,
   "metadata": {},
   "outputs": [],
   "source": [
    "obsm_list = []\n",
    "for obsm in np.array(adata.obsm.keys()).tolist():\n",
    "    for i in range(adata.obsm[obsm].shape[1]):\n",
    "        cur_obsm = f'{obsm}@{i}'\n",
    "        obsm_list.append(cur_obsm)"
   ]
  },
  {
   "cell_type": "code",
   "execution_count": null,
   "metadata": {},
   "outputs": [],
   "source": [
    "feature_dict = {\n",
    "    'gene':gene_list,\n",
    "    'obs':obs_list,\n",
    "    'obsm':obsm_list\n",
    "}"
   ]
  },
  {
   "cell_type": "code",
   "execution_count": null,
   "metadata": {},
   "outputs": [],
   "source": [
    "import pickle\n",
    "with open(f'{root_path}{data_use}/feature_dict.pickle', 'wb') as handle:\n",
    "    pickle.dump(feature_dict, handle, protocol=pickle.HIGHEST_PROTOCOL)\n",
    "    \n",
    "print(f'把feature_dict写为: {data_use}/feature_dict.pickle')"
   ]
  },
  {
   "cell_type": "markdown",
   "metadata": {},
   "source": [
    "### 存起来"
   ]
  },
  {
   "cell_type": "code",
   "execution_count": null,
   "metadata": {},
   "outputs": [],
   "source": [
    "adata.write_h5ad(f'{root_path}{data_use}/data.h5ad')"
   ]
  },
  {
   "cell_type": "markdown",
   "metadata": {},
   "source": [
    "### 输出信息"
   ]
  },
  {
   "cell_type": "code",
   "execution_count": null,
   "metadata": {},
   "outputs": [],
   "source": [
    "print(source_h5ad_data)\n",
    "print(f'h5ad path: {data_use}/data.h5ad')\n",
    "print(f'把feature_dict写为: {data_use}/feature_dict.pickle')\n",
    "print(f'N_Unit: {adata.shape[0]}')\n",
    "print(f'N_Gene: {adata.shape[1]}')"
   ]
  },
  {
   "cell_type": "code",
   "execution_count": null,
   "metadata": {},
   "outputs": [],
   "source": []
  }
 ],
 "metadata": {
  "kernelspec": {
   "display_name": "SOView",
   "language": "python",
   "name": "soview"
  },
  "language_info": {
   "codemirror_mode": {
    "name": "ipython",
    "version": 3
   },
   "file_extension": ".py",
   "mimetype": "text/x-python",
   "name": "python",
   "nbconvert_exporter": "python",
   "pygments_lexer": "ipython3",
   "version": "3.9.7"
  }
 },
 "nbformat": 4,
 "nbformat_minor": 5
}
