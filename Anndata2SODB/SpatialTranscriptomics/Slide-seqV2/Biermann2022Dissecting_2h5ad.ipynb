{
 "cells": [
  {
   "cell_type": "code",
   "execution_count": null,
   "metadata": {},
   "outputs": [],
   "source": [
    "from soview import *\n",
    "import shutil\n",
    "import os\n",
    "import gc\n",
    "from scipy import sparse\n",
    "import pandas as pd"
   ]
  },
  {
   "cell_type": "code",
   "execution_count": null,
   "metadata": {},
   "outputs": [],
   "source": [
    "raw_path = 'zhiyuanyuan/PUBDT/st/slideseqV2/Biermann2022Dissecting/raw'"
   ]
  },
  {
   "cell_type": "code",
   "execution_count": null,
   "metadata": {},
   "outputs": [],
   "source": [
    "os.listdir(raw_path)[0].split('slide_spatial_coordinates.csv')[0][:-1]"
   ]
  },
  {
   "cell_type": "code",
   "execution_count": null,
   "metadata": {},
   "outputs": [],
   "source": [
    "sample_list = []\n",
    "for file in os.listdir(raw_path):\n",
    "    if 'spatial_coordinates' in file:\n",
    "        sample = file.split('_slide_spatial_coordinates.csv')[0]\n",
    "    elif 'raw_counts' in file:\n",
    "        sample = file.split('_slide_raw_counts.csv')[0]\n",
    "    else:\n",
    "        sample = ''\n",
    "    sample_list.append(sample)\n",
    "\n"
   ]
  },
  {
   "cell_type": "code",
   "execution_count": null,
   "metadata": {},
   "outputs": [],
   "source": [
    "sample_list = np.unique(sample_list)"
   ]
  },
  {
   "cell_type": "code",
   "execution_count": null,
   "metadata": {},
   "outputs": [],
   "source": [
    "sample = sample_list[0]\n",
    "count_file = f'{raw_path}/{sample}_slide_raw_counts.csv'\n",
    "spatial_file = f'{raw_path}/{sample}_slide_spatial_coordinates.csv'"
   ]
  },
  {
   "cell_type": "code",
   "execution_count": null,
   "metadata": {},
   "outputs": [],
   "source": [
    "df_count = pd.read_csv(count_file)"
   ]
  },
  {
   "cell_type": "code",
   "execution_count": null,
   "metadata": {},
   "outputs": [],
   "source": [
    "df_spatial = pd.read_csv(spatial_file).set_index('barcode')"
   ]
  },
  {
   "cell_type": "code",
   "execution_count": null,
   "metadata": {},
   "outputs": [],
   "source": [
    "df_count"
   ]
  },
  {
   "cell_type": "code",
   "execution_count": null,
   "metadata": {},
   "outputs": [],
   "source": [
    "X = df_count.va"
   ]
  }
 ],
 "metadata": {
  "kernelspec": {
   "display_name": "SOView",
   "language": "python",
   "name": "soview"
  },
  "language_info": {
   "codemirror_mode": {
    "name": "ipython",
    "version": 3
   },
   "file_extension": ".py",
   "mimetype": "text/x-python",
   "name": "python",
   "nbconvert_exporter": "python",
   "pygments_lexer": "ipython3",
   "version": "3.9.7"
  }
 },
 "nbformat": 4,
 "nbformat_minor": 5
}
