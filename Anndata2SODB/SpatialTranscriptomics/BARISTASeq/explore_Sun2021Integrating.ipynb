{
 "cells": [
  {
   "cell_type": "code",
   "execution_count": null,
   "metadata": {},
   "outputs": [],
   "source": [
    "from SOView import *\n",
    "import shutil\n",
    "import os\n",
    "import gc\n",
    "from scipy import sparse"
   ]
  },
  {
   "cell_type": "code",
   "execution_count": null,
   "metadata": {},
   "outputs": [],
   "source": [
    "dataset_start_id = 132"
   ]
  },
  {
   "cell_type": "code",
   "execution_count": null,
   "metadata": {},
   "outputs": [],
   "source": [
    "dataset_list = ['Sun2021Integrating']"
   ]
  },
  {
   "cell_type": "code",
   "execution_count": null,
   "metadata": {},
   "outputs": [],
   "source": [
    "dataset_species_list = [\n",
    "    'Mouse',\n",
    "\n",
    "\n",
    "\n",
    " \n",
    "    \n",
    "]"
   ]
  },
  {
   "cell_type": "code",
   "execution_count": null,
   "metadata": {},
   "outputs": [],
   "source": [
    "dataset_tissue_list = [\n",
    "    'visual cortex',\n",
    "\n",
    "\n",
    "]"
   ]
  },
  {
   "cell_type": "code",
   "execution_count": null,
   "metadata": {},
   "outputs": [],
   "source": [
    "len(dataset_list)"
   ]
  },
  {
   "cell_type": "code",
   "execution_count": null,
   "metadata": {},
   "outputs": [],
   "source": [
    "ifsparse =False\n",
    "# is the expression matrix sparse?\n",
    "raw_count = True\n",
    "# is the expression matrix presented as raw count?"
   ]
  },
  {
   "cell_type": "code",
   "execution_count": null,
   "metadata": {},
   "outputs": [],
   "source": [
    "\n",
    "\n",
    "def SODB_process(root_path,source_h5ad_path,biotech,biotech_category,dataset_short):\n",
    "    # 多个单词要加下划线\n",
    "\n",
    "    h5ad_list = os.listdir(source_h5ad_path)\n",
    "    out_dataname_list = []\n",
    "    out_h5ad_path_list = []\n",
    "    out_feature_dict_list = []\n",
    "    N_Unit_list = []\n",
    "    N_Gene_list = []\n",
    "    for hl in h5ad_list:\n",
    "        if not hl.endswith('.h5ad'):\n",
    "            continue\n",
    "        # source_h5ad_data = hl.split('.')[0]\n",
    "        source_h5ad_data = hl[0:-5]\n",
    "\n",
    "\n",
    "        source_h5ad = f'{source_h5ad_path}/{source_h5ad_data}.h5ad'\n",
    "        print(source_h5ad)\n",
    "        data_name = source_h5ad_data\n",
    "\n",
    "\n",
    "        path_rel = f'demo_data/{biotech_category}/{biotech}/{dataset_short}/{data_name}'\n",
    "        path_abs = root_path+path_rel\n",
    "        os.makedirs(path_abs, exist_ok=False)\n",
    "        print(\"The new directory is created!\")\n",
    "        shutil.copyfile(source_h5ad, f'{path_abs}/data.h5ad')\n",
    "\n",
    "\n",
    "        data_use = path_rel\n",
    "        adata = ad.read_h5ad(f'{root_path}{data_use}/data.h5ad')\n",
    "        adata.var_names_make_unique()\n",
    "\n",
    "\n",
    "        # print(adata.X)\n",
    "        print(f'h5ad path: {data_use}/data.h5ad')\n",
    "        if 'in_tissue' in adata.obs:\n",
    "            adata = adata[adata.obs['in_tissue']==1]\n",
    "        adata.obsm['spatial'] = np.array(adata.obsm['spatial'])\n",
    "\n",
    "        \n",
    "        \n",
    "        adata.layers[\"counts\"] = adata.X.copy()\n",
    "\n",
    "        # if np.sum(adata.X)==np.sum(adata.X.astype('int')):\n",
    "        if raw_count:\n",
    "            # is all the element in adata.X are integer?\n",
    "\n",
    "            sc.pp.normalize_total(adata, inplace=True)\n",
    "            sc.pp.log1p(adata)\n",
    "        if adata.shape[1]>=2000:\n",
    "            sc.pp.highly_variable_genes(adata, flavor=\"seurat\", n_top_genes=2000)\n",
    "        else:\n",
    "            pass\n",
    "\n",
    "\n",
    "        sc.pp.pca(adata)\n",
    "        sc.pp.neighbors(adata)\n",
    "        sc.tl.leiden(adata)\n",
    "\n",
    "        sc.pl.embedding(adata,basis='spatial',color='leiden')\n",
    "        sc.tl.umap(adata,n_components=3)\n",
    "        SOViewer_plot(adata,embedding_use='X_umap',dot_size=10)\n",
    "        print(f'View path: {data_use}/View_UMAP_LAB.pdf')\n",
    "\n",
    "        gene_list = np.array(adata.var_names).tolist()\n",
    "        obs_list = np.array(adata.obs.keys()).tolist()\n",
    "        obsm_list = []\n",
    "        for obsm in np.array(adata.obsm.keys()).tolist():\n",
    "            for i in range(adata.obsm[obsm].shape[1]):\n",
    "                cur_obsm = f'{obsm}@{i}'\n",
    "                obsm_list.append(cur_obsm)\n",
    "\n",
    "        feature_dict = {\n",
    "            'gene':gene_list,\n",
    "            'obs':obs_list,\n",
    "            'obsm':obsm_list\n",
    "        }\n",
    "\n",
    "        import pickle\n",
    "        with open(f'{root_path}{data_use}/feature_dict.pickle', 'wb') as handle:\n",
    "            pickle.dump(feature_dict, handle, protocol=pickle.HIGHEST_PROTOCOL)\n",
    "\n",
    "        print(f'把feature_dict写为: {data_use}/feature_dict.pickle')\n",
    "        sq.gr.spatial_neighbors(adata, coord_type=\"generic\",n_neighs=10)\n",
    "        sq.gr.spatial_autocorr(adata, mode=\"moran\")\n",
    "        \n",
    "        if ifsparse:\n",
    "            adata.X = sparse.csr_matrix(adata.layers[\"counts\"])\n",
    "        lay_keys = list(adata.layers.keys())\n",
    "        for lay in lay_keys:\n",
    "            del adata.layers[lay]\n",
    "        \n",
    "        adata.write_h5ad(f'{root_path}{data_use}/data.h5ad')\n",
    "        out_dataname_list.append(source_h5ad_data)\n",
    "        out_h5ad_path_list.append(f'{data_use}/data.h5ad')\n",
    "        out_feature_dict_list.append(f'{data_use}/feature_dict.pickle')\n",
    "        N_Unit_list.append(adata.shape[0])\n",
    "        N_Gene_list.append(adata.shape[1])\n",
    "\n",
    "        print(source_h5ad_data)\n",
    "        print(f'h5ad path: {data_use}/data.h5ad')\n",
    "        print(f'把feature_dict写为: {data_use}/feature_dict.pickle')\n",
    "        print(f'N_Unit: {adata.shape[0]}')\n",
    "        print(f'N_Gene: {adata.shape[1]}')\n",
    "        del adata\n",
    "        gc.collect()\n",
    "    return out_dataname_list,out_h5ad_path_list,out_feature_dict_list,N_Unit_list,N_Gene_list"
   ]
  },
  {
   "cell_type": "code",
   "execution_count": null,
   "metadata": {},
   "outputs": [],
   "source": [
    "out_dataname_list_list = []\n",
    "out_h5ad_path_list_list = []\n",
    "out_feature_dict_list_list = []\n",
    "N_Unit_list_list = []\n",
    "N_Gene_list_list = []\n",
    "tissue_list = []\n",
    "species_list = []\n",
    "dataset_id_list = []\n",
    "biotech_id_list = []"
   ]
  },
  {
   "cell_type": "code",
   "execution_count": null,
   "metadata": {
    "tags": []
   },
   "outputs": [],
   "source": [
    "root_path = 'BARISTASeq0928/'\n",
    "source_h5ad_root = 'BARISTASeq'\n",
    "# dataset_short = 'asp2017spatial'\n",
    "\n",
    "biotech = 'BARISTASeq'\n",
    "biotech_category = 'Spatial_Transcriptomics'\n",
    "\n",
    "\n",
    "\n",
    "for i in range(len(dataset_list)):\n",
    "    dataset_short = dataset_list[i]\n",
    "\n",
    "    cur_datasetid = i+dataset_start_id\n",
    "    source_h5ad_path = f'{source_h5ad_root}'\n",
    "    biotech_id = 31\n",
    "\n",
    "\n",
    "\n",
    "    out_dataname_list,out_h5ad_path_list,out_feature_dict_list,N_Unit_list,N_Gene_list = SODB_process(root_path,source_h5ad_path,biotech,biotech_category,dataset_short)\n",
    "    tissue = [dataset_tissue_list[i]]*len(out_dataname_list)\n",
    "    species = [dataset_species_list[i]]*len(out_dataname_list)\n",
    "    # dataset_id_list = [cur_datasetid]\n",
    "    \n",
    "    out_dataname_list_list.append(out_dataname_list)\n",
    "    out_h5ad_path_list_list.append(out_h5ad_path_list)\n",
    "    out_feature_dict_list_list.append(out_feature_dict_list)\n",
    "    N_Unit_list_list.append(N_Unit_list)\n",
    "    N_Gene_list_list.append(N_Gene_list)\n",
    "    tissue_list.append(tissue)\n",
    "    species_list.append(species)\n",
    "\n",
    "    dataset_id_list.append([cur_datasetid]*len(out_dataname_list))\n",
    "    biotech_id_list.append([biotech_id]*len(out_dataname_list))"
   ]
  },
  {
   "cell_type": "code",
   "execution_count": null,
   "metadata": {},
   "outputs": [],
   "source": [
    "1+1"
   ]
  },
  {
   "cell_type": "code",
   "execution_count": null,
   "metadata": {},
   "outputs": [],
   "source": [
    "def print_list_list(ll):\n",
    "    for l in ll:\n",
    "        for i in l:\n",
    "            print(i)"
   ]
  },
  {
   "cell_type": "code",
   "execution_count": null,
   "metadata": {
    "tags": []
   },
   "outputs": [],
   "source": []
  },
  {
   "cell_type": "code",
   "execution_count": null,
   "metadata": {},
   "outputs": [],
   "source": [
    "print_list_list(out_dataname_list_list)"
   ]
  },
  {
   "cell_type": "code",
   "execution_count": null,
   "metadata": {},
   "outputs": [],
   "source": [
    "print_list_list(biotech_id_list)"
   ]
  },
  {
   "cell_type": "code",
   "execution_count": null,
   "metadata": {},
   "outputs": [],
   "source": [
    "print_list_list(dataset_id_list)"
   ]
  },
  {
   "cell_type": "code",
   "execution_count": null,
   "metadata": {},
   "outputs": [],
   "source": [
    "print_list_list(out_h5ad_path_list_list)"
   ]
  },
  {
   "cell_type": "code",
   "execution_count": null,
   "metadata": {},
   "outputs": [],
   "source": [
    "print_list_list(out_feature_dict_list_list)"
   ]
  },
  {
   "cell_type": "code",
   "execution_count": null,
   "metadata": {},
   "outputs": [],
   "source": [
    "print_list_list(species_list)"
   ]
  },
  {
   "cell_type": "code",
   "execution_count": null,
   "metadata": {},
   "outputs": [],
   "source": [
    "print_list_list(tissue_list)"
   ]
  },
  {
   "cell_type": "code",
   "execution_count": null,
   "metadata": {},
   "outputs": [],
   "source": [
    "print_list_list(N_Unit_list_list)"
   ]
  },
  {
   "cell_type": "code",
   "execution_count": null,
   "metadata": {},
   "outputs": [],
   "source": [
    "print_list_list(N_Gene_list_list)"
   ]
  },
  {
   "cell_type": "code",
   "execution_count": null,
   "metadata": {},
   "outputs": [],
   "source": []
  }
 ],
 "metadata": {
  "kernelspec": {
   "display_name": "SODB",
   "language": "python",
   "name": "sodb"
  },
  "language_info": {
   "codemirror_mode": {
    "name": "ipython",
    "version": 3
   },
   "file_extension": ".py",
   "mimetype": "text/x-python",
   "name": "python",
   "nbconvert_exporter": "python",
   "pygments_lexer": "ipython3",
   "version": "3.9.12"
  }
 },
 "nbformat": 4,
 "nbformat_minor": 5
}
