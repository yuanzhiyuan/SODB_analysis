{
 "cells": [
  {
   "cell_type": "code",
   "execution_count": null,
   "metadata": {},
   "outputs": [],
   "source": [
    "from soview import *\n",
    "import pandas as pd"
   ]
  },
  {
   "cell_type": "code",
   "execution_count": null,
   "metadata": {},
   "outputs": [],
   "source": [
    "raw_path = 'zhiyuanyuan/PUBDT/st/merfish/cortex_science/doi_10'\n",
    "h5ad_path = 'zhiyuanyuan/PUBDT/st/merfish/cortex_science/h5ad'"
   ]
  },
  {
   "cell_type": "code",
   "execution_count": null,
   "metadata": {},
   "outputs": [],
   "source": [
    "sample_name = 'H18.06.006.MTG.250.expand.rep1'"
   ]
  },
  {
   "cell_type": "code",
   "execution_count": null,
   "metadata": {},
   "outputs": [],
   "source": [
    "features_file = f'{raw_path}/{sample_name}.features.csv'\n",
    "genes_file = f'{raw_path}/{sample_name}.genes.csv'\n",
    "matrix_file = f'{raw_path}/{sample_name}.matrix.csv'"
   ]
  },
  {
   "cell_type": "code",
   "execution_count": null,
   "metadata": {},
   "outputs": [],
   "source": [
    "features = pd.read_csv(features_file)"
   ]
  },
  {
   "cell_type": "code",
   "execution_count": null,
   "metadata": {},
   "outputs": [],
   "source": [
    "genes = pd.read_csv(genes_file).values[:,0]"
   ]
  },
  {
   "cell_type": "code",
   "execution_count": null,
   "metadata": {},
   "outputs": [],
   "source": [
    "matrix = pd.read_csv(matrix_file)"
   ]
  },
  {
   "cell_type": "code",
   "execution_count": null,
   "metadata": {
    "tags": []
   },
   "outputs": [],
   "source": [
    "mat = np.zeros(shape=(len(features),len(genes)))\n",
    "for i in range(matrix.shape[0]):\n",
    "    gene_idx = matrix.iloc[i]['row']\n",
    "    cell_idx = matrix.iloc[i]['col']\n",
    "    val = matrix.iloc[i]['val']\n",
    "    mat[cell_idx-1][gene_idx-1]+=val\n"
   ]
  },
  {
   "cell_type": "code",
   "execution_count": null,
   "metadata": {},
   "outputs": [],
   "source": [
    "np.array(features['name'])"
   ]
  },
  {
   "cell_type": "code",
   "execution_count": null,
   "metadata": {},
   "outputs": [],
   "source": [
    "features"
   ]
  },
  {
   "cell_type": "code",
   "execution_count": null,
   "metadata": {},
   "outputs": [],
   "source": [
    "adata = ad.AnnData(mat)\n",
    "adata.obs_names = np.array(features['name'])\n",
    "adata.var_names = genes\n",
    "for col in features.columns:\n",
    "    adata.obs[col] = np.array(features[col])\n",
    "adata.obsm['spatial'] = features[['global.x','global.y']].values"
   ]
  },
  {
   "cell_type": "code",
   "execution_count": null,
   "metadata": {},
   "outputs": [],
   "source": [
    "sc.pl.embedding(adata,basis='spatial',color=['cluster_L1','cluster_L2','cluster_L3'])"
   ]
  },
  {
   "cell_type": "code",
   "execution_count": null,
   "metadata": {
    "tags": []
   },
   "outputs": [],
   "source": [
    "sample_name_list = ['H18.06.006.MTG.250.expand.rep1','H18.06.006.MTG.4000.expand.rep1','H18.06.006.MTG.4000.expand.rep2',\n",
    "                   'H18.06.006.MTG.4000.expand.rep3','H19.30.001.STG.250.expand.rep1','H19.30.001.STG.4000.expand.rep1',\n",
    "                    'H19.30.001.STG.4000.expand.rep2','H20.30.001.STG.250.unexpand.rep1','H20.30.001.STG.250.unexpand.rep2',\n",
    "                    'H20.30.001.STG.4000.expand.rep1','H20.30.001.STG.4000.expand.rep2','H20.30.001.STG.4000.expand.rep3',\n",
    "                    'H22.26.401.MTG.250.unexpand.rep1','H22.26.401.MTG.4000.expand.rep1','H22.26.401.MTG.4000.expand.rep2',\n",
    "                    'mouse1.AUD_TEA_VIS.242.unexpand','mouse2.AUD_TEA_VIS.242.unexpand'\n",
    "                   ]\n",
    "for sample_name in sample_name_list:\n",
    "    features_file = f'{raw_path}/{sample_name}.features.csv'\n",
    "    genes_file = f'{raw_path}/{sample_name}.genes.csv'\n",
    "    matrix_file = f'{raw_path}/{sample_name}.matrix.csv'\n",
    "\n",
    "    features = pd.read_csv(features_file)\n",
    "    genes = pd.read_csv(genes_file).values[:,0]\n",
    "    matrix = pd.read_csv(matrix_file)\n",
    "\n",
    "    mat = np.zeros(shape=(len(features),len(genes)))\n",
    "    for i in range(matrix.shape[0]):\n",
    "        gene_idx = matrix.iloc[i]['row']\n",
    "        cell_idx = matrix.iloc[i]['col']\n",
    "        val = matrix.iloc[i]['val']\n",
    "        mat[cell_idx-1][gene_idx-1]+=val\n",
    "\n",
    "    adata = ad.AnnData(mat)\n",
    "    adata.obs_names = np.array(features['name'])\n",
    "    adata.var_names = genes\n",
    "    for col in features.columns:\n",
    "        adata.obs[col] = np.array(features[col])\n",
    "    adata.obsm['spatial'] = features[['global.x','global.y']].values\n",
    "    adata.write_h5ad(f'{h5ad_path}/{sample_name}.h5ad')\n",
    "    sc.pl.embedding(adata,basis='spatial',color=['cluster_L1','cluster_L2','cluster_L3'])"
   ]
  },
  {
   "cell_type": "code",
   "execution_count": null,
   "metadata": {},
   "outputs": [],
   "source": []
  },
  {
   "cell_type": "code",
   "execution_count": null,
   "metadata": {
    "tags": []
   },
   "outputs": [],
   "source": [
    "from soview import *\n",
    "import shutil\n",
    "import os\n",
    "import gc\n",
    "\n",
    "root_path = 'zhiyuanyuan/projects/SODB/'\n",
    "source_h5ad_path = h5ad_path\n",
    "biotech_category = 'Spatial_Transcriptomics'\n",
    "biotech = 'MERFISH'\n",
    "# 多个单词要加下划线\n",
    "dataset_short = 'Fang2022Conservation'\n",
    "\n",
    "h5ad_list = os.listdir(source_h5ad_path)\n",
    "out_dataname_list = []\n",
    "out_h5ad_path_list = []\n",
    "out_feature_dict_list = []\n",
    "N_Unit_list = []\n",
    "N_Gene_list = []\n",
    "for hl in h5ad_list:\n",
    "    if not hl.endswith('.h5ad'):\n",
    "        continue\n",
    "    # source_h5ad_data = hl.split('.')[0]\n",
    "    source_h5ad_data = hl[0:-5]\n",
    "\n",
    "\n",
    "    source_h5ad = f'{source_h5ad_path}/{source_h5ad_data}.h5ad'\n",
    "\n",
    "    data_name = source_h5ad_data\n",
    "    \n",
    "    import os\n",
    "\n",
    "    path_rel = f'demo_data/{biotech_category}/{biotech}/{dataset_short}/{data_name}'\n",
    "    path_abs = root_path+path_rel\n",
    "    os.makedirs(path_abs, exist_ok=False)\n",
    "    print(\"The new directory is created!\")\n",
    "    shutil.copyfile(source_h5ad, f'{path_abs}/data.h5ad')\n",
    "    \n",
    "    \n",
    "    data_use = path_rel\n",
    "    adata = ad.read_h5ad(f'{root_path}{data_use}/data.h5ad')\n",
    "    print(adata.X)\n",
    "    print(f'h5ad path: {data_use}/data.h5ad')\n",
    "    \n",
    "    adata.obsm['spatial'] = np.array(adata.obsm['spatial'][:,[0,1]])\n",
    "    \n",
    "    adata.layers[\"counts\"] = adata.X.copy()\n",
    "    \n",
    "    # if np.sum(adata.X)==np.sum(adata.X.astype('int')):\n",
    "    if True:\n",
    "        # is all the element in adata.X are integer?\n",
    "    \n",
    "        sc.pp.normalize_per_cell(adata)\n",
    "        sc.pp.log1p(adata)\n",
    "    # if adata.shape[1]>=2000:\n",
    "    #     sc.pp.highly_variable_genes(adata, flavor=\"seurat\", n_top_genes=2000)\n",
    "    # else:\n",
    "    #     pass\n",
    "    \n",
    "\n",
    "    sc.pp.pca(adata)\n",
    "    sc.pp.neighbors(adata)\n",
    "    sc.tl.leiden(adata)\n",
    "    \n",
    "    sc.pl.embedding(adata,basis='spatial',color='leiden')\n",
    "    sc.tl.umap(adata,n_components=3)\n",
    "    SOViewer_plot(adata,embedding_use='X_umap',dot_size=10)\n",
    "    print(f'View path: {data_use}/View_UMAP_LAB.pdf')\n",
    "    \n",
    "    gene_list = np.array(adata.var_names).tolist()\n",
    "    obs_list = np.array(adata.obs.keys()).tolist()\n",
    "    obsm_list = []\n",
    "    for obsm in np.array(adata.obsm.keys()).tolist():\n",
    "        for i in range(adata.obsm[obsm].shape[1]):\n",
    "            cur_obsm = f'{obsm}@{i}'\n",
    "            obsm_list.append(cur_obsm)\n",
    "            \n",
    "    feature_dict = {\n",
    "        'gene':gene_list,\n",
    "        'obs':obs_list,\n",
    "        'obsm':obsm_list\n",
    "    }\n",
    "    \n",
    "    import pickle\n",
    "    with open(f'{root_path}{data_use}/feature_dict.pickle', 'wb') as handle:\n",
    "        pickle.dump(feature_dict, handle, protocol=pickle.HIGHEST_PROTOCOL)\n",
    "\n",
    "    print(f'把feature_dict写为: {data_use}/feature_dict.pickle')\n",
    "    \n",
    "    adata.write_h5ad(f'{root_path}{data_use}/data.h5ad')\n",
    "    out_dataname_list.append(source_h5ad_data)\n",
    "    out_h5ad_path_list.append(f'{data_use}/data.h5ad')\n",
    "    out_feature_dict_list.append(f'{data_use}/feature_dict.pickle')\n",
    "    N_Unit_list.append(adata.shape[0])\n",
    "    N_Gene_list.append(adata.shape[1])\n",
    "    \n",
    "    print(source_h5ad_data)\n",
    "    print(f'h5ad path: {data_use}/data.h5ad')\n",
    "    print(f'把feature_dict写为: {data_use}/feature_dict.pickle')\n",
    "    print(f'N_Unit: {adata.shape[0]}')\n",
    "    print(f'N_Gene: {adata.shape[1]}')\n",
    "    del adata\n",
    "    gc.collect()"
   ]
  },
  {
   "cell_type": "code",
   "execution_count": null,
   "metadata": {},
   "outputs": [],
   "source": [
    "np.array(out_dataname_list).dump('out_dataname_list.npy')\n",
    "np.array(out_h5ad_path_list).dump('out_h5ad_path_list.npy')\n",
    "np.array(out_feature_dict_list).dump('out_feature_dict_list.npy')\n",
    "np.array(N_Unit_list).dump('N_Unit_list.npy')\n",
    "np.array(N_Gene_list).dump('N_Gene_list.npy')"
   ]
  },
  {
   "cell_type": "code",
   "execution_count": null,
   "metadata": {},
   "outputs": [],
   "source": [
    "1+1"
   ]
  },
  {
   "cell_type": "code",
   "execution_count": null,
   "metadata": {},
   "outputs": [],
   "source": [
    "for i in out_dataname_list:\n",
    "    print(i)"
   ]
  },
  {
   "cell_type": "code",
   "execution_count": null,
   "metadata": {},
   "outputs": [],
   "source": [
    "for i in out_h5ad_path_list:\n",
    "    print(i)"
   ]
  },
  {
   "cell_type": "code",
   "execution_count": null,
   "metadata": {},
   "outputs": [],
   "source": [
    "for i in out_feature_dict_list:\n",
    "    print(i)"
   ]
  },
  {
   "cell_type": "code",
   "execution_count": null,
   "metadata": {},
   "outputs": [],
   "source": [
    "for i in N_Unit_list:\n",
    "    print(i)"
   ]
  },
  {
   "cell_type": "code",
   "execution_count": null,
   "metadata": {},
   "outputs": [],
   "source": [
    "for i in N_Gene_list:\n",
    "    print(i)"
   ]
  },
  {
   "cell_type": "code",
   "execution_count": null,
   "metadata": {},
   "outputs": [],
   "source": []
  },
  {
   "cell_type": "code",
   "execution_count": null,
   "metadata": {},
   "outputs": [],
   "source": []
  }
 ],
 "metadata": {
  "kernelspec": {
   "display_name": "SOView",
   "language": "python",
   "name": "soview"
  },
  "language_info": {
   "codemirror_mode": {
    "name": "ipython",
    "version": 3
   },
   "file_extension": ".py",
   "mimetype": "text/x-python",
   "name": "python",
   "nbconvert_exporter": "python",
   "pygments_lexer": "ipython3",
   "version": "3.9.7"
  }
 },
 "nbformat": 4,
 "nbformat_minor": 5
}
