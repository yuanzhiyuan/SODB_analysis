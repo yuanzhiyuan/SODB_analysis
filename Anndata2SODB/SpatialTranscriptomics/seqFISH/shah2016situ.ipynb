{
 "cells": [
  {
   "cell_type": "code",
   "execution_count": null,
   "metadata": {},
   "outputs": [],
   "source": [
    "from soview import *\n",
    "import pandas as pd"
   ]
  },
  {
   "cell_type": "code",
   "execution_count": null,
   "metadata": {},
   "outputs": [],
   "source": [
    "seqfish_path = 'zhiyuanyuan/PUBDT/st/seqfish'\n",
    "h5ad_path = f'{seqfish_path}/hippo'"
   ]
  },
  {
   "cell_type": "code",
   "execution_count": null,
   "metadata": {},
   "outputs": [],
   "source": [
    "seqfish_raw_file1 = f'{seqfish_path}/hippo_raw/NIHMS820662-supplement-7.xlsx'"
   ]
  },
  {
   "cell_type": "code",
   "execution_count": null,
   "metadata": {},
   "outputs": [],
   "source": [
    "df_count = pd.read_excel(seqfish_raw_file1,sheet_name=0,header=None)\n",
    "df_fov = pd.read_excel(seqfish_raw_file1,sheet_name=1,header=None)\n",
    "df_spatial = pd.read_excel(seqfish_raw_file1,sheet_name=2,header=None)"
   ]
  },
  {
   "cell_type": "code",
   "execution_count": null,
   "metadata": {},
   "outputs": [],
   "source": [
    "df_count"
   ]
  },
  {
   "cell_type": "code",
   "execution_count": null,
   "metadata": {},
   "outputs": [],
   "source": [
    "adata = ad.AnnData(X = df_count.values[:,1:].astype('int').transpose())\n",
    "adata.var_names = [i[1:-1] for i in df_count.values[:,0]]"
   ]
  },
  {
   "cell_type": "code",
   "execution_count": null,
   "metadata": {},
   "outputs": [],
   "source": [
    "adata.obs['fov'] = df_fov.values[0,:]"
   ]
  },
  {
   "cell_type": "code",
   "execution_count": null,
   "metadata": {},
   "outputs": [],
   "source": [
    "df_spatial.values[:,:2]"
   ]
  },
  {
   "cell_type": "code",
   "execution_count": null,
   "metadata": {},
   "outputs": [],
   "source": [
    "adata.obsm['spatial_3d'] = df_spatial.values\n",
    "adata.obsm['spatial'] = df_spatial.values[:,:2]"
   ]
  },
  {
   "cell_type": "code",
   "execution_count": null,
   "metadata": {},
   "outputs": [],
   "source": [
    "for fov in np.unique(adata.obs['fov']):\n",
    "    cur_ad = adata[adata.obs['fov']==fov]\n",
    "    cur_ad.write_h5ad(f'{h5ad_path}/hippo_fov{fov}.h5ad')"
   ]
  },
  {
   "cell_type": "code",
   "execution_count": null,
   "metadata": {},
   "outputs": [],
   "source": [
    "from soview import *\n",
    "import shutil\n",
    "import os\n",
    "import gc\n",
    "\n",
    "root_path = 'zhiyuanyuan/projects/SODB/'\n",
    "source_h5ad_path = h5ad_path\n",
    "biotech_category = 'Spatial_Transcriptomics'\n",
    "biotech = 'seqFISH'\n",
    "# 多个单词要加下划线\n",
    "dataset_short = 'Shah2016InSitu'\n",
    "\n",
    "h5ad_list = os.listdir(source_h5ad_path)\n",
    "out_dataname_list = []\n",
    "out_h5ad_path_list = []\n",
    "out_feature_dict_list = []\n",
    "N_Unit_list = []\n",
    "N_Gene_list = []\n",
    "for hl in h5ad_list:\n",
    "    if not hl.endswith('.h5ad'):\n",
    "        continue\n",
    "    # source_h5ad_data = hl.split('.')[0]\n",
    "    source_h5ad_data = hl[0:-5]\n",
    "\n",
    "\n",
    "    source_h5ad = f'{source_h5ad_path}/{source_h5ad_data}.h5ad'\n",
    "\n",
    "    data_name = source_h5ad_data\n",
    "    \n",
    "    import os\n",
    "\n",
    "    path_rel = f'demo_data/{biotech_category}/{biotech}/{dataset_short}/{data_name}'\n",
    "    path_abs = root_path+path_rel\n",
    "    os.makedirs(path_abs, exist_ok=False)\n",
    "    print(\"The new directory is created!\")\n",
    "    shutil.copyfile(source_h5ad, f'{path_abs}/data.h5ad')\n",
    "    \n",
    "    \n",
    "    data_use = path_rel\n",
    "    adata = ad.read_h5ad(f'{root_path}{data_use}/data.h5ad')\n",
    "    print(adata.X)\n",
    "    print(f'h5ad path: {data_use}/data.h5ad')\n",
    "    \n",
    "    adata.obsm['spatial'] = np.array(adata.obsm['spatial'][:,[0,1]])\n",
    "    \n",
    "    adata.layers[\"counts\"] = adata.X.copy()\n",
    "    \n",
    "    # if np.sum(adata.X)==np.sum(adata.X.astype('int')):\n",
    "    if True:\n",
    "        # is all the element in adata.X are integer?\n",
    "    \n",
    "        sc.pp.normalize_per_cell(adata)\n",
    "        sc.pp.log1p(adata)\n",
    "    # if adata.shape[1]>=2000:\n",
    "    #     sc.pp.highly_variable_genes(adata, flavor=\"seurat\", n_top_genes=2000)\n",
    "    # else:\n",
    "    #     pass\n",
    "    \n",
    "\n",
    "    sc.pp.pca(adata)\n",
    "    sc.pp.neighbors(adata)\n",
    "    sc.tl.leiden(adata)\n",
    "    \n",
    "    sc.pl.embedding(adata,basis='spatial',color='leiden')\n",
    "    sc.tl.umap(adata,n_components=3)\n",
    "    SOViewer_plot(adata,embedding_use='X_umap',dot_size=10)\n",
    "    print(f'View path: {data_use}/View_UMAP_LAB.pdf')\n",
    "    \n",
    "    gene_list = np.array(adata.var_names).tolist()\n",
    "    obs_list = np.array(adata.obs.keys()).tolist()\n",
    "    obsm_list = []\n",
    "    for obsm in np.array(adata.obsm.keys()).tolist():\n",
    "        for i in range(adata.obsm[obsm].shape[1]):\n",
    "            cur_obsm = f'{obsm}@{i}'\n",
    "            obsm_list.append(cur_obsm)\n",
    "            \n",
    "    feature_dict = {\n",
    "        'gene':gene_list,\n",
    "        'obs':obs_list,\n",
    "        'obsm':obsm_list\n",
    "    }\n",
    "    \n",
    "    import pickle\n",
    "    with open(f'{root_path}{data_use}/feature_dict.pickle', 'wb') as handle:\n",
    "        pickle.dump(feature_dict, handle, protocol=pickle.HIGHEST_PROTOCOL)\n",
    "\n",
    "    print(f'把feature_dict写为: {data_use}/feature_dict.pickle')\n",
    "    \n",
    "    adata.write_h5ad(f'{root_path}{data_use}/data.h5ad')\n",
    "    out_dataname_list.append(source_h5ad_data)\n",
    "    out_h5ad_path_list.append(f'{data_use}/data.h5ad')\n",
    "    out_feature_dict_list.append(f'{data_use}/feature_dict.pickle')\n",
    "    N_Unit_list.append(adata.shape[0])\n",
    "    N_Gene_list.append(adata.shape[1])\n",
    "    \n",
    "    print(source_h5ad_data)\n",
    "    print(f'h5ad path: {data_use}/data.h5ad')\n",
    "    print(f'把feature_dict写为: {data_use}/feature_dict.pickle')\n",
    "    print(f'N_Unit: {adata.shape[0]}')\n",
    "    print(f'N_Gene: {adata.shape[1]}')\n",
    "    del adata\n",
    "    gc.collect()"
   ]
  },
  {
   "cell_type": "code",
   "execution_count": null,
   "metadata": {},
   "outputs": [],
   "source": []
  }
 ],
 "metadata": {
  "kernelspec": {
   "display_name": "SOView",
   "language": "python",
   "name": "soview"
  },
  "language_info": {
   "codemirror_mode": {
    "name": "ipython",
    "version": 3
   },
   "file_extension": ".py",
   "mimetype": "text/x-python",
   "name": "python",
   "nbconvert_exporter": "python",
   "pygments_lexer": "ipython3",
   "version": "3.9.7"
  }
 },
 "nbformat": 4,
 "nbformat_minor": 5
}
