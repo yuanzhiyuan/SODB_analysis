{
 "cells": [
  {
   "cell_type": "code",
   "execution_count": null,
   "metadata": {},
   "outputs": [],
   "source": [
    "from soview import *\n",
    "import pandas as pd"
   ]
  },
  {
   "cell_type": "code",
   "execution_count": null,
   "metadata": {},
   "outputs": [],
   "source": [
    "path = 'zhiyuanyuan/PUBDT/st/spatial-datasets/data/2018_starmap_3D_cortex'\n",
    "h5ad_path = 'zhiyuanyuan/PUBDT/st/starmap/h5ad'"
   ]
  },
  {
   "cell_type": "code",
   "execution_count": null,
   "metadata": {},
   "outputs": [],
   "source": [
    "location = pd.read_csv(f'{path}/cell_locations/STARmap_3D_data_cell_locations.txt',delimiter='\\t',header=None)"
   ]
  },
  {
   "cell_type": "code",
   "execution_count": null,
   "metadata": {},
   "outputs": [],
   "source": [
    "location"
   ]
  },
  {
   "cell_type": "code",
   "execution_count": null,
   "metadata": {},
   "outputs": [],
   "source": [
    "count = sc.read_csv(f'{path}/count_matrix/STARmap_3D_data_expression.txt',delimiter='\\t').transpose()"
   ]
  },
  {
   "cell_type": "code",
   "execution_count": null,
   "metadata": {},
   "outputs": [],
   "source": [
    "spatial_mat = []\n",
    "for i in range(count.shape[0]):\n",
    "    idx = int(count.obs_names[i].split('_')[1])\n",
    "    cord = location.iloc[idx-1]\n",
    "    spatial_mat.append([cord[0],cord[1],cord[2]])\n",
    "    # break\n",
    "spatial_mat = np.array(spatial_mat)"
   ]
  },
  {
   "cell_type": "code",
   "execution_count": null,
   "metadata": {},
   "outputs": [],
   "source": [
    "count.obsm['spatial'] = spatial_mat\n",
    "\n"
   ]
  },
  {
   "cell_type": "code",
   "execution_count": null,
   "metadata": {},
   "outputs": [],
   "source": [
    "count.write_h5ad(f'{h5ad_path}/data_3D.h5ad')"
   ]
  },
  {
   "cell_type": "code",
   "execution_count": null,
   "metadata": {},
   "outputs": [],
   "source": [
    "sc.pp.normalize_per_cell(count)\n",
    "sc.pp.neighbors(count)\n",
    "sc.tl.umap(count)\n",
    "sc.tl.leiden(count)"
   ]
  },
  {
   "cell_type": "code",
   "execution_count": null,
   "metadata": {},
   "outputs": [],
   "source": [
    "count.obsm['spatial_xy'] = count.obsm['spatial'][:,[0,1]]"
   ]
  },
  {
   "cell_type": "code",
   "execution_count": null,
   "metadata": {},
   "outputs": [],
   "source": [
    "sc.pl.embedding(count,basis='spatial_xy')"
   ]
  },
  {
   "cell_type": "code",
   "execution_count": null,
   "metadata": {
    "tags": []
   },
   "outputs": [],
   "source": [
    "sns.displot(adata.obsm['spatial'][:,1])"
   ]
  },
  {
   "cell_type": "code",
   "execution_count": null,
   "metadata": {},
   "outputs": [],
   "source": [
    "adata = sc.read_h5ad(f'{h5ad_path}/data_3D.h5ad')"
   ]
  },
  {
   "cell_type": "code",
   "execution_count": null,
   "metadata": {},
   "outputs": [],
   "source": [
    "adata.obs['x'] = adata.obsm['spatial'][:,0]\n",
    "adata.obs['y'] = adata.obsm['spatial'][:,1]\n",
    "adata.obs['z'] = adata.obsm['spatial'][:,2]"
   ]
  },
  {
   "cell_type": "code",
   "execution_count": null,
   "metadata": {},
   "outputs": [],
   "source": [
    "adata.write_h5ad(f'{h5ad_path}/data_3D.h5ad')"
   ]
  },
  {
   "cell_type": "code",
   "execution_count": null,
   "metadata": {},
   "outputs": [],
   "source": [
    "z_min = adata.obsm['spatial'][:,2].min()\n",
    "z_max = adata.obsm['spatial'][:,2].max()\n",
    "# z_step = 10"
   ]
  },
  {
   "cell_type": "code",
   "execution_count": null,
   "metadata": {},
   "outputs": [],
   "source": [
    "z_min"
   ]
  },
  {
   "cell_type": "code",
   "execution_count": null,
   "metadata": {},
   "outputs": [],
   "source": [
    "z_max"
   ]
  },
  {
   "cell_type": "code",
   "execution_count": null,
   "metadata": {
    "tags": []
   },
   "outputs": [],
   "source": [
    "z_step_range = np.arange(10,50,5)\n",
    "# z_step_range = [5,10,15]\n",
    "for z_step in z_step_range:\n",
    "    z_range = np.arange(z_min,z_max,z_step)    \n",
    "    for i in range(len(z_range)-1):\n",
    "        a_sub = adata[adata.obsm['spatial'][:,2]>=z_range[i]]\n",
    "        a_sub = a_sub[a_sub.obsm['spatial'][:,2]<z_range[i+1]]\n",
    "        a_sub.write_h5ad(f'{h5ad_path}/data_2D_zstep{z_step}_{i}.h5ad')\n",
    "        print(z_step,a_sub.shape)\n",
    "    # if adata.obs['z']>=z_range[i] and adata.obs['z']<z_range[i+1]:\n",
    "        "
   ]
  },
  {
   "cell_type": "code",
   "execution_count": null,
   "metadata": {
    "tags": []
   },
   "outputs": [],
   "source": [
    "from soview import *\n",
    "import shutil\n",
    "import os\n",
    "import gc\n",
    "\n",
    "root_path = 'zhiyuanyuan/projects/SODB/'\n",
    "source_h5ad_path = h5ad_path\n",
    "biotech_category = 'Spatial_Transcriptomics'\n",
    "biotech = 'STARmap'\n",
    "# 多个单词要加下划线\n",
    "dataset_short = 'Wang2018three'\n",
    "\n",
    "h5ad_list = os.listdir(source_h5ad_path)\n",
    "out_dataname_list = []\n",
    "out_h5ad_path_list = []\n",
    "out_feature_dict_list = []\n",
    "N_Unit_list = []\n",
    "N_Gene_list = []\n",
    "for hl in h5ad_list:\n",
    "    if not hl.endswith('.h5ad'):\n",
    "        continue\n",
    "    # source_h5ad_data = hl.split('.')[0]\n",
    "    source_h5ad_data = hl[0:-5]\n",
    "\n",
    "\n",
    "    source_h5ad = f'{source_h5ad_path}/{source_h5ad_data}.h5ad'\n",
    "\n",
    "    data_name = source_h5ad_data\n",
    "    \n",
    "    import os\n",
    "\n",
    "    path_rel = f'demo_data/{biotech_category}/{biotech}/{dataset_short}/{data_name}'\n",
    "    path_abs = root_path+path_rel\n",
    "    os.makedirs(path_abs, exist_ok=False)\n",
    "    print(\"The new directory is created!\")\n",
    "    shutil.copyfile(source_h5ad, f'{path_abs}/data.h5ad')\n",
    "    \n",
    "    \n",
    "    data_use = path_rel\n",
    "    adata = ad.read_h5ad(f'{root_path}{data_use}/data.h5ad')\n",
    "    print(adata.X)\n",
    "    print(f'h5ad path: {data_use}/data.h5ad')\n",
    "    \n",
    "    adata.obsm['spatial'] = np.array(adata.obsm['spatial'][:,[0,1]])\n",
    "    \n",
    "    adata.layers[\"counts\"] = adata.X.copy()\n",
    "    \n",
    "    # if np.sum(adata.X)==np.sum(adata.X.astype('int')):\n",
    "    if True:\n",
    "        # is all the element in adata.X are integer?\n",
    "    \n",
    "        sc.pp.normalize_per_cell(adata)\n",
    "        # sc.pp.log1p(adata)\n",
    "    if adata.shape[1]>=2000:\n",
    "        sc.pp.highly_variable_genes(adata, flavor=\"seurat\", n_top_genes=2000)\n",
    "    else:\n",
    "        pass\n",
    "    \n",
    "\n",
    "    # sc.pp.pca(adata)\n",
    "    sc.pp.neighbors(adata)\n",
    "    sc.tl.leiden(adata)\n",
    "    \n",
    "    sc.pl.embedding(adata,basis='spatial',color='leiden')\n",
    "    sc.tl.umap(adata,n_components=3)\n",
    "    SOViewer_plot(adata,embedding_use='X_umap',dot_size=10)\n",
    "    print(f'View path: {data_use}/View_UMAP_LAB.pdf')\n",
    "    \n",
    "    gene_list = np.array(adata.var_names).tolist()\n",
    "    obs_list = np.array(adata.obs.keys()).tolist()\n",
    "    obsm_list = []\n",
    "    for obsm in np.array(adata.obsm.keys()).tolist():\n",
    "        for i in range(adata.obsm[obsm].shape[1]):\n",
    "            cur_obsm = f'{obsm}@{i}'\n",
    "            obsm_list.append(cur_obsm)\n",
    "            \n",
    "    feature_dict = {\n",
    "        'gene':gene_list,\n",
    "        'obs':obs_list,\n",
    "        'obsm':obsm_list\n",
    "    }\n",
    "    \n",
    "    import pickle\n",
    "    with open(f'{root_path}{data_use}/feature_dict.pickle', 'wb') as handle:\n",
    "        pickle.dump(feature_dict, handle, protocol=pickle.HIGHEST_PROTOCOL)\n",
    "\n",
    "    print(f'把feature_dict写为: {data_use}/feature_dict.pickle')\n",
    "    \n",
    "    adata.write_h5ad(f'{root_path}{data_use}/data.h5ad')\n",
    "    out_dataname_list.append(source_h5ad_data)\n",
    "    out_h5ad_path_list.append(f'{data_use}/data.h5ad')\n",
    "    out_feature_dict_list.append(f'{data_use}/feature_dict.pickle')\n",
    "    N_Unit_list.append(adata.shape[0])\n",
    "    N_Gene_list.append(adata.shape[1])\n",
    "    \n",
    "    print(source_h5ad_data)\n",
    "    print(f'h5ad path: {data_use}/data.h5ad')\n",
    "    print(f'把feature_dict写为: {data_use}/feature_dict.pickle')\n",
    "    print(f'N_Unit: {adata.shape[0]}')\n",
    "    print(f'N_Gene: {adata.shape[1]}')\n",
    "    del adata\n",
    "    gc.collect()"
   ]
  },
  {
   "cell_type": "code",
   "execution_count": null,
   "metadata": {},
   "outputs": [],
   "source": [
    "np.array(out_dataname_list).dump('out_dataname_list.npy')\n",
    "np.array(out_h5ad_path_list).dump('out_h5ad_path_list.npy')\n",
    "np.array(out_feature_dict_list).dump('out_feature_dict_list.npy')\n",
    "np.array(N_Unit_list).dump('N_Unit_list.npy')\n",
    "np.array(N_Gene_list).dump('N_Gene_list.npy')"
   ]
  },
  {
   "cell_type": "code",
   "execution_count": null,
   "metadata": {},
   "outputs": [],
   "source": [
    "1+1"
   ]
  },
  {
   "cell_type": "code",
   "execution_count": null,
   "metadata": {},
   "outputs": [],
   "source": [
    "for i in out_dataname_list:\n",
    "    print(i)"
   ]
  },
  {
   "cell_type": "code",
   "execution_count": null,
   "metadata": {},
   "outputs": [],
   "source": [
    "for i in out_h5ad_path_list:\n",
    "    print(i)"
   ]
  },
  {
   "cell_type": "code",
   "execution_count": null,
   "metadata": {},
   "outputs": [],
   "source": [
    "for i in out_feature_dict_list:\n",
    "    print(i)"
   ]
  },
  {
   "cell_type": "code",
   "execution_count": null,
   "metadata": {},
   "outputs": [],
   "source": [
    "for i in N_Unit_list:\n",
    "    print(i)"
   ]
  },
  {
   "cell_type": "code",
   "execution_count": null,
   "metadata": {},
   "outputs": [],
   "source": [
    "for i in N_Gene_list:\n",
    "    print(i)"
   ]
  },
  {
   "cell_type": "code",
   "execution_count": null,
   "metadata": {},
   "outputs": [],
   "source": []
  }
 ],
 "metadata": {
  "kernelspec": {
   "display_name": "SOView",
   "language": "python",
   "name": "soview"
  },
  "language_info": {
   "codemirror_mode": {
    "name": "ipython",
    "version": 3
   },
   "file_extension": ".py",
   "mimetype": "text/x-python",
   "name": "python",
   "nbconvert_exporter": "python",
   "pygments_lexer": "ipython3",
   "version": "3.9.7"
  }
 },
 "nbformat": 4,
 "nbformat_minor": 5
}
