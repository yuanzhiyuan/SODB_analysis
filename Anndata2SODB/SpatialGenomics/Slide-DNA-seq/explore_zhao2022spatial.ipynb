{
 "cells": [
  {
   "cell_type": "code",
   "execution_count": null,
   "metadata": {},
   "outputs": [],
   "source": [
    "from soview import *\n",
    "import shutil\n",
    "import os\n",
    "import gc"
   ]
  },
  {
   "cell_type": "code",
   "execution_count": null,
   "metadata": {},
   "outputs": [],
   "source": [
    "import pandas as pd"
   ]
  },
  {
   "cell_type": "code",
   "execution_count": null,
   "metadata": {},
   "outputs": [],
   "source": [
    "raw_path = 'zhiyuanyuan/PUBDT/st/slideDNAseq/original/data/ft_local/slide-DNA-seq'\n",
    "h5ad_path = 'zhiyuanyuan/PUBDT/st/slideDNAseq/original/h5ad'\n",
    "# sample = 'DNAseqFISH+1Mbloci-E14-clonal24hr'\n",
    "\n"
   ]
  },
  {
   "cell_type": "code",
   "execution_count": null,
   "metadata": {},
   "outputs": [],
   "source": [
    "def get_adata(var_dict,count_file,delimiter,molecule):\n",
    "    var_len = len(var_dict)\n",
    "    count_pd = pd.read_csv(f'{raw_path}/{count_file}',delimiter=delimiter)\n",
    "    count_sparse = count_pd.values\n",
    "    if molecule=='dna':\n",
    "        cell_len = count_sparse[:,0].max()\n",
    "    elif molecule=='rna':\n",
    "        cell_len = count_sparse[:,1].max()\n",
    "    # print(cell_len,var_len)\n",
    "    # print(count_sparse[:,1].max(),count_sparse[:,0].max())\n",
    "    count_mat = np.zeros(shape=(cell_len,var_len))\n",
    "    \n",
    "    for i in range(count_sparse.shape[0]):\n",
    "        if molecule=='dna':\n",
    "            cell_idx = count_sparse[i][0]\n",
    "            var_idx = count_sparse[i][1]\n",
    "        elif molecule=='rna':\n",
    "            cell_idx = count_sparse[i][1]\n",
    "            var_idx = count_sparse[i][0]\n",
    "        count = count_sparse[i][2]\n",
    "        count_mat[cell_idx-1,var_idx-1] = count\n",
    "    adata = ad.AnnData(count_mat)\n",
    "    adata.var_names = [var_dict[i+1] for i in range(len(var_dict))]\n",
    "    adata.obs_names = list(np.arange(cell_len).astype('str'))\n",
    "    return adata"
   ]
  },
  {
   "cell_type": "code",
   "execution_count": null,
   "metadata": {},
   "outputs": [],
   "source": [
    "for file_name in os.listdir(raw_path):\n",
    "    file_sp = file_name.split('.')\n",
    "    if len(file_sp)!=3:\n",
    "        continue\n",
    "    print(file_sp[0],file_sp[1])\n",
    "        "
   ]
  },
  {
   "cell_type": "code",
   "execution_count": null,
   "metadata": {},
   "outputs": [],
   "source": [
    "human_dna_var_file = f'{raw_path}/hg19_1Mb_bins.txt'\n",
    "human_rna_var_file = f'{raw_path}/human_genes.txt'\n",
    "mouse_dna_var_file = f'{raw_path}/mm10_1Mb_bins.txt'\n",
    "mouse_rna_var_file = f'{raw_path}/mouse_genes.txt'"
   ]
  },
  {
   "cell_type": "code",
   "execution_count": null,
   "metadata": {},
   "outputs": [],
   "source": [
    "pd_human_dna = pd.read_csv(human_dna_var_file,delimiter='\\t')\n",
    "human_dna_var_dict = {}\n",
    "for i in range(len(pd_human_dna)):\n",
    "    bin_id = pd_human_dna['bin_ind'][i]\n",
    "    chr_id = pd_human_dna['chr'][i]\n",
    "    bin_st = pd_human_dna['bin_start'][i]\n",
    "    bin_ed = pd_human_dna['bin_end'][i]    \n",
    "    human_dna_var_dict[bin_id] = f'{chr_id}_{bin_st}_{bin_ed}'"
   ]
  },
  {
   "cell_type": "code",
   "execution_count": null,
   "metadata": {},
   "outputs": [],
   "source": [
    "pd_mouse_dna = pd.read_csv(mouse_dna_var_file,delimiter='\\t')\n",
    "mouse_dna_var_dict = {}\n",
    "for i in range(len(pd_mouse_dna)):\n",
    "    bin_id = pd_mouse_dna['bin_ind'][i]\n",
    "    chr_id = pd_mouse_dna['chr'][i]\n",
    "    bin_st = pd_mouse_dna['bin_start'][i]\n",
    "    bin_ed = pd_mouse_dna['bin_end'][i]    \n",
    "    mouse_dna_var_dict[bin_id] = f'{chr_id}_{bin_st}_{bin_ed}'"
   ]
  },
  {
   "cell_type": "code",
   "execution_count": null,
   "metadata": {},
   "outputs": [],
   "source": [
    "pd_human_rna = pd.read_csv(human_rna_var_file,delimiter='\\t')\n",
    "rna_list = list(pd_human_rna.values[:,0])\n",
    "id_list = list(np.arange(len(rna_list))+1)\n",
    "human_rna_var_dict = dict(zip(id_list,rna_list))"
   ]
  },
  {
   "cell_type": "code",
   "execution_count": null,
   "metadata": {
    "tags": []
   },
   "outputs": [],
   "source": [
    "pd_mouse_rna = pd.read_csv(mouse_rna_var_file,delimiter='\\t')\n",
    "rna_list = list(pd_mouse_rna.values[:,0])\n",
    "id_list = list(np.arange(len(rna_list))+1)\n",
    "mouse_rna_var_dict = dict(zip(id_list,rna_list))"
   ]
  },
  {
   "cell_type": "code",
   "execution_count": null,
   "metadata": {},
   "outputs": [],
   "source": [
    "sample_file_list = [\n",
    "    [\n",
    "        'human_colon_cancer_3_dna_191204_19.bead_locations.csv',\n",
    "        'human_colon_cancer_3_dna_191204_19.sparse_counts_1Mb.txt'\n",
    "    ],\n",
    "    [\n",
    "        'human_colon_cancer_4_dna_200114_13.bead_locations.csv',\n",
    "        'human_colon_cancer_4_dna_200114_13.sparse_counts_1Mb.txt'\n",
    "    ],\n",
    "    [\n",
    "        'human_colon_cancer_4_rna_200102_06.bead_locations.csv',\n",
    "        'human_colon_cancer_4_rna_200102_06.sparse_expression.txt'\n",
    "    ],\n",
    "    [\n",
    "        'human_colon_cancer_dna_4x_201027_12.bead_locations.csv',\n",
    "        'human_colon_cancer_dna_4x_201027_12.sparse_counts_1Mb.txt'\n",
    "    ],\n",
    "    [\n",
    "        'mouse_cerebellum_1_dna_190201_21.bead_locations.csv',\n",
    "        'mouse_cerebellum_1_dna_190201_21.sparse_counts_1Mb.txt'\n",
    "    ],\n",
    "    [\n",
    "        'mouse_cerebellum_1_dna_200114_14.bead_locations.csv',\n",
    "        'mouse_cerebellum_1_dna_200114_14.sparse_counts_1Mb.txt'\n",
    "    ],\n",
    "    [\n",
    "        'mouse_cerebellum_dna_4x_201027_17.bead_locations.csv',\n",
    "        'mouse_cerebellum_dna_4x_201027_17.sparse_counts_1Mb.txt'\n",
    "    ],\n",
    "    [\n",
    "        'mouse_liver_met_1_dna_191114_05.bead_locations.csv',\n",
    "        'mouse_liver_met_1_dna_191114_05.sparse_counts_1Mb.txt'\n",
    "    ],\n",
    "    [\n",
    "        'mouse_liver_met_1_dna_191114_06.bead_locations.csv',\n",
    "        'mouse_liver_met_1_dna_191114_06.sparse_counts_1Mb.txt'\n",
    "    ],\n",
    "    [\n",
    "        'mouse_liver_met_2_dna_200114_10.bead_locations.csv',\n",
    "        'mouse_liver_met_2_dna_200114_10.sparse_counts_1Mb.txt'\n",
    "    ],\n",
    "    [\n",
    "        'mouse_liver_met_2_rna_201002_04.bead_locations.csv',\n",
    "        'mouse_liver_met_2_rna_201002_04.sparse_expression.txt'\n",
    "    ]\n",
    "    \n",
    "]"
   ]
  },
  {
   "cell_type": "code",
   "execution_count": null,
   "metadata": {},
   "outputs": [],
   "source": [
    "for i in range(len(sample_file_list)):\n",
    "    count_file = sample_file_list[i][1]\n",
    "    coord_file = sample_file_list[i][0]\n",
    "    sample_name = coord_file.split('.')[0]\n",
    "    if 'dna' in count_file and 'human' in count_file:\n",
    "        var_dict = human_dna_var_dict\n",
    "        delimiter = '\\t'\n",
    "        molecule = 'dna'\n",
    "    if 'dna' in count_file and 'mouse' in count_file:\n",
    "        var_dict = mouse_dna_var_dict\n",
    "        delimiter = '\\t'\n",
    "        molecule = 'dna'\n",
    "\n",
    "\n",
    "    if 'rna' in count_file and 'human' in count_file:\n",
    "        var_dict = human_rna_var_dict\n",
    "        delimiter = ','\n",
    "        molecule = 'rna'\n",
    "\n",
    "\n",
    "    if 'rna' in count_file and 'mouse' in count_file:\n",
    "        var_dict = mouse_rna_var_dict        \n",
    "        delimiter = ','\n",
    "        molecule = 'rna'\n",
    "\n",
    "\n",
    "\n",
    "    adata = get_adata(var_dict,count_file,delimiter,molecule)\n",
    "    spatial_mat = coord_pd = pd.read_csv(f'{raw_path}/{coord_file}').values[:,1:3]\n",
    "    adata.obsm['spatial'] = spatial_mat.astype('float')\n",
    "    print(sample_name,adata.shape)\n",
    "    \n",
    "\n",
    "    adata.write_h5ad(f'{h5ad_path}/{sample_name}.h5ad')\n",
    "    del adata\n",
    "    gc.collect()"
   ]
  },
  {
   "cell_type": "code",
   "execution_count": null,
   "metadata": {},
   "outputs": [],
   "source": [
    "h5ad_path"
   ]
  },
  {
   "cell_type": "code",
   "execution_count": null,
   "metadata": {},
   "outputs": [],
   "source": [
    "from soview import *\n",
    "import shutil\n",
    "import os\n",
    "import gc\n",
    "\n",
    "root_path = '/aaa/jianhuayao/project2/zhiyuanyuan/projects/SODB/'\n",
    "source_h5ad_path = h5ad_path\n",
    "biotech_category = 'Spatial_Genomics'\n",
    "biotech = 'Slide-DNA-seq'\n",
    "# 多个单词要加下划线\n",
    "dataset_short = 'zhao2022spatial'\n",
    "\n",
    "h5ad_list = os.listdir(source_h5ad_path)\n",
    "out_dataname_list = []\n",
    "out_h5ad_path_list = []\n",
    "out_feature_dict_list = []\n",
    "N_Unit_list = []\n",
    "N_Gene_list = []\n",
    "for hl in h5ad_list:\n",
    "    if not hl.endswith('.h5ad'):\n",
    "        continue\n",
    "    if hl=='HDST.h5ad':\n",
    "        continue\n",
    "    # source_h5ad_data = hl.split('.')[0]\n",
    "    source_h5ad_data = hl[0:-5]\n",
    "\n",
    "\n",
    "    source_h5ad = f'{source_h5ad_path}/{source_h5ad_data}.h5ad'\n",
    "\n",
    "    data_name = source_h5ad_data\n",
    "    \n",
    "    import os\n",
    "\n",
    "    path_rel = f'demo_data/{biotech_category}/{biotech}/{dataset_short}/{data_name}'\n",
    "    path_abs = root_path+path_rel\n",
    "    os.makedirs(path_abs, exist_ok=False)\n",
    "    print(\"The new directory is created!\")\n",
    "    shutil.copyfile(source_h5ad, f'{path_abs}/data.h5ad')\n",
    "    \n",
    "    \n",
    "    data_use = path_rel\n",
    "    adata = ad.read_h5ad(f'{root_path}{data_use}/data.h5ad')\n",
    "    print(adata.X)\n",
    "    print(f'h5ad path: {data_use}/data.h5ad')\n",
    "    \n",
    "    adata.obsm['spatial'] = np.array(adata.obsm['spatial']).astype('float')\n",
    "    \n",
    "    adata.layers[\"counts\"] = adata.X.copy()\n",
    "    \n",
    "#     # if np.sum(adata.X)==np.sum(adata.X.astype('int')):\n",
    "    if True:\n",
    "\n",
    "\n",
    "# #         # is all the element in adata.X are integer?\n",
    "    \n",
    "        sc.pp.normalize_total(adata, inplace=True)\n",
    "        sc.pp.log1p(adata)\n",
    "    if adata.shape[1]>=2000:\n",
    "        sc.pp.highly_variable_genes(adata, flavor=\"seurat\", n_top_genes=2000)\n",
    "    else:\n",
    "        pass\n",
    "    \n",
    "\n",
    "    sc.pp.pca(adata)\n",
    "    sc.pp.neighbors(adata)\n",
    "    sc.tl.leiden(adata)\n",
    "    \n",
    "    sc.pl.embedding(adata,basis='spatial',color='leiden')\n",
    "    sc.tl.umap(adata,n_components=3)\n",
    "    SOViewer_plot(adata,embedding_use='X_umap',dot_size=10)\n",
    "    print(f'View path: {data_use}/View_UMAP_LAB.pdf')\n",
    "    \n",
    "    gene_list = np.array(adata.var_names).tolist()\n",
    "    obs_list = np.array(adata.obs.keys()).tolist()\n",
    "    obsm_list = []\n",
    "    for obsm in np.array(adata.obsm.keys()).tolist():\n",
    "        for i in range(adata.obsm[obsm].shape[1]):\n",
    "            cur_obsm = f'{obsm}@{i}'\n",
    "            obsm_list.append(cur_obsm)\n",
    "            \n",
    "    feature_dict = {\n",
    "        'gene':gene_list,\n",
    "        'obs':obs_list,\n",
    "        'obsm':obsm_list\n",
    "    }\n",
    "    \n",
    "    import pickle\n",
    "    with open(f'{root_path}{data_use}/feature_dict.pickle', 'wb') as handle:\n",
    "        pickle.dump(feature_dict, handle, protocol=pickle.HIGHEST_PROTOCOL)\n",
    "\n",
    "    print(f'把feature_dict写为: {data_use}/feature_dict.pickle')\n",
    "    \n",
    "    adata.write_h5ad(f'{root_path}{data_use}/data.h5ad')\n",
    "    out_dataname_list.append(source_h5ad_data)\n",
    "    out_h5ad_path_list.append(f'{data_use}/data.h5ad')\n",
    "    out_feature_dict_list.append(f'{data_use}/feature_dict.pickle')\n",
    "    N_Unit_list.append(adata.shape[0])\n",
    "    N_Gene_list.append(adata.shape[1])\n",
    "    \n",
    "    print(source_h5ad_data)\n",
    "    print(f'h5ad path: {data_use}/data.h5ad')\n",
    "    print(f'把feature_dict写为: {data_use}/feature_dict.pickle')\n",
    "    print(f'N_Unit: {adata.shape[0]}')\n",
    "    print(f'N_Gene: {adata.shape[1]}')\n",
    "    del adata\n",
    "    gc.collect()"
   ]
  },
  {
   "cell_type": "code",
   "execution_count": null,
   "metadata": {},
   "outputs": [],
   "source": []
  },
  {
   "cell_type": "code",
   "execution_count": null,
   "metadata": {},
   "outputs": [],
   "source": [
    "for i in out_dataname_list:\n",
    "    print(i)"
   ]
  },
  {
   "cell_type": "code",
   "execution_count": null,
   "metadata": {},
   "outputs": [],
   "source": [
    "for i in out_h5ad_path_list:\n",
    "    print(i)"
   ]
  },
  {
   "cell_type": "code",
   "execution_count": null,
   "metadata": {},
   "outputs": [],
   "source": [
    "for i in out_feature_dict_list:\n",
    "    print(i)"
   ]
  },
  {
   "cell_type": "code",
   "execution_count": null,
   "metadata": {},
   "outputs": [],
   "source": [
    "for i in N_Unit_list:\n",
    "    print(i)"
   ]
  },
  {
   "cell_type": "code",
   "execution_count": null,
   "metadata": {},
   "outputs": [],
   "source": [
    "for i in N_Gene_list:\n",
    "    print(i)"
   ]
  },
  {
   "cell_type": "code",
   "execution_count": null,
   "metadata": {},
   "outputs": [],
   "source": []
  }
 ],
 "metadata": {
  "kernelspec": {
   "display_name": "SOView",
   "language": "python",
   "name": "soview"
  },
  "language_info": {
   "codemirror_mode": {
    "name": "ipython",
    "version": 3
   },
   "file_extension": ".py",
   "mimetype": "text/x-python",
   "name": "python",
   "nbconvert_exporter": "python",
   "pygments_lexer": "ipython3",
   "version": "3.9.7"
  }
 },
 "nbformat": 4,
 "nbformat_minor": 5
}
