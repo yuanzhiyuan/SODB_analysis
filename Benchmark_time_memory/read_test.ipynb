{
 "cells": [
  {
   "cell_type": "code",
   "execution_count": 3,
   "metadata": {},
   "outputs": [],
   "source": [
    "import scanpy as sc\n",
    "import gc"
   ]
  },
  {
   "cell_type": "code",
   "execution_count": 4,
   "metadata": {},
   "outputs": [
    {
     "name": "stdout",
     "output_type": "stream",
     "text": [
      "/home/yzy/projects/SODB/data_append/0/demo_data/Spatial_Transcriptomics/HDST/Vickovic2019high_update/BC_CN21C1/data.h5ad (36782, 20750)\n",
      "/home/yzy/projects/SODB/data_append/0/demo_data/Spatial_Transcriptomics/HDST/Vickovic2019high_update/BC_CN21E2/data.h5ad (37958, 21559)\n",
      "/home/yzy/projects/SODB/data_append/0/demo_data/Spatial_Transcriptomics/HDST/Vickovic2019high_update/MOB_CN24E1/data.h5ad (22229, 18652)\n",
      "/home/yzy/projects/SODB/data_append/0/demo_data/Spatial_Transcriptomics/HDST/Vickovic2019high_update/MOB_CN13D2/data.h5ad (33748, 14909)\n",
      "/home/yzy/projects/SODB/data_append/0/demo_data/Spatial_Transcriptomics/HDST/Vickovic2019high_update/BC_CN21D1/data.h5ad (35744, 18050)\n"
     ]
    }
   ],
   "source": [
    "import os\n",
    "rootdir = '/home/yzy/projects/SODB/data_append/0/demo_data'\n",
    "for subdir, dirs, files in os.walk(rootdir):\n",
    "    for file in files:\n",
    "        file_whole = os.path.join(subdir, file)\n",
    "\n",
    "\n",
    "        if file.endswith('.h5ad'):\n",
    "\n",
    "            adata = sc.read_h5ad(file_whole)\n",
    "            print(file_whole,adata.shape)\n",
    "            del adata\n",
    "            gc.collect()\n",
    "        else:\n",
    "            continue"
   ]
  },
  {
   "cell_type": "code",
   "execution_count": 5,
   "metadata": {},
   "outputs": [
    {
     "name": "stdout",
     "output_type": "stream",
     "text": [
      "/home/yzy/projects/demo_data/Spatial_Transcriptomics/Slide-seqV2/chen2021dissecting/Diabetes_2/data_whole.h5ad (42776, 24263)\n",
      "/home/yzy/projects/demo_data/Spatial_Transcriptomics/Slide-seqV2/chen2021dissecting/Diabetes_2/data.h5ad (42776, 1000)\n",
      "/home/yzy/projects/demo_data/Spatial_Transcriptomics/Slide-seqV2/chen2021dissecting/WT2/data_whole.h5ad (33059, 23741)\n",
      "/home/yzy/projects/demo_data/Spatial_Transcriptomics/Slide-seqV2/chen2021dissecting/WT2/data.h5ad (33059, 1000)\n",
      "/home/yzy/projects/demo_data/Spatial_Transcriptomics/Slide-seqV2/chen2021dissecting/WT3/data_whole.h5ad (39206, 23705)\n",
      "/home/yzy/projects/demo_data/Spatial_Transcriptomics/Slide-seqV2/chen2021dissecting/WT3/data.h5ad (39206, 1000)\n",
      "/home/yzy/projects/demo_data/Spatial_Transcriptomics/Slide-seqV2/chen2021dissecting/WT1/data_whole.h5ad (31659, 24450)\n",
      "/home/yzy/projects/demo_data/Spatial_Transcriptomics/Slide-seqV2/chen2021dissecting/WT1/data.h5ad (31659, 1000)\n",
      "/home/yzy/projects/demo_data/Spatial_Transcriptomics/Slide-seqV2/chen2021dissecting/Diabetes_1/data_whole.h5ad (27194, 24420)\n",
      "/home/yzy/projects/demo_data/Spatial_Transcriptomics/Slide-seqV2/chen2021dissecting/Diabetes_1/data.h5ad (27194, 1000)\n",
      "/home/yzy/projects/demo_data/Spatial_Transcriptomics/Slide-seqV2/chen2021dissecting/Diabetes_3/data_whole.h5ad (33441, 23514)\n",
      "/home/yzy/projects/demo_data/Spatial_Transcriptomics/Slide-seqV2/chen2021dissecting/Diabetes_3/data.h5ad (33441, 1000)\n"
     ]
    }
   ],
   "source": [
    "import os\n",
    "rootdir = '/home/yzy/projects/demo_data/Spatial_Transcriptomics/Slide-seqV2/chen2021dissecting'\n",
    "\n",
    "for subdir, dirs, files in os.walk(rootdir):\n",
    "    for file in files:\n",
    "        file_whole = os.path.join(subdir, file)\n",
    "\n",
    "\n",
    "        if file.endswith('.h5ad'):\n",
    "\n",
    "            adata = sc.read_h5ad(file_whole)\n",
    "            print(file_whole,adata.shape)\n",
    "            del adata\n",
    "            gc.collect()\n",
    "        else:\n",
    "            continue"
   ]
  },
  {
   "cell_type": "code",
   "execution_count": null,
   "metadata": {},
   "outputs": [],
   "source": []
  }
 ],
 "metadata": {
  "kernelspec": {
   "display_name": "SODB",
   "language": "python",
   "name": "sodb"
  },
  "language_info": {
   "codemirror_mode": {
    "name": "ipython",
    "version": 3
   },
   "file_extension": ".py",
   "mimetype": "text/x-python",
   "name": "python",
   "nbconvert_exporter": "python",
   "pygments_lexer": "ipython3",
   "version": "3.9.12"
  }
 },
 "nbformat": 4,
 "nbformat_minor": 4
}
